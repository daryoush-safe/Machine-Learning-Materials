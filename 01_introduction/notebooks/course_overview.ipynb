{
 "cells": [
  {
   "cell_type": "markdown",
   "id": "11304a1b",
   "metadata": {},
   "source": [
    "# Course Overview"
   ]
  },
  {
   "cell_type": "markdown",
   "id": "a4add32c",
   "metadata": {},
   "source": [
    "* **Supervised Learning**  \n",
    "    Learn to predict outcomes using labeled data\n",
    "\n",
    "* **Unsupervised Learning**  \n",
    "    Find patterns in unlabeled data\n",
    "\n",
    "* **Reinforcement Learning**  \n",
    "    Partial(indirect) feedback, no explicit guidance  \n",
    "    Given reward for a sequence of moves to learn a policy and utility function\n",
    "\n",
    "* **Neural Networks**  \n",
    "    Mimic the human brain to solve complex tasks    \n",
    "\n",
    "* **Computer Vision**  \n",
    "    Enable machines to see and interpret images    \n",
    "\n",
    "* **Natural Language Processing (NLP)**  \n",
    "    Understand and generate human language in text or voice format\n",
    "\n",
    "* **Contrastive Language-Image Pre training (CLIP)**  \n",
    "    Connecting text and images"
   ]
  },
  {
   "cell_type": "markdown",
   "id": "37ebc8c2",
   "metadata": {},
   "source": [
    "# What is Machine Learning?"
   ]
  },
  {
   "cell_type": "markdown",
   "id": "9c6a0a61",
   "metadata": {},
   "source": [
    "* A field of study that enables computers to learn from data without being explicitly programmed.\n",
    "\n",
    "\n",
    "* Tom Mitchel (1998): Well-posed learning problem:  \n",
    "    A computer program is said to learn from **experience E** with respect to some class of **tasks T** and **performance measure P**, if its performance at tasks in **T**, as measured by **P**, improves with experience **E**.  \n",
    "    Learning Problem = (T,P,E)\n",
    "\n",
    "* Goal:  \n",
    "    Develop models that make accurate predictions based on past data.\n",
    "\n",
    "* The essence of machine learning:\n",
    "    1. A pattern exists  \n",
    "    2. We do not know it mathematically  \n",
    "    3. We have data on it"
   ]
  }
 ],
 "metadata": {
  "language_info": {
   "name": "python"
  }
 },
 "nbformat": 4,
 "nbformat_minor": 5
}
