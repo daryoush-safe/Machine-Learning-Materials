{
 "cells": [
  {
   "cell_type": "markdown",
   "id": "c80fbdcc",
   "metadata": {},
   "source": [
    "# Supervised Learning Introduction"
   ]
  },
  {
   "cell_type": "markdown",
   "id": "d4f836c4",
   "metadata": {},
   "source": [
    "**Definition:** A form of machine learning where the model learns from labeled data ${(xi, yi)}$ to predict an output y given an input x.\n",
    "\n",
    "**Goal:**  Estimate a function $f : R^D \\rightarrow R$, such that $y = f(x) + \\epsilon$, where $\\epsilon$ always is noise."
   ]
  },
  {
   "cell_type": "markdown",
   "id": "e0b49ccf",
   "metadata": {},
   "source": [
    "## Learning Model"
   ]
  },
  {
   "cell_type": "markdown",
   "id": "44f7f33d",
   "metadata": {},
   "source": [
    "The **Learning Model** consists of:  \n",
    "* **Hypothesis Set:** Defines the hypothesis space $H = \\{h(x,\\theta) \\mid \\theta \\in \\Theta\\}$, where:\n",
    "    - $h(x,\\theta)$ represents candidate functions\n",
    "    - $\\theta$ are the learnable parameters\n",
    "    - $\\Theta$ is the parameter space\n",
    "\n",
    "* **Learning Algorithm:**\n",
    "    - Using training set $D$ and a cost function we find function $h(x) \\in H \\approx \\text{target  function}$   \n",
    "    or\n",
    "    - Find $\\theta^* \\in \\Theta$ such that $h(x,\\theta^*) \\approx f(x)$.\n",
    "\n",
    "* **Evaluation**:  \n",
    "    - measure how well estimated function generalizes to unseen examples."
   ]
  },
  {
   "cell_type": "markdown",
   "id": "8e1c48db",
   "metadata": {},
   "source": [
    "**Unknown target function:** $f: x \\rightarrow y$ where $x$ is input space and $y$ is output space  \n",
    "**Training data:** ${(x_1, y_1)}$, ${(x_2, y_2)}$, ..., ${(x_N, y_N)}$  \n",
    "from hypothesis set $H$ **pick a formula** $g: x \\rightarrow y$ that approximates the target function $f$\n",
    "<div style=\"text-align:center\">\n",
    "  <img src=\"images/SLComponents.png\" alt=\"Supervised learning components\">\n",
    "</div>"
   ]
  },
  {
   "cell_type": "markdown",
   "id": "f38a1cab",
   "metadata": {},
   "source": [
    "## Regression vs Classification  "
   ]
  },
  {
   "cell_type": "markdown",
   "id": "d1277fcf",
   "metadata": {},
   "source": [
    "* ***Regression:*** predict a *continuous* target variable\n",
    "* ***Classification:*** predict a *discrete* target variable"
   ]
  },
  {
   "cell_type": "markdown",
   "id": "c6b6f6b6",
   "metadata": {},
   "source": [
    "# Linear Regression"
   ]
  },
  {
   "cell_type": "markdown",
   "id": "f9dc6780",
   "metadata": {},
   "source": [
    "## Introduction"
   ]
  },
  {
   "cell_type": "markdown",
   "id": "611262a2",
   "metadata": {},
   "source": [
    "- **Linear Regression Hypothesis**: $$\\hat y(x) =  h_w(x) = w_0 + w_1x_1 + ... + w_D x_D = w^Tx = w_0 + \\sum_{i=1}^{D} w_i x_i$$   \n",
    "    Where:  \n",
    "    - **Input Vector:** $$x = [x_0=1, x_1, x_2, ..., x_D]$$\n",
    "    - **Parameter Vector:** $$w = [w_0, w_1, w_2, ..., w_D]$$  \n",
    "- **Objective** is to minimize the difference between predicted values $\\hat y(x)$ or $h_w(x)$ and actual values $y$."
   ]
  },
  {
   "cell_type": "markdown",
   "id": "ae467708",
   "metadata": {},
   "source": [
    "## Cost Function"
   ]
  },
  {
   "cell_type": "markdown",
   "id": "2f33fba2",
   "metadata": {},
   "source": [
    "Difference between predicted and actual values is quantified using *cost functions*, which guide us in choosing the optimal hypothesis.  \n",
    "A cost function measures how well the hypothesis $h(x,w)$ fits the training data."
   ]
  },
  {
   "cell_type": "markdown",
   "id": "69865ddb",
   "metadata": {},
   "source": [
    "In regression problems, the most common error function is the **Squared Error (SE)**:\n",
    "$$SE = (y^{(i)} - h(x^{(i)},w))^2$$  \n",
    "\n",
    "Cost function should measure all predictions. Thus a choice could be **Sum of Squared Errors (SSE)**:\n",
    "$$J(w) = \\sum_{i=1}^N(y^{(i)} - h(x^{(i)},w))^2$$\n",
    "$$SSE = \\sum_{i=1}^N(y^{(i)} - w^Tx^{(i)})^2$$\n",
    "\n",
    "Penalizes larger errors more severely than smaller ones (due to the square)."
   ]
  },
  {
   "cell_type": "markdown",
   "id": "602054ac",
   "metadata": {},
   "source": [
    "**Objective:** *Minimize* the cost function to find the best parameters $w$.\n",
    "\n",
    "Parameters of the best hypothesis for the training set:\n",
    "$$w^∗ = argmin_wJ(w)$$"
   ]
  },
  {
   "cell_type": "markdown",
   "id": "33bb4bfc",
   "metadata": {},
   "source": [
    "## Analytical Solution"
   ]
  },
  {
   "cell_type": "markdown",
   "id": "76cf028a",
   "metadata": {},
   "source": [
    "### **Introduction**"
   ]
  },
  {
   "cell_type": "markdown",
   "id": "5999541d",
   "metadata": {},
   "source": [
    "**Objective:** *Minimize* the cost function to find the best parameters $w$.\n",
    "\n",
    "**The learning algorithm:** optimization of the cost function  \n",
    "Explicitly taking the cost function derivative with respect to the $w_i$’s, and setting them to zero.\n",
    "\n",
    "Parameters of the best hypothesis for the training set:\n",
    "$$w^∗ = argmin_wJ(w)$$"
   ]
  },
  {
   "cell_type": "markdown",
   "id": "e0fe311f",
   "metadata": {},
   "source": [
    "### **Limitations**"
   ]
  },
  {
   "cell_type": "markdown",
   "id": "487311ac",
   "metadata": {},
   "source": [
    "* **Scalability**: Not scale well with large dataset  \n",
    "* **Computational**: Finding the inverse of a matrix required high computational power\n",
    "* **Online Learning**: In online learning, model is updated incrementally. New data arrives in a *continuous stream*.\n",
    "    - Analytical Solution requires full data batch upfront.\n",
    "    - Cannot update model with new data without re-computing everything."
   ]
  },
  {
   "cell_type": "markdown",
   "id": "b4b12323",
   "metadata": {},
   "source": [
    "### **Univariate**"
   ]
  },
  {
   "cell_type": "markdown",
   "id": "eb760efe",
   "metadata": {},
   "source": [
    "#### **Introduction**"
   ]
  },
  {
   "cell_type": "markdown",
   "id": "be988163",
   "metadata": {},
   "source": [
    "**Univariate** problem refers to any problem with single variable(feature, one-dimensional data). *(D = 1)*\n",
    "$$f(x;w) = w_0 + w_1x_1$$"
   ]
  },
  {
   "cell_type": "markdown",
   "id": "4b99f5e7",
   "metadata": {},
   "source": [
    "#### **Minimize Cost Function**"
   ]
  },
  {
   "cell_type": "markdown",
   "id": "1d883b7c",
   "metadata": {},
   "source": [
    "- **Cost Function (SSE):**\n",
    "$$J(w_0, w_1) = \\sum_{i=1}^N(y^{(i)} - w_0 - w_1x^{(i)})^2$$\n",
    "\n",
    "- **Partial Derivatives**\n",
    "    - Gradient with respect to $w_0$\n",
    "    $$\\frac{\\partial J(w)}{\\partial w_0} = \\sum_{i=1}^{n} 2 \\left( y^{(i)} - w_0 - w_1 x^{(i)} \\right) (-1) = 0$$\n",
    "    $$w_0 = \\frac{Y - w_1X}{n}$$\n",
    "    - Gradient with respect to $w_1$\n",
    "    $$\\frac{\\partial J(w)}{\\partial w_1} = \\sum_{i=1}^{n} 2 \\left( y^{(i)} - w_0 - w_1 x^{(i)} \\right) (-x^{(i)}) = 0$$\n",
    "    $$w_1 = \\frac{n\\sum_{i=1}^{n}x^{(i)}y^{(i)} - XY}{n\\sum_{i=1}^{n}{x^{(i)}}^2 - X^2}$$\n",
    "    - Where:\n",
    "        - $Y = \\sum_{i=1}^{n} y^{(i)}$\n",
    "        - $X = \\sum_{i=1}^{n} x^{(i)}$\n",
    "- **Result:** \n",
    "    -  A system of 2 linear equations and 2 unknown parameter"
   ]
  },
  {
   "cell_type": "markdown",
   "id": "78832a8d",
   "metadata": {},
   "source": [
    "#### **Codes**"
   ]
  },
  {
   "cell_type": "markdown",
   "id": "98a349cf",
   "metadata": {},
   "source": [
    "##### **Simple Regression Code**"
   ]
  },
  {
   "cell_type": "code",
   "execution_count": 1,
   "id": "c6f2a834",
   "metadata": {},
   "outputs": [
    {
     "name": "stdout",
     "output_type": "stream",
     "text": [
      "x:[5, 3, -1, 2, 6] y:[14, 6, -5.5, 3.5, 18]\n"
     ]
    }
   ],
   "source": [
    "x = [5, 3, -1, 2, 6]\n",
    "y = [14, 6, -5.5, 3.5, 18]\n",
    "print(f\"x:{x}\", f\"y:{y}\")"
   ]
  },
  {
   "cell_type": "code",
   "execution_count": 13,
   "id": "6a6ea2b6",
   "metadata": {},
   "outputs": [
    {
     "name": "stdout",
     "output_type": "stream",
     "text": [
      "n:5 X:15 Y:15 XiYi:208.5 Xi2:75\n"
     ]
    }
   ],
   "source": [
    "X, Y, XiYi, Xi2 = 0, 0, 0, 0\n",
    "n = len(x)\n",
    "for i in range(n):\n",
    "    X += x[i]\n",
    "    Y += y[i]\n",
    "    XiYi += x[i] * y[i]\n",
    "    Xi2 += x[i] ** 2\n",
    "print(f\"n:{n}\", f\"X:{X}\", f\"Y:{X}\", f\"XiYi:{XiYi}\", f\"Xi2:{Xi2}\")"
   ]
  },
  {
   "cell_type": "code",
   "execution_count": 14,
   "id": "a7a65504",
   "metadata": {},
   "outputs": [
    {
     "name": "stdout",
     "output_type": "stream",
     "text": [
      "3.35\n"
     ]
    }
   ],
   "source": [
    "w1 = (n * XiYi - X * Y) / (n * Xi2 - X**2)\n",
    "print(w1)"
   ]
  },
  {
   "cell_type": "code",
   "execution_count": 16,
   "id": "41f6bca0",
   "metadata": {},
   "outputs": [
    {
     "name": "stdout",
     "output_type": "stream",
     "text": [
      "-2.85\n"
     ]
    }
   ],
   "source": [
    "w0 = (Y - w1 * X) / n\n",
    "print(w0)"
   ]
  },
  {
   "cell_type": "markdown",
   "id": "a0719ab8",
   "metadata": {},
   "source": [
    "##### **More advance Regression Code**"
   ]
  },
  {
   "cell_type": "code",
   "execution_count": 17,
   "id": "e2830076",
   "metadata": {},
   "outputs": [],
   "source": [
    "import numpy as np\n",
    "import matplotlib.pyplot as plt\n",
    "from mpl_toolkits.mplot3d import Axes3D\n",
    "from sklearn import datasets"
   ]
  },
  {
   "cell_type": "code",
   "execution_count": null,
   "id": "b1126685",
   "metadata": {},
   "outputs": [],
   "source": [
    "# Simulating Data\n",
    "n = 1000\n",
    "x = np.random.normal(3, 5, size=n)\n",
    "# last section is some noise in normal distribution with 0 mean and 3 variance\n",
    "y = -15 * x + 20 + np.random.normal(0, 3, size=n)"
   ]
  },
  {
   "cell_type": "code",
   "execution_count": 19,
   "id": "6f373228",
   "metadata": {},
   "outputs": [
    {
     "name": "stdout",
     "output_type": "stream",
     "text": [
      "y = -14.99 x + 19.93\n"
     ]
    }
   ],
   "source": [
    "# Analytical approach for solving linear regression\n",
    "X = np.sum(x)\n",
    "Y = np.sum(y)\n",
    "b1 = (n * np.dot(x,y) - Y*X)/(n*np.dot(x,x)-X**2)\n",
    "b0 = (Y-b1*X)/n\n",
    "b1, b0 = round(b1, 2), round(b0, 2)\n",
    "print(f\"y = {b1} x + {b0}\")"
   ]
  },
  {
   "cell_type": "code",
   "execution_count": null,
   "id": "9d3a7952",
   "metadata": {},
   "outputs": [
    {
     "data": {
      "image/png": "[encoded data removed]",
      "text/plain": [
       "<Figure size 1000x700 with 1 Axes>"
      ]
     },
     "metadata": {},
     "output_type": "display_data"
    }
   ],
   "source": [
    "# Mean Squared Error\n",
    "def MSE_loss(b0, b1, x, y):\n",
    "    pred = b0 + b1 * x\n",
    "    loss = np.sum((pred - y) ** 2) / len(y)\n",
    "    return loss\n",
    "\n",
    "# Generate a grid of b0 and b1 values around the real b0=20 and b1=-15\n",
    "b0_vals = np.linspace(0, 40, 100)\n",
    "b1_vals = np.linspace(-30,0, 100)\n",
    "\n",
    "# Calculate MSE loss for each point of this grid\n",
    "# Log-scale is used only for better visualization\n",
    "Z = np.zeros((len(b0_vals),len(b1_vals)))\n",
    "for i in range(len(b0_vals)):\n",
    "    for j in range(len(b1_vals)):\n",
    "        Z[i, j] = np.log(MSE_loss(b0_vals[i], b1_vals[j], x, y))\n",
    "\n",
    "# 3D Plot of MSE loss in log-scale\n",
    "fig = plt.figure(figsize=(10, 7))\n",
    "ax = fig.add_subplot(111, projection='3d')\n",
    "B0, B1 = np.meshgrid(b0_vals, b1_vals)\n",
    "ax.plot_surface(B0, B1, Z, cmap='viridis')\n",
    "\n",
    "# Adding labels\n",
    "ax.set_xlabel('b0')\n",
    "ax.set_ylabel('b1')\n",
    "ax.set_zlabel('Loss')\n",
    "plt.show()"
   ]
  },
  {
   "cell_type": "markdown",
   "id": "2b490633",
   "metadata": {},
   "source": [
    "### **Multivariate**"
   ]
  },
  {
   "cell_type": "markdown",
   "id": "7c365c1f",
   "metadata": {},
   "source": [
    "#### **Introduction**"
   ]
  },
  {
   "cell_type": "markdown",
   "id": "7677c4ad",
   "metadata": {},
   "source": [
    "**Multivariate** problem refers to any problem with multiple variable."
   ]
  },
  {
   "cell_type": "markdown",
   "id": "41c24167",
   "metadata": {},
   "source": [
    "<div style=\"text-align:center\">\n",
    "  <img src=\"images/multivariate.png\" alt=\"multivariate params\">\n",
    "</div>\n",
    "\n",
    "Which $x_m^{(i)}$ indicates $m$'th feature of data point $i$.\n",
    "Example:\n",
    "$$y_1 = w_0x_{10} + w_1x_{11} + ... + w_Dx_{1D}$$\n",
    "And we have as result:\n",
    "$$\\hat y = Xw$$"
   ]
  },
  {
   "cell_type": "markdown",
   "id": "981efcfc",
   "metadata": {},
   "source": [
    "#### **Cost Function**"
   ]
  },
  {
   "cell_type": "markdown",
   "id": "370df260",
   "metadata": {},
   "source": [
    "For $N$ training samples with $d$ features:\n",
    "* Hypothesis (Prediction Model):\n",
    "    $$h(x^{(i)}, w) = w_0 + w_1x_1^{(i)} + ... + w_dx_d^{(i)} = w^Tx^{(i)}$$\n",
    "    *Where $x^{(i)}$ includes bias term $x_0 = 1$.*\n",
    "\n",
    "* SSE Cost function:\n",
    "$$SSE = J(w) = \\sum_{i=1}^N(y^{(i)} - h(x^{(i)},w))^2 = \\sum_{i=1}^N(y^{(i)} - w^Tx^{(i)})^2$$\n",
    "\n",
    "* VEctorized Form:\n",
    "    $$J(w) = (y - Xw)^T(y - Xw)$$\n",
    "\n",
    "    Where:  \n",
    "        - $y \\in R^N$: Target vector  \n",
    "        - $X \\in R^{N(d+1)}$: Design matrix (each row is a sample $x^{(i)}$)  \n",
    "        - $w \\in R^{(d+1)}$: Weight vector ($w = [w_0 + w_1 + ... + w_d]^T$)\n",
    "    \n",
    "    The goal is to find:\n",
    "        $$\\hat w = \\argmin_{w \\in R^{(d+1)}} J(w)$$"
   ]
  },
  {
   "cell_type": "markdown",
   "id": "75e6e624",
   "metadata": {},
   "source": [
    "#### **Minimizing Cost Function**"
   ]
  },
  {
   "cell_type": "markdown",
   "id": "5e11b5ab",
   "metadata": {},
   "source": [
    "* Expand the SSE:\n",
    "    - Multiply Rule\n",
    "    $$(AB)^T = B^TA^T$$\n",
    "    - So:\n",
    "    $$SSE = J(w) = (y - Xw) ^ 2 = (y - Xw)^T(y - Xw) = y^Ty - y^TXw - w^TX^Ty + w^TX^TXw$$\n",
    "    - Since $y^TXw$ is a scalar, then:\n",
    "        $$y^TXw = (y^TXw)^T = w^TX^Ty$$\n",
    "    - Thus the expression simplifies to:\n",
    "    $$J(w) = y^Ty - y^TXw - w^TX^Ty + w^TX^TXw = y^Ty - 2y^TXw + w^TX^TXw = y^Ty - 2w^TX^Ty + w^TX^TXw$$\n",
    "<br><br>\n",
    "* Compute the Gradient:\n",
    "    - Derivative Rules:\n",
    "    $$\\frac{\\partial w^TA}{\\partial w} = A$$\n",
    "    $$\\frac{\\partial w^TAw}{\\partial w} = 2Aw$$\n",
    "    - Apply to $J(w)$:\n",
    "    $$\\frac{\\partial J(w)}{\\partial w} = -2X^Ty + 2X^TXw = 0$$\n",
    "    - Set Gradient to Zero:\n",
    "    $$-2X^Ty + 2X^TXw = 0 \\rightarrow X^TXw = X^Ty$$"
   ]
  },
  {
   "cell_type": "markdown",
   "id": "6f093a71",
   "metadata": {},
   "source": [
    "* Solve for $w$:  \n",
    "    Multiply $X^TX^{(-1)}$ to both sides:\n",
    "    $$(X^TX)^{(-1)}X^TXw = (X^TX)^{(-1)}X^Ty$$\n",
    "    $$w = (X^TX)^{(-1)}X^Ty$$\n",
    "\n",
    "* Key points:\n",
    "    - $X^+ = (X^TX)^{(-1)}X^T$ is called *pseudo-inverse* of matrix $X$\n",
    "    - The matrix $X$ is often not square (it is N*d+1 matrix) so it is not invertible.\n",
    "    - The pseudo-inverse can be computed for any matrix, regardless of its shape.\n",
    "    - If X was squared matrix then $X^+ = X^{(-1)}$"
   ]
  },
  {
   "cell_type": "markdown",
   "id": "b8ea31ad",
   "metadata": {},
   "source": [
    "#### **Codes**"
   ]
  },
  {
   "cell_type": "markdown",
   "id": "4044b98e",
   "metadata": {},
   "source": [
    "##### **Generate Synthetic Data**  "
   ]
  },
  {
   "cell_type": "markdown",
   "id": "82a469c8",
   "metadata": {},
   "source": [
    "Line of $y = 3x + 8$ with noise of $\\epsilon = 5$"
   ]
  },
  {
   "cell_type": "code",
   "execution_count": 2,
   "id": "92fdc20b",
   "metadata": {},
   "outputs": [],
   "source": [
    "import numpy as np\n",
    "import matplotlib.pyplot as plt"
   ]
  },
  {
   "cell_type": "code",
   "execution_count": 3,
   "id": "784f184e",
   "metadata": {},
   "outputs": [],
   "source": [
    "def generate_data(n=50, noise=5.0):\n",
    "    np.random.seed(42)\n",
    "    X = np.linspace(-10, 10, n)\n",
    "    # Ground truth line: y = 3x + 8\n",
    "    true_slope = 3\n",
    "    true_intercept = 8\n",
    "    noise = np.random.randn(n) * noise\n",
    "    y = true_slope * X + true_intercept + noise\n",
    "    return X, y"
   ]
  },
  {
   "cell_type": "code",
   "execution_count": 4,
   "id": "3598a2dd",
   "metadata": {},
   "outputs": [
    {
     "data": {
      "image/png": "[encoded data removed]",
      "text/plain": [
       "<Figure size 640x480 with 1 Axes>"
      ]
     },
     "metadata": {},
     "output_type": "display_data"
    }
   ],
   "source": [
    "X, y = generate_data(n=50, noise=5.0)\n",
    "plt.scatter(X, y, color='blue', label='Data Points')\n",
    "plt.title(\"Generated Data (Univariate)\")\n",
    "plt.xlabel(\"$x$\")\n",
    "plt.ylabel(\"$y$\")\n",
    "plt.legend()\n",
    "plt.show()"
   ]
  },
  {
   "cell_type": "markdown",
   "id": "4a6159ca",
   "metadata": {},
   "source": [
    "##### **Implement the Closed-Form Solution**"
   ]
  },
  {
   "cell_type": "code",
   "execution_count": 5,
   "id": "dede9507",
   "metadata": {},
   "outputs": [
    {
     "name": "stdout",
     "output_type": "stream",
     "text": [
      "Parameters (w): \n",
      "w_1 = 2.86, w_0 = 6.87\n"
     ]
    }
   ],
   "source": [
    "# Hypothesis: h_w(x) = w_0 + w_1 * x_1\n",
    "def h_w(x, w):\n",
    "    return w[0] + w[1] * x  # equivalent to w_0 + w_1 * x\n",
    "\n",
    "# Linear Regression using closed-form solution\n",
    "def linear_regression_closed_form(X, y):\n",
    "    # Adding bias term (x_0 = 1) to input vector X\n",
    "    X_b = np.c_[np.ones((len(X), 1)), X]  # X_b is now the full input vector with bias term\n",
    "    # Closed-form solution: w = (X^T * X)^-1 * X^T * y\n",
    "    w = np.linalg.inv(X_b.T.dot(X_b)).dot(X_b.T).dot(y)\n",
    "    return w\n",
    "\n",
    "# Get parameter vector w\n",
    "w = linear_regression_closed_form(X, y)\n",
    "print(f\"Parameters (w): \")\n",
    "print(f\"w_1 = {w[1]:.2f}, w_0 = {w[0]:.2f}\")"
   ]
  },
  {
   "cell_type": "code",
   "execution_count": 6,
   "id": "dd00c079",
   "metadata": {},
   "outputs": [
    {
     "data": {
      "image/png": "[encoded data removed]",
      "text/plain": [
       "<Figure size 640x480 with 1 Axes>"
      ]
     },
     "metadata": {},
     "output_type": "display_data"
    }
   ],
   "source": [
    "y_pred = h_w(X, w)\n",
    "\n",
    "plt.scatter(X, y, color='blue', label='Actual Data')\n",
    "plt.plot(X, y_pred, color='red', label='Prediction (Closed Form)')\n",
    "plt.title(\"Linear Regression - Closed Form Solution\")\n",
    "plt.xlabel(\"$x$\")\n",
    "plt.ylabel(\"$y$\")\n",
    "plt.legend()\n",
    "plt.show()"
   ]
  },
  {
   "cell_type": "markdown",
   "id": "28713d73",
   "metadata": {},
   "source": [
    "## Iterative Optimization"
   ]
  },
  {
   "cell_type": "markdown",
   "id": "740a08c0",
   "metadata": {},
   "source": [
    "### **Iterative optimization of cost function**"
   ]
  },
  {
   "cell_type": "markdown",
   "id": "f1c38fcb",
   "metadata": {},
   "source": [
    "* Cost Function: $J(w)$\n",
    "* Problem: $\\hat w = \\argmin_w J(w)$\n",
    "\n",
    "* Solution:\n",
    "    - start from random $w^0$\n",
    "    - Repeat:\n",
    "        - Update $w^t$ to $w^{(t+1)}$ in order to reduce $J(w)$\n",
    "        - t = t + 1\n",
    "    - Until end up at a minimum *(hopefully)*\n",
    "\n",
    "    where $t$ is iteration counter."
   ]
  },
  {
   "cell_type": "markdown",
   "id": "ac277001",
   "metadata": {},
   "source": [
    "### **Gradient Descent**"
   ]
  },
  {
   "cell_type": "markdown",
   "id": "17501881",
   "metadata": {},
   "source": [
    "#### **Introduction**"
   ]
  },
  {
   "cell_type": "markdown",
   "id": "b967f1ae",
   "metadata": {},
   "source": [
    "Also known as *steepest descent*.\n",
    "\n",
    "In each step, takes steps proportional to the negate of teh gradient descent vector of the current point.\n",
    "$$w^{(t+1)} = w^t - \\gamma_t \\nabla_w J(w^t)$$\n",
    "Where:\n",
    "- $w^t$ is the current point.\n",
    "- $\\gamma_t$ is step size *(learning rate parameter)*.\n",
    "- $J(w)$ decreases from $w^t$ in the direction of $-\\gamma_t \\nabla_w J(w^t)$.\n",
    "- **Assumption**: $J(w)$ is defined and differentiable in a neighborhood of a point $w^t$."
   ]
  },
  {
   "cell_type": "markdown",
   "id": "36a65d92",
   "metadata": {},
   "source": [
    "**Minimize $J(w)$**\n",
    "$$w^{(t+1)} = w^t - \\gamma_t \\nabla_w J(w^t)$$\n",
    "$$\\nabla_w J(w^t) = [\\frac{\\partial{J(w)}}{\\partial{w_1}}, \\frac{\\partial{J(w)}}{\\partial{w_2}}, ..., \\frac{\\partial{J(w)}}{\\partial{w_d}}]$$\n",
    "\n",
    "Key Marks:\n",
    "* $\\gamma$ is step size (learning rate).\n",
    "* $\\gamma$ can change at every iteration\n",
    "* If $\\gamma_t$ is small enough, then $J(w^{(t+1)}) \\le J(w^{(t)})$\n",
    "* When $\\gamma$ is too small: gradient descent can be slow.\n",
    "* When $\\gamma$ is too large: gradient descent can overshoot the minimum. May fail to converge or diverge."
   ]
  },
  {
   "cell_type": "markdown",
   "id": "1e10b2cf",
   "metadata": {},
   "source": [
    "#### **Gradient Descent for SSE cost function**"
   ]
  },
  {
   "cell_type": "markdown",
   "id": "a85eb7eb",
   "metadata": {},
   "source": [
    "**Objective**: Minimize Sum of Squared Errors (SSE)\n",
    "\n",
    "* **SSE Loss Function:**\n",
    "    $$SSE = J(w) = \\sum_{i=1}^N(y^{(i)} - h(x^{(i)},w))^2 = \\sum_{i=1}^N(y^{(i)} - w^Tx^{(i)})^2$$\n",
    "\n",
    "* **Gradient of SSE:**\n",
    "    $$\\frac{\\partial J(w)}{\\partial w} = -2X^Ty + 2X^TXw = -2X^T(y - Xw)$$\n",
    "    The gradient points in the direction of steepest ascent of $J(w)$\n",
    "\n",
    "* **Gradient Descent Update Rule:**\n",
    "    $$w^{(t+1)} = w^t - \\gamma_t \\nabla_w J(w^t)$$\n",
    "    Expanded Form:\n",
    "    $$w^{(t+1)} = w^t - \\gamma_t \\sum_{i=1}^N(y^{(i)} - w^Tx^{(i)})x^{(i)}$$\n",
    "\n",
    "    As we said earlier:\n",
    "    * When $\\gamma$ is too small: gradient descent can be slow.\n",
    "    * When $\\gamma$ is too large: gradient descent can overshoot the minimum. May fail to converge or diverge."
   ]
  },
  {
   "cell_type": "markdown",
   "id": "a95f9958",
   "metadata": {},
   "source": [
    "#### **Gradient Descent Disadvantages**"
   ]
  },
  {
   "cell_type": "markdown",
   "id": "dbb84d8d",
   "metadata": {},
   "source": [
    "**Local Minima Problem**\n",
    "\n",
    "If $J(w)$ is convex, the all local minima are also global minima. So gradient descent can converge to the global minima.  \n",
    "<div style=\"text-align:center\">\n",
    "  <img src=\"images/GradientDescentProblem.png\" alt=\"Gradient Descent in non-convex function\">\n",
    "</div>\n",
    "\n",
    "**We will fix this issue later.**"
   ]
  },
  {
   "cell_type": "markdown",
   "id": "60ca1d41",
   "metadata": {},
   "source": [
    "### **Stochastic Gradient Descent Variations**"
   ]
  },
  {
   "cell_type": "markdown",
   "id": "e3a1a494",
   "metadata": {},
   "source": [
    "#### **Gradient Descent Variations**"
   ]
  },
  {
   "cell_type": "markdown",
   "id": "ce7f6a1a",
   "metadata": {},
   "source": [
    "* **Batch Gradient Descent**:\n",
    "    - Process the entire training set per iteration.\n",
    "    - Updates the weights smoothly towards the optimal solution.\n",
    "    - Computationally intensive for large datasets.\n",
    "    - Infeasible for some applications. *(BGD needs entire training set which is not available in some cases like online learning)*\n",
    "\n",
    "* **Mini-batch Gradient Descent**:\n",
    "    - Process small, random subset of data per iteration.\n",
    "    - Balance between efficiency and computational power.\n",
    "    - Best option. Not computationally intensive or noisy.\n",
    "\n",
    "* **Stochastic Gradient Descent**:\n",
    "    - Process one training example per iteration. Which is good for real-time applications and online learning. \n",
    "    - Updates model parameters more frequently, which can lead to faster convergence.\n",
    "    - Introduce nose, causing more steps during the descent.\n",
    "    - The path to convergence is more erratic (not smooth movement anymore)."
   ]
  },
  {
   "cell_type": "markdown",
   "id": "56980bec",
   "metadata": {},
   "source": [
    "#### **Linear regression with SSE cost function**"
   ]
  },
  {
   "cell_type": "markdown",
   "id": "654ff0cb",
   "metadata": {},
   "source": [
    "* **Loss Function**:\n",
    "$$J(w) = \\sum_{i=1}^n j^{(i)}(w)$$\n",
    "$$j^{(i)}(w) = (y^{(i)} - w^Tx^{(i)})^2$$\n",
    "* **Gradient Per Sample**:\n",
    "$$\\nabla_w J^{(i)}(w) = (y^{(i)} - w^Tx^{(i)})x^{(i)}$$\n",
    "* **SGD Update Rule**:\n",
    "$$w^{(t+1)} = w^t - \\gamma \\nabla_w J^{(i)}(w)$$\n",
    "* **Least Mean Square**:\n",
    "$$w^{(t+1)} = w^t - \\gamma (y^{(i)} - w^Tx^{(i)})x^{(i)}$$\n",
    "\n",
    "*where $i$ indicates the $i$'th sample.*"
   ]
  },
  {
   "cell_type": "markdown",
   "id": "6a18d0a3",
   "metadata": {},
   "source": [
    "## Polynomial Regression"
   ]
  },
  {
   "cell_type": "markdown",
   "id": "3caa04ac",
   "metadata": {},
   "source": [
    "### **Recall: Linear Regression**"
   ]
  },
  {
   "cell_type": "markdown",
   "id": "03718506",
   "metadata": {},
   "source": [
    "**Linear Regression Functions**:\n",
    "- Univariate:\n",
    "    $$f: R \\rightarrow R f(x;w) = w_0 + w_1x_1$$\n",
    "- Multivariate:\n",
    "    $$f: R^d \\rightarrow R f(x;w) = w_0 + w_1x_1 + ... w_dx_d$$\n",
    "    Where $w = [w_0, w_1, ..., w_d]^T$ are the parameters need to set."
   ]
  },
  {
   "cell_type": "markdown",
   "id": "c1420b39",
   "metadata": {},
   "source": [
    "**Square Loss Cost Function:**\n",
    "$$SSE = J(w) = \\sum_{i=1}^N(y^{(i)} - f(x^{(i)},w))^2 = y - Xw$$\n",
    "After minimizing the squared loss, we obtain:\n",
    "$$\\hat w = (X^TX)^{(-1)}X^Ty$$\n",
    "Where $(X^TX)^{(-1)}X^T$ called *pseudo inverse*."
   ]
  },
  {
   "cell_type": "markdown",
   "id": "5c36b3ff",
   "metadata": {},
   "source": [
    "### **Introduction**"
   ]
  },
  {
   "cell_type": "markdown",
   "id": "0ca3516b",
   "metadata": {},
   "source": [
    "**Reduction:**\n",
    "Problem *reduction* is the process of converting Problem A into Problem B such that:\n",
    "* An instance of A is transformed into an instance of B.\n",
    "* A solution to B can be mapped back to a solution for A.\n",
    "\n",
    "This is useful when:\n",
    "* Problem B has a known efficient solution, and you want to reuse it for A.\n",
    "* Proving hardness (e.g., showing that A is at least as hard as B).\n",
    "\n",
    "The goal is to reduce polynomial regression problem to linear regression."
   ]
  },
  {
   "cell_type": "markdown",
   "id": "2def3ceb",
   "metadata": {},
   "source": [
    "How to extend the linear regression to non-linear functions:\n",
    "- Transform the data using *basis functions* \n",
    "- Learn a linear regression on the new feature vectors (obtained by *basis functions*)\n",
    "\n",
    "<div style=\"text-align:center\">\n",
    "  <img src=\"images/PolyRegressionEg1.png\" alt=\"change of basis example\">\n",
    "</div>"
   ]
  },
  {
   "cell_type": "markdown",
   "id": "979ee3eb",
   "metadata": {},
   "source": [
    "### **Polynomial Regression (Beyond Linear Regression)**"
   ]
  },
  {
   "cell_type": "markdown",
   "id": "c1b48173",
   "metadata": {},
   "source": [
    "Based on Polynomial basis function, we have:"
   ]
  },
  {
   "cell_type": "markdown",
   "id": "6be1ee82",
   "metadata": {},
   "source": [
    "* $m$'th order univariate polynomial regression:\n",
    "    $$f(x;w) = w_0 + w_1x + w_2x^2 + ... + w_{m-1}x^{m-1} + w_{m}x^{m}$$\n",
    "\n",
    "* Similar to univariate we can define:\n",
    "    <div style=\"text-align:center\">\n",
    "    <img src=\"images/polyRegressionParams.png\" alt=\"polynomial regression params\">\n",
    "    </div>\n",
    "\n",
    "    Which $x^{(i)}$ indicates the $i$'th sample.\n"
   ]
  },
  {
   "cell_type": "markdown",
   "id": "84ef95b1",
   "metadata": {},
   "source": [
    "* Square Loss Cost Function:\n",
    "$$SSE = J(w) = y - X'w$$\n",
    "* Closed form solution:\n",
    "$$\\hat w = (X'^TX')^{(-1)}X'^Ty$$"
   ]
  },
  {
   "cell_type": "markdown",
   "id": "d72b6b54",
   "metadata": {},
   "source": [
    "Examples:\n",
    "<div style=\"text-align:center\">\n",
    "  <img src=\"images/polyRegEg2.png\" alt=\"polynomial regression with different m's\">\n",
    "</div>"
   ]
  },
  {
   "cell_type": "markdown",
   "id": "7bf8b0d4",
   "metadata": {},
   "source": [
    "### **Basis Functions**"
   ]
  },
  {
   "cell_type": "markdown",
   "id": "5fbed4a9",
   "metadata": {},
   "source": [
    "these are some examples of famous basis functions:"
   ]
  },
  {
   "cell_type": "markdown",
   "id": "a6a2bed7",
   "metadata": {},
   "source": [
    "#### **Linear**"
   ]
  },
  {
   "cell_type": "markdown",
   "id": "d9a227ff",
   "metadata": {},
   "source": [
    "Given:\n",
    "- $m = d$\n",
    "- $\\phi(x) = x_i$\n",
    "- $i = 1, ..., d$\n",
    "\n",
    "Model Form:\n",
    "$$f(x;w) = w_0 + w_1x_1 + ... + w_dx_d$$"
   ]
  },
  {
   "cell_type": "markdown",
   "id": "059b301e",
   "metadata": {},
   "source": [
    "#### **Polynomial (Univariate)**"
   ]
  },
  {
   "cell_type": "markdown",
   "id": "aa71d58a",
   "metadata": {},
   "source": [
    "Given:\n",
    "- $\\phi_i(x) = x^i$\n",
    "- $i = 1, ..., m$\n",
    "\n",
    "Model form:\n",
    "$$f(x;w) = w_0 + w_1x + ... + w_{m-1}x^{m-1} + w_mx^m$$\n",
    "\n",
    "**Assumptions**:\n",
    "- Feature vector grows rapidly with higher degree $m$.\n",
    "- The matrix $\\phi^T\\phi$ may become non-invertible. Because its determinant approaches zero, making inversion impossible.\n",
    "-  Odd-powered terms introduce asymmetric behavior. (One side of the plot rises while the other falls.)\n",
    "<div style=\"text-align:center\">\n",
    "  <img src=\"images/BasisFuncPolynomial.png\" alt=\"polynomial basis function\">\n",
    "</div>"
   ]
  },
  {
   "cell_type": "markdown",
   "id": "3377623a",
   "metadata": {},
   "source": [
    "#### **Gaussian**"
   ]
  },
  {
   "cell_type": "markdown",
   "id": "7180c7f5",
   "metadata": {},
   "source": [
    "Estimate a target function using a linear combination of Gaussian basis functions with their corresponding weights:\n",
    "$$\\phi_j(x) = e^{-\\frac{(x-c_j)^2}{2\\sigma_j^2}}$$\n",
    "$$f(x;w) = w_0 + w_1N(\\mu_1, \\sigma_1^2) + ... + w_mN(\\mu_m, \\sigma_m^2)$$\n",
    "\n",
    "**Assumption**:\n",
    "- Measuring the similarity to the prototypes $c_1, c_2, ..., c_m$\n",
    "- $\\sigma_i^2$ controls how quickly it vanishes as a function of the distance to the prototype.\n",
    "\n",
    "<div style=\"text-align:center\">\n",
    "  <img src=\"images/BasisFuncGaussian.png\" alt=\"gaussian basis function\">\n",
    "</div>"
   ]
  },
  {
   "cell_type": "markdown",
   "id": "764980b8",
   "metadata": {},
   "source": [
    "#### **Sigmoid**"
   ]
  },
  {
   "cell_type": "markdown",
   "id": "59ad620a",
   "metadata": {},
   "source": [
    "$$\\phi_j(x) = \\sigma({\\frac{||x-c_j||}{2\\sigma_j}})$$\n",
    "Where:\n",
    "$$\\sigma(\\alpha) = \\frac{1}{1+\\exp(-\\alpha)}$$\n",
    "\n",
    "<div style=\"text-align:center\">\n",
    "  <img src=\"images/BasisFuncSigmoid.png\" alt=\"sigmoid basis function\">\n",
    "</div>"
   ]
  },
  {
   "cell_type": "markdown",
   "id": "a08221e8",
   "metadata": {},
   "source": [
    "### **Generalized Linear**"
   ]
  },
  {
   "cell_type": "markdown",
   "id": "45f20841",
   "metadata": {},
   "source": [
    "$$J(w) = \\sum_{i=1}^N(y^{(i)} - f(x^{(i)},w))^2 = \\sum_{i=1}^N(y^{(i)} - w^T\\phi(x^{(i)}))^2$$\n",
    "Where $\\phi$ is a basis function and:\n",
    "<div style=\"text-align:center\">\n",
    "  <img src=\"images/generalizedLinear.png\" alt=\"generalized linear optimization\">\n",
    "</div>\n",
    "\n",
    "We obtain:\n",
    "$$\\hat w = (\\phi^T\\phi)^{(-1)}\\phi^Ty$$"
   ]
  },
  {
   "cell_type": "markdown",
   "id": "3bf21062",
   "metadata": {},
   "source": [
    "### **Over-fitting**"
   ]
  },
  {
   "cell_type": "markdown",
   "id": "e04e7641",
   "metadata": {},
   "source": [
    "If you have any problem with training and test error concepts read *generalization* section.  "
   ]
  },
  {
   "cell_type": "markdown",
   "id": "c69f8099",
   "metadata": {},
   "source": [
    "The goal is to build a model that performs effectively on unseen data.\n",
    "\n",
    "\n",
    "**Over-fitting Problem** occurred, when both of these conditions met:\n",
    "- $\\text{Training Loss} \\approx 0$ (model fits training data perfectly)\n",
    "- $\\text{Expected (Test) Loss} \\gg 0$ (model fails on new data)"
   ]
  },
  {
   "cell_type": "markdown",
   "id": "12279b79",
   "metadata": {},
   "source": [
    "##### **Over-fitting causes**:"
   ]
  },
  {
   "cell_type": "markdown",
   "id": "b73d6d91",
   "metadata": {},
   "source": [
    "- **Model Complexity:** Model with large number of parameters (degree of polynomial is too large) *compared to the data size*\n",
    "- **Low Number of Training Data:** Small data size *compared to the complexity of the model*\n",
    "\n",
    "<div style=\"text-align:center\">\n",
    "  <img src=\"images/PolyModelComplexity.png\" alt=\"polynomial model complexity\">\n",
    "</div>"
   ]
  },
  {
   "cell_type": "markdown",
   "id": "e675a7a2",
   "metadata": {},
   "source": [
    "*Over-fitting problem becomes less severe as the training data size increases.*:\n",
    "<div style=\"text-align:center\">\n",
    "  <img src=\"images/overfittingWithLargeDataSize.png\" alt=\"over-fitting problem as the training data grows\">\n",
    "</div>"
   ]
  },
  {
   "cell_type": "markdown",
   "id": "2038ee7e",
   "metadata": {},
   "source": [
    "## Generalization"
   ]
  },
  {
   "cell_type": "markdown",
   "id": "d81d75b9",
   "metadata": {},
   "source": [
    "### **Training & Test Performance**"
   ]
  },
  {
   "cell_type": "markdown",
   "id": "c2cf538b",
   "metadata": {},
   "source": [
    "**Assumption:** *Training* & *test* examples $(x, y)$ are *independently* and *random* from *same*, *unknown* distribution $p(x, y)$.  \n",
    "$$(x, y) \\sim p(x, y)$$"
   ]
  },
  {
   "cell_type": "markdown",
   "id": "a1f4fa72",
   "metadata": {},
   "source": [
    "* **Empirical (training) loss:**\n",
    "    - Sum of squared error on training data.\n",
    "    $$J(w) = \\frac{1}{n}\\sum_{i=1}^n Loss(y^{(i)}, f(x^{(i)};w))$$"
   ]
  },
  {
   "cell_type": "markdown",
   "id": "0ad89f81",
   "metadata": {},
   "source": [
    "* **Expected (test) loss:**\n",
    "    - Expected performance on unseen data.\n",
    "    - We want accurate predictions on unseen data.\n",
    "    $$J(w) = E_{x,y}[Loss(y, f(x;w))] = \\int \\int p(x,y)({y-f(x;w)})^2{d}x{d}y$$\n",
    "    - We cannot compute test loss directly because the distribution of all samples $p(x,y)$ is unknown.\n",
    "    - Solution: A held-out test set (never used during training)."
   ]
  },
  {
   "cell_type": "markdown",
   "id": "53bf1a6d",
   "metadata": {},
   "source": [
    "### **Training Data Size**"
   ]
  },
  {
   "cell_type": "markdown",
   "id": "e0493501",
   "metadata": {},
   "source": [
    "* By increasing the size of training data, error decreases and solution is better up to certain point.\n",
    "* At certain point, eventually, stops improving even with more data.\n",
    "* Reasons:\n",
    "    - Real-world data is noisy.\n",
    "    - Model mis-specification.\n",
    "<div style=\"text-align:center\">\n",
    "  <img src=\"images/trainDataSize.png\" alt=\"train data size effect plot\">\n",
    "</div>"
   ]
  },
  {
   "cell_type": "markdown",
   "id": "8f1307f4",
   "metadata": {},
   "source": [
    "### **Structural & Approximation Error**"
   ]
  },
  {
   "cell_type": "markdown",
   "id": "caddca4a",
   "metadata": {},
   "source": [
    "* **Structural Error:** The error introduced by the limited function class (infinite training data).\n",
    "    $$w^* = \\argmin_w E_{x,y}[(y - w^Tx)^2] = \\int \\int p(x,y)(y - w^Tx)^2{d}x{d}y$$\n",
    "    $$\\text{Structural Error:} E_{x,y}[(y - w^{*^T}x)^2]$$\n",
    "    Where:\n",
    "    - $w^* = (w_0^*, w_1^*, w_d^*)$ are the optimal parameters over all distribution.\n",
    "    - Theoretical; because the distribution $p(x,y)$ is unknown."
   ]
  },
  {
   "cell_type": "markdown",
   "id": "503f47b5",
   "metadata": {},
   "source": [
    "* **Approximation Error:** The difference between optimal linear predictions with limited training data and linear predictions using all distribution.\n",
    "    $$\\hat w = \\argmin_w \\sum_{i=1}^n (y^{(i)} - w^Tx^{(i)})^2$$\n",
    "    $$\\text{Approximation Error:} E_{x}[(w^{*^T}x - \\hat w^{T}x)^2]$$\n",
    "    Where:\n",
    "    - $\\hat w$ are the parameter estimates based on a small training set (using $n$ random samples)."
   ]
  },
  {
   "cell_type": "markdown",
   "id": "78cf2a7b",
   "metadata": {},
   "source": [
    "### **Error Decomposition**"
   ]
  },
  {
   "cell_type": "markdown",
   "id": "6ab1779d",
   "metadata": {},
   "source": [
    "We can decompose the expected error of a learned model into two components:\n",
    "\n",
    "> **Expected Error = Structural Error + Approximation Error**\n",
    "\n",
    "$$E_{x,y}\\left[(y - \\hat{w}^T x)^2\\right] = E_{x,y}\\left[(y - w^{*T}x)^2\\right] + E_{x}\\left[(w^{*T}x - \\hat{w}^T x)^2\\right]$$\n",
    "\n",
    "Where:\n",
    "- **Structural Error**: Unavoidable error due to noise in $y$, even with the true model $w^*$\n",
    "    $$E_{x,y}[(y - w^{*T}x)^2]$$\n",
    "\n",
    "- **Approximation Error**: Arises because $\\hat w$ differs from $w^*$\n",
    "    $$E_{x}[(w^{*T}x - \\hat{w}^T x)^2]$$\n",
    "- $w^*$ is the optimal weight vector minimizing the expected loss (true minimizer).\n",
    "- $\\hat{w}$ is the weight vector found by your learning algorithm (approximation)."
   ]
  },
  {
   "cell_type": "markdown",
   "id": "434b1bb5",
   "metadata": {},
   "source": [
    "#### **Proof**"
   ]
  },
  {
   "cell_type": "markdown",
   "id": "21a04b28",
   "metadata": {},
   "source": [
    "**Derivation**\n",
    "\n",
    "* **Expected squared error of the learned model:**\n",
    "    $$\n",
    "    E_{x,y}\\left[(y - \\hat{w}^T x)^2\\right]\n",
    "    $$\n",
    "    Add and subtract $w^{*T}x$ inside the square:\n",
    "    $$\n",
    "    = E_{x,y}\\left[\\left(y - w^{*T}x + w^{*T}x - \\hat{w}^T x\\right)^2\\right]\n",
    "    $$\n",
    "    Apply the expansion of the square:\n",
    "    $$\n",
    "    = E_{x,y}\\left[(y - w^{*T}x)^2\\right] + E_{x,y}\\left[(w^{*T}x - \\hat{w}^T x)^2\\right] + 2E_{x,y}\\left[(y - w^{*T}x)(w^{*T}x - \\hat{w}^T x)\\right]\n",
    "    $$\n",
    "\n",
    "* **Simplify the cross-term:**\n",
    "    $$\n",
    "    E_{x,y}\\left[(y - w^{*T}x)(w^{*T}x - \\hat{w}^T x)\\right] = E_{x,y}\\left[(y - w^{*T}x)((w^* - \\hat{w})^T x)\\right]\n",
    "    $$\n",
    "    Since $A^TB = B^TA$, we can rewrite it as:\n",
    "    $$\n",
    "    = E_{x,y}\\left[(y - w^{*T}x)x^T(w^* - \\hat{w})\\right]\n",
    "    $$\n",
    "\n",
    "* **Use Optimality of $w^*$**\n",
    "    Recall:\n",
    "    $$\n",
    "    w^* = \\argmin_w E_{x,y}[(y - w^T x)^2]\n",
    "    $$\n",
    "    From the condition of optimality:\n",
    "    $$\n",
    "    \\frac{\\partial}{\\partial w} E_{x,y}[(y - w^T x)^2] = -2E_{x,y}[x(y - w^T x)] = 0 \\quad \\text{at } w = w^*\n",
    "    $$\n",
    "    Thus:\n",
    "    $$\n",
    "    E_{x,y}[(y - w^{*T}x)x^T] = 0\n",
    "    $$\n",
    "    Therefore, the cross-term vanishes:\n",
    "    $$\n",
    "    E_{x,y}\\left[(y - w^{*T}x)x^T(w^* - \\hat{w})\\right] = 0\n",
    "    $$\n",
    "\n",
    "* **Final Decomposition**\n",
    "    $$\n",
    "    E_{x,y}[(y - \\hat{w}^T x)^2] = E_{x,y}[(y - w^{*T}x)^2] + E_{x}[(w^{*T}x - \\hat{w}^T x)^2]\n",
    "    $$\n",
    "    **Expected Error = Structural Error + Approximation Error**"
   ]
  },
  {
   "cell_type": "markdown",
   "id": "6b61668d",
   "metadata": {},
   "source": [
    "### **Bias Variance Trade-off**"
   ]
  },
  {
   "cell_type": "markdown",
   "id": "ed57db94",
   "metadata": {},
   "source": [
    "#### **Best Unrestricted Regression Function**"
   ]
  },
  {
   "cell_type": "markdown",
   "id": "bd3352ef",
   "metadata": {},
   "source": [
    "##### **Core Concepts: Data Distribution & Modeling**"
   ]
  },
  {
   "cell_type": "markdown",
   "id": "d0a2feb8",
   "metadata": {},
   "source": [
    "* **Feature Distribution ($p(x)$):** Describes how training features are sampled from distribution.\n",
    "\n",
    "* **Target Distribution ($p(y|x)$):** For a fixed $x$, the target $y$ is sampled from a conditional distribution, composed of:\n",
    "    - A true target function ($h(x)$)\n",
    "    - Noise\n",
    "    \n",
    "    E.g: For Gaussian noise: $p(y|x) = N(h(x), \\sigma^2)$"
   ]
  },
  {
   "cell_type": "markdown",
   "id": "1823d623",
   "metadata": {},
   "source": [
    "Training examples ($x^{(i)}, y^{(i)}$) are drawn from a joint distribution $p(x,y)$:\n",
    "$$p(x, y) = p(x)p(y|x)$$\n",
    "\n",
    "<div style=\"text-align:center\">\n",
    "  <img src=\"images/LearningDiagramNoisyTarget.png\" alt=\"learning diagram including noisy target\">\n",
    "</div>"
   ]
  },
  {
   "cell_type": "markdown",
   "id": "25c75a8f",
   "metadata": {},
   "source": [
    "##### **Best Unrestricted Regression Function ($h^*(x)$)**"
   ]
  },
  {
   "cell_type": "markdown",
   "id": "950bf921",
   "metadata": {},
   "source": [
    "**Assumption:**\n",
    "- We know the joint probability distribution $p(x, y)$ and no constraints on the regression function.\n",
    "- Cost Function: Mean Squared Error\n",
    "\n",
    "$$h^*(x) = \\argmin_{h:R^d \\rightarrow R} E_{x, y}\\left[\\left(y-h(x)\\right)^2\\right] = E_{y|x}[y]$$\n",
    "\n",
    "For each fixed $x$ takes an average of $p(y|x)$ as $h^*(x)$"
   ]
  },
  {
   "cell_type": "markdown",
   "id": "225461d5",
   "metadata": {},
   "source": [
    "**proof:**\n",
    "\n",
    "The goal is to find function $h(x)$ that minimizes the expected error:\n",
    "$$E_{x, y}\\left[\\left(y-h(x)\\right)^2\\right] = \\int \\int (y - h(x))^2p(x,y) dx dy$$\n",
    "\n",
    "Fix $x$ and Minimize Over $h(x)$\n",
    "$$\\frac{\\partial}{\\partial h(x)}  E_{x,y}\\left[\\left(y-h(x)\\right)^2\\right] = \\frac{\\partial}{\\partial h(x)} \\int (y - h(x))^2p(x,y) dy = 0$$\n",
    "\n",
    "Take the Derivative:\n",
    "$$ = \\int 2(y-h(x))p(x,y) dy = 0$$\n",
    "$$= \\int yp(x,y) dy - \\int h(x)p(x,y) dy = 0$$\n",
    "$$\\int yp(x,y) dy = h(x)\\int p(x,y) dy$$\n",
    "\n",
    "Solve for $h(x)$:\n",
    "$$h(x) = \\frac{\\int yp(x,y) dy}{\\int p(x,y) dy} = \\frac{\\int yp(x,y) dy}{p(x)}$$\n",
    "\n",
    "Since $\\frac{p(x,y)}{p(x)} = p(y|x)$:\n",
    "$$h(x) = \\int yp(y|x)dy = E_{y|x}[y]$$\n",
    "\n",
    "**Conclusion:**\n",
    "$$h^*(x) = E_{y|x}[y]$$"
   ]
  },
  {
   "cell_type": "markdown",
   "id": "12224819",
   "metadata": {},
   "source": [
    "#### **Bias-Variance Decomposition**"
   ]
  },
  {
   "cell_type": "markdown",
   "id": "30e6a159",
   "metadata": {},
   "source": [
    "##### **True Error Expectation: Learning vs. Noise**"
   ]
  },
  {
   "cell_type": "markdown",
   "id": "e89ddacf",
   "metadata": {},
   "source": [
    "The goal is to analyze **true expected error** of a learned function $f_D(x)$ compared to the actual target value $y$:\n",
    "$$E_{true}[f_D(x)] = E_{x,y}\\left[\\left(f_D(x) - y \\right)^2\\right]$$\n",
    "\n",
    "Add and subtract the true function $h(x)$:\n",
    "$$ = E_{x,y}\\left[\\left(f_D(x) - h(x) + h(x) - y \\right)^2\\right]$$\n",
    "$$ = E_{x}\\left[\\left(f_D(x) - h(x)\\right)^2\\right] + E_{x,y}\\left[\\left(h(x) - y\\right)^2\\right] + 2E_{x,y}[(f_D(x) - h(x))((h(x) - y))]$$\n",
    "\n",
    "Show the cross-term vanishes:\n",
    "$$E_{x,y}[(f_D(x) - h(x))((h(x) - y))] = \\int \\int (f_D(x) - h(x))((h(x) - y))p(x,y) dy dx$$\n",
    "$$ = \\int (f_D(x) - h(x)) \\int ((h(x) - y))p(x,y) dy dx$$\n",
    "\n",
    "Simplify the inner integral using:\n",
    "- $\\int p(x,y) dy = p(x)$\n",
    "- $p(x,y) = p(x)p(y|x)$\n",
    "- $h(x) = \\int yp(y|x)dy$\n",
    "\n",
    "$$\\int ((h(x) - y))p(x,y) dy = h(x)\\int p(x,y) dy - \\int yp(x,y) dy$$\n",
    "$$ = h(x)p(x) - \\int yp(x)p(y|x) dy$$\n",
    "$$ = p(x)h(x) - p(x)\\int yp(y|x) dy = 0$$\n",
    "\n",
    "Final result:\n",
    "$$E_{true}[f_D(x)] = E_{x,y}[(f_D(x) - y)^2]\n",
    "= \\underbrace{E_x\\left[(f_D(x) - h(x))^2\\right]}_{\\text{Learning Error}}\n",
    "+ \\underbrace{E_{x,y}\\left[(h(x) - y)^2\\right]}_{\\text{Noise/Error in Data}}$$"
   ]
  },
  {
   "cell_type": "markdown",
   "id": "1867f7bc",
   "metadata": {},
   "source": [
    "**Key Results:**\n",
    "- The first term *Learning Error* measures **how well the model approximates the true function**.\n",
    "- The second Term *Noise* shows the **irreducible** minimum value of the loss function"
   ]
  },
  {
   "cell_type": "markdown",
   "id": "f16f38b6",
   "metadata": {},
   "source": [
    "##### **True Error Expectation: Bias & Variance**"
   ]
  },
  {
   "cell_type": "markdown",
   "id": "7224d1b8",
   "metadata": {},
   "source": [
    "Recall **True Expected Error** of a learned function $f_D(x)$\n",
    "$$E_{true}[f_D(x)] = E_{x,y}\\left[\\left(f_D(x) - y \\right)^2\\right] = E_x\\left[\\left(f_D(x) - h(x)\\right)^2\\right] + \\text{Noise}$$\n",
    "\n",
    "We are interested in the **average error over different datasets** $D$:\n",
    "$$E_D\\left[E_x\\left[\\left(f_D(x) - h(x)\\right)^2\\right]\\right] = E_x\\left[E_D\\left[\\left(f_D(x) - h(x)\\right)^2\\right]\\right]$$\n",
    "\n",
    "We now want to focus on:\n",
    "$$E_D\\left[\\left(f_D(x) - h(x)\\right)^2\\right]$$\n",
    "\n",
    "Define average hypothesis:\n",
    "$$\\bar f(x) = E_D[f_D(x)] = \\frac{1}{K} \\sum_{k-1}^K f_{D^{(k)}}(x)$$\n",
    "Where:\n",
    "- $K$ is the number of training sets (each of size $N$), sampled from $p(x, y)$\n",
    "- $D^{(1)}, D^{(2)}, ..., D^{(K)}$ are different datasets\n",
    "\n",
    "Add and subtract $\\bar{f}(x)$ inside the square:\n",
    "$$E_D\\left[\\left(f_D(x) - h(x)\\right)^2\\right] = E_D\\left[\\left(f_D(x) - \\bar f(x) + \\bar f(x) - h(x)\\right)^2\\right]$$\n",
    "$$ = E_D\\left[\\left(f_D(x) - \\bar f(x)\\right)^2\\right]  + (\\bar f(x) - h(x))^2 + 2E_D\\left[(f_D(x) - \\bar f(x))(\\bar f(x) - h(x))\\right]$$\n",
    "\n",
    "Since:\n",
    "$$E_D\\left[f_D(x) - \\bar f(x)\\right] = 0$$\n",
    "The cross-term vanishes, and we have:\n",
    "$$E_D\\left[\\left(f_D(x) - h(x)\\right)^2\\right] = \\underbrace{E_D\\left[\\left(f_D(x) - \\bar f(x)\\right)^2\\right]}_{\\text{var}(x)}  + \\underbrace{(\\bar f(x) - h(x))^2}_{\\text{bias}(x)}$$\n",
    "\n",
    "**Final Result:**\n",
    "$$E_x\\left[E_D\\left[\\left(f_D(x) - h(x)\\right)^2\\right]\\right] = E_x[\\text{var}(x) + \\text{bias}(x)] = \\text{var + bias}$$"
   ]
  },
  {
   "cell_type": "markdown",
   "id": "4505136c",
   "metadata": {},
   "source": [
    "**Key Results:**\n",
    "* **variance:**\n",
    "    - **Definition:** Measures how much the model's predictions sensitivity when trained on different datasets.\n",
    "    - **Implications:**\n",
    "        - High variance: The model overfits to the training data, capturing noise instead of the true pattern (poor generalization).\n",
    "        - Low Variance: The model is stable across datasets (better generalization).\n",
    "    - **Formula:**\n",
    "        $$\\text{Variance = }E_D\\left[\\left(f_D(x) - \\bar f(x)\\right)^2\\right]$$\n",
    "        Where $D$ is the training dataset, and $f_D$ is the model trained on $D$\n",
    "\n",
    "* **Bias:**\n",
    "    - **Definition:** Measures the systematic error due to overly simplistic assumptions in the model.  \n",
    "        *(Difference of average of our estimates with best unrestricted regression function)*\n",
    "    - **Implications:**\n",
    "        - High Bias: The model underfits, failing to capture the true relationship (e.g., linear model for nonlinear data).\n",
    "        - Low Bias: The model is flexible enough to approximate the true function.\n",
    "    - **Formula:**\n",
    "        $$\\text{Bias = }(\\bar f(x) - h(x))^2$$\n",
    "        Where $h^*(x) = E_{y|x}[y]$ is the best unrestricted regression function.\n",
    "\n",
    "* **Bias-Variance Tradeoff:**\n",
    "    $$E_{true}[f_D(x)] = E_{x,y}\\left[\\left(f_D(x) - y \\right)^2\\right] = Bias + Variance + Noise$$\n",
    "    - The goal is to balance both to minimize total error.\n",
    "    - Increasing model complexity reduces bias but increases variance, and vice versa."
   ]
  },
  {
   "cell_type": "markdown",
   "id": "d85abf23",
   "metadata": {},
   "source": [
    "**Assumptions:**\n",
    "- 2 training example ($N=2$)\n",
    "- Two models used for learning:\n",
    "  - $H_0: f(x) = b$\n",
    "  - $H_1: f(x) = ax + b$\n",
    "  - $H_0$ is better model than $H_1$\n",
    "- **Lesson:** Mach model complexity to the data source not to the complexity of target function.\n",
    "\n",
    "<div style=\"text-align:center\">\n",
    "  <img src=\"images/biasVarianceEg.png\" alt=\"Bias vs. Variance\">\n",
    "</div>"
   ]
  },
  {
   "cell_type": "markdown",
   "id": "55439fe6",
   "metadata": {},
   "source": [
    "##### **Expected Error & Number of Data Points**"
   ]
  },
  {
   "cell_type": "markdown",
   "id": "a82a71f1",
   "metadata": {},
   "source": [
    "**Simple models**:\n",
    "- Often underfit (such as linear regression)\n",
    "- Bias remains large even with infinite data.\n",
    "- Low variance.\n",
    "- Lead to Large approximation and generalization error.\n",
    "\n",
    "**Complex Model:**\n",
    "- Tend to overfit.\n",
    "- Variance dominates the model is too complex.\n",
    "- Low bias.\n",
    "- Lead to large generalization error.\n",
    "\n",
    "<div style=\"text-align:center\">\n",
    "  <img src=\"images/ExpectedErrorAndDataSize.png\" alt=\"Expected and train error with data size\">\n",
    "</div>"
   ]
  },
  {
   "cell_type": "markdown",
   "id": "debe11f9",
   "metadata": {},
   "source": [
    "## Evaluation & Model Selection"
   ]
  },
  {
   "cell_type": "markdown",
   "id": "a7f43a7a",
   "metadata": {},
   "source": [
    "## Regularization"
   ]
  },
  {
   "cell_type": "markdown",
   "id": "abee6dd7",
   "metadata": {},
   "source": [
    "### **Introduction**"
   ]
  },
  {
   "cell_type": "markdown",
   "id": "111cf4a4",
   "metadata": {},
   "source": [
    "**Definition:** Adding a penalty term in the cost function to discourage the coefficients from reaching large values.\n",
    "\n",
    "**Purpose:** Prevent overfitting bt penalizing large weights.\n",
    "\n",
    "$$J(w) = \\sum_{i=1}^n(y^{(i)} - w^T\\phi(x^{(i)}))^2 + \\lambda w^Tw$$\n",
    "\n",
    "The goal is to minimize cost function. So:\n",
    "$$\\frac{\\partial}{\\partial w} (y - \\phi w)^2 + \\lambda w^Tw = 0$$\n",
    "Since:\n",
    "$$w^Tw = w_1^2 + w_2^2 + ... + w_d^2$$\n",
    "As a result we have:\n",
    "$$2\\phi^T \\phi w - 2\\phi^Ty + 2 \\lambda w = 0$$\n",
    "$$\\hat w = (\\phi^T \\phi + \\lambda I)^{-1}\\lambda^Ty$$\n",
    "\n",
    "Where:\n",
    "- $\\lambda w^Tw$ is regularization term.\n",
    "- $\\lambda$ controls the balance between fit and simplicity.\n",
    "- Regularization does not effect on $w_0$ because $w_0$ is fixing the target range and there is no reason for minimizing $w_0$."
   ]
  },
  {
   "cell_type": "markdown",
   "id": "7fd736c4",
   "metadata": {},
   "source": [
    "* **Large $\\lambda$:**\n",
    "    - Smaller weights\n",
    "    - Reduces complexity\n",
    "    - Increases bias\n",
    "    - Decreases variance\n",
    "\n",
    "* **Small $\\lambda$:**\n",
    "    - Allows larger weights\n",
    "    - Increases complexity\n",
    "    - Reduces bias\n",
    "    - Increases variance\n",
    "    - Better chance of approximation without generalization\n",
    "\n",
    "<div style=\"text-align:center\">\n",
    "  <img src=\"images/regularizationParam.png\" alt=\"regularization parameter\">\n",
    "</div>"
   ]
  },
  {
   "cell_type": "markdown",
   "id": "37b557f8",
   "metadata": {},
   "source": [
    "### **Regularization & Complexity of Hypothesis Space**"
   ]
  },
  {
   "cell_type": "markdown",
   "id": "fd01f0b3",
   "metadata": {},
   "source": [
    "* **Less Complex Hypothesis ($H$):**\n",
    "    - $J_{\\text{train}}(\\hat w) \\approx J_v(\\hat w)$\n",
    "    - $J_{\\text{train}}(\\hat w)$ is very high.\n",
    "    - Better chance of generalization\n",
    "\n",
    "* **More Complex Hypothesis ($H$):**\n",
    "    - $J_{\\text{train}}(\\hat w) \\ll J_v(\\hat w)$\n",
    "    - $J_{\\text{train}}(\\hat w)$ is low. but $J_v(\\hat w)$ is high.\n",
    "    - Better chance of approximation\n",
    "\n",
    "<div style=\"text-align:center\">\n",
    "  <img src=\"images/errorWithPolyDegree.png\" alt=\"Complexity of Polynomial Hypothesis Space\">\n",
    "</div>"
   ]
  },
  {
   "cell_type": "markdown",
   "id": "4645bb65",
   "metadata": {},
   "source": [
    "**Compare:**\n",
    "- **More complex $H$ (left one)**\n",
    "- **Less complex $H$ (right one)**\n",
    "<div style=\"text-align:center\">\n",
    "  <img src=\"images/hypothesisComplexity.png\" alt=\"Complexity of General Hypothesis Space\">\n",
    "</div>"
   ]
  },
  {
   "cell_type": "markdown",
   "id": "ba543eda",
   "metadata": {},
   "source": [
    "**Balance Fit & Complexity:**\n",
    "* **Large $\\lambda$** means prefer to more simple models.\n",
    "* **Small $\\lambda$** means prefer to more complex models.\n",
    "<div style=\"text-align:center\">\n",
    "  <img src=\"images/compareLambda.png\" alt=\"Compare large, intermediate and small lambda\">\n",
    "</div>"
   ]
  },
  {
   "cell_type": "markdown",
   "id": "559aca64",
   "metadata": {},
   "source": [
    "### **Regularization & Bias-Variance**"
   ]
  },
  {
   "cell_type": "markdown",
   "id": "d20e9f38",
   "metadata": {},
   "source": [
    "* **Large $\\lambda$:**\n",
    "    - Increases bias\n",
    "    - Decreases variance\n",
    "\n",
    "* **Small $\\lambda$:**\n",
    "    - Reduces bias\n",
    "    - Increases variance\n",
    "\n",
    "<div style=\"text-align:center\">\n",
    "  <img src=\"images/regularizationAndBiasVariance.png\" alt=\"Regularization & Bias-Variance\">\n",
    "</div>"
   ]
  },
  {
   "cell_type": "markdown",
   "id": "6c47c328",
   "metadata": {},
   "source": [
    "## Probabilistic Regression"
   ]
  },
  {
   "cell_type": "markdown",
   "id": "2722cca0",
   "metadata": {},
   "source": [
    "### **Introduction**"
   ]
  },
  {
   "cell_type": "markdown",
   "id": "4ba712b7",
   "metadata": {},
   "source": [
    "Previously, we modeled the relationship between data points using a single deterministic function.  \n",
    "Now, we shift to a **probabilistic perspective**, where:\n",
    "- instead of predicting a specific output, for each input $x$, model the entire distribution of possible outputs $y$ given $x$ ($p(y|x)$).\n",
    "- Describing uncertainty over value of target variable as a probability distribution.\n",
    "\n",
    "**Visualization:**\n",
    "- The **blue curve** in the figure represents the true distribution of $y$ across $x_0$.\n",
    "- The **red curve** shows the modeled mean $f(x;w)$, with noise around it.\n",
    "\n",
    "<div style=\"text-align:center\">\n",
    "  <img src=\"images/probaPerspective.png\" alt=\"probability perspective curve fitting\">\n",
    "</div>"
   ]
  },
  {
   "cell_type": "markdown",
   "id": "124cf52d",
   "metadata": {},
   "source": [
    "### **Maximum Likelihood Estimation (MLE)**"
   ]
  },
  {
   "cell_type": "markdown",
   "id": "78a4f159",
   "metadata": {},
   "source": [
    "**Probabilistic Modeling of Regression**\n",
    "\n",
    "Assume $y$ given $x$ follows a  Gaussian (Normal) distribution:\n",
    "$$p(y|x) = N(f(x;w), \\sigma^2)$$\n",
    "This is equivalent to writing:\n",
    "$$y = f(x;w) + \\epsilon, \\quad \\epsilon \\sim N(0, \\sigma^2)$$\n",
    "\n",
    "That means:\n",
    "- For a fixed $x$, $y$ is normally distributed\n",
    "- Mean = $f(x; w)$\n",
    "- Variance = $\\sigma^2$\n",
    "\n",
    "We model the uncertainty in the predictions:\n",
    "$$p(y|x,w,\\sigma^2) = \\frac{1}{\\sigma\\sqrt{2\\pi}} e^{-\\frac{1}{2\\sigma^2}(y - f(x;w))^2}$$"
   ]
  },
  {
   "cell_type": "markdown",
   "id": "f2e6ab02",
   "metadata": {},
   "source": [
    "**Apply MLE**\n",
    "\n",
    "Recall: The likelihood of parameters $w$ and $\\sigma^2$\n",
    "$$L(D;w,\\sigma^2) = \\prod_{i=1}^n p(y^{(i)} | x^{(i)}, w, \\sigma^2)$$\n",
    "\n",
    "The goal is to find:\n",
    "$$\\hat w = \\argmax_{w}L(D;w,\\sigma^2)$$\n",
    "\n",
    "It is easier to maximize the log-likelihood instead:\n",
    "$$\\hat w = \\argmax_{w} \\ln L(D;w,\\sigma^2)$$\n",
    "\n",
    "$$\\ln L(D;w,\\sigma^2) = \\ln \\prod_{i=1}^n p(y^{(i)} | x^{(i)}, w, \\sigma^2) = \\sum_{i=1}^n \\ln p(y^{(i)} | x^{(i)}, w, \\sigma^2)$$\n",
    "\n",
    "Substitute the Gaussian formula:\n",
    "$$\\ln p(y^{(i)} | x^{(i)}, w, \\sigma^2) = -\\ln \\sigma - \\frac{1}{2}\\ln 2\\pi - \\frac{1}{2\\sigma^2} (y^{(i)} - f(x^{(i)};w))^2$$\n",
    "\n",
    "Then the full log-likelihood becomes:\n",
    "$$\\ln L(D;w,\\sigma^2) = -n \\ln \\sigma - \\frac{n}{2}\\ln 2\\pi - \\frac{1}{2\\sigma^2}\\sum_{i=1}^n (y^{(i)} - f(x^{(i)};w))^2$$"
   ]
  },
  {
   "cell_type": "markdown",
   "id": "06c04dd7",
   "metadata": {},
   "source": [
    "**MLE for $w$**\n",
    "\n",
    "The Goal is:\n",
    "$$\\hat w = \\argmax_{w} \\ln L(D;w,\\sigma^2) = -n \\ln \\sigma - \\frac{n}{2}\\ln 2\\pi - \\frac{1}{2\\sigma^2}\\sum_{i=1}^n (y^{(i)} - f(x^{(i)};w))^2$$\n",
    "\n",
    "Which is the same as:\n",
    "$$\\hat w = \\argmin_{w} \\frac{1}{2\\sigma^2}\\sum_{i=1}^n (y^{(i)} - f(x^{(i)};w))^2$$\n",
    "\n",
    "This is exactly the minimizing **Sum of Squared Errors (SSE)**.  \n",
    "The standard objective in linear regression."
   ]
  },
  {
   "cell_type": "markdown",
   "id": "d3481b44",
   "metadata": {},
   "source": [
    "**MLE for $\\sigma^2$**\n",
    "\n",
    "To estimate the variance, differentiate the log-likelihood with respect to $\\sigma^2$ and set it to 0:\n",
    "$$\\frac{\\partial}{\\partial \\sigma^2} \\ln L(D;w,\\sigma^2) = 0$$\n",
    "$$\\frac{\\partial}{\\partial \\sigma^2} (-\\frac{n}{2} \\ln \\sigma^2 - \\frac{n}{2}\\ln 2\\pi - \\frac{1}{2\\sigma^2}\\sum_{i=1}^n (y^{(i)} - f(x^{(i)};w))^2) = 0$$\n",
    "$$\\frac{\\partial}{\\partial \\sigma^2} \\ln L(D;w,\\sigma^2) = -\\frac{n}{2}.\\frac{1}{\\sigma^2} + \\frac{1}{\\sigma^4}\\sum_{i=1}^n (y^{(i)} - f(x^{(i)};w))^2 = 0$$\n",
    "Solve for $\\hat \\sigma^2$:\n",
    "$$\\hat \\sigma^2 = \\frac{1}{n}\\sum_{i=1}^n (y^{(i)} - f(x^{(i)};w))^2$$\n",
    "\n",
    "This is the **average squared residual**.  \n",
    "The standard unbiased estimator for noise variance in Gaussian models."
   ]
  },
  {
   "cell_type": "markdown",
   "id": "d0fb1041",
   "metadata": {},
   "source": [
    "### **Maximum a Posterior (MAP)**"
   ]
  },
  {
   "cell_type": "markdown",
   "id": "39944910",
   "metadata": {},
   "source": [
    "**Probabilistic Modeling of Regression**\n",
    "\n",
    "* Given observations $D$\n",
    "* We assign a Gaussian prior to the weights:\n",
    "    $$p(w) = N(0, \\sigma^2)$$\n",
    "    This means:\n",
    "    - The weights are assumed to be normally distributed around zero (mean = 0)\n",
    "    - The variance ($\\sigma^2$) controls how strongly we expect the weights to stay near zero."
   ]
  },
  {
   "cell_type": "markdown",
   "id": "0ceb7368",
   "metadata": {},
   "source": [
    "**Recall: Maximum a Posterior:**\n",
    "$$\\theta_{MAP} = \\max_{\\theta}p(\\theta | D)$$\n",
    "Since $p(\\theta | D) \\propto p(D | theta)p(\\theta)$:\n",
    "$$\\theta_{MAP} = \\max_{\\theta} p(D | theta)p(\\theta)$$"
   ]
  },
  {
   "cell_type": "markdown",
   "id": "9dea31d2",
   "metadata": {},
   "source": [
    "$$\\max_{w}p(w|X,y,\\sigma^2) \\propto p(y|X,w,\\sigma^2)p(w) = \\max_w \\ln p(y|X,w,\\sigma^2)$$\n",
    "Which:\n",
    "$$p(w) = N(0, \\alpha^2I) = (\\frac{1}{\\sigma\\sqrt{2\\pi}})^{d+1} e^{-\\frac{1}{2\\alpha^2}(w^Tw)}$$\n",
    "\n",
    "$$\\max_w \\left[\\ln p(y|X,w,\\sigma^2) = \\max_w (\\ln p(w|D)) + (\\ln p(w))\\right] = \\max_w \\left[-\\frac{1}{2\\sigma^2}\\sum_{i=1}^N(y^{(i)} - w^Tx^{(i)})^2 + -\\frac{1}{2\\alpha^2} w^Tw\\right]$$\n",
    "$$ = \\min_w \\left[\\frac{1}{\\sigma^2}\\sum_{i=1}^N(y^{(i)} - w^Tx^{(i)})^2 + \\frac{1}{\\alpha^2} w^Tw\\right]$$\n",
    "\n",
    "**Equivalent to regularized SSE with $\\lambda = \\frac{\\sigma^2}{\\alpha^2}$**"
   ]
  },
  {
   "cell_type": "markdown",
   "id": "9427e4b5",
   "metadata": {},
   "source": [
    "# Classification"
   ]
  },
  {
   "cell_type": "markdown",
   "id": "4dcb830d",
   "metadata": {},
   "source": [
    "## Introduction"
   ]
  },
  {
   "cell_type": "markdown",
   "id": "068cebe3",
   "metadata": {},
   "source": [
    "**Given:** Training Set\n",
    "- A dataset $D$ with $N$ labeled instances $D = \\{x^{(i)}, y^{(i)}\\}_{i=1}^N$\n",
    "- $y^{(i)} \\in {1, 2, ..., K}$\n",
    "\n",
    "**Goal:** Given an input $x$, assign it to one of $K$ classes.\n",
    "\n",
    "**Examples:**\n",
    "- Email Spam Detection\n",
    "- Medical Diagnosis\n",
    "- Handwritten digit recognition"
   ]
  },
  {
   "cell_type": "markdown",
   "id": "84ed3bac",
   "metadata": {},
   "source": [
    "**Decision Boundary:**\n",
    "\n",
    "**Definition:** A dividing hyperplane that separates different classes in a feature space, also known as **Decision Surface**.\n",
    "\n",
    "In a $d$-dimensional feature space, the decision boundary for a linear classifier is a hyper plane of dimension $d-1$.\n",
    "\n",
    "<div style=\"text-align:center\">\n",
    "  <img src=\"images/decisionBoundary.png\" alt=\"Decision Boundary Examples\">\n",
    "</div>"
   ]
  },
  {
   "cell_type": "markdown",
   "id": "ac85eff5",
   "metadata": {},
   "source": [
    "**Regression vs Classification:**\n",
    "\n",
    "**Linear Regression:**\n",
    "- Target: Continuous values (real numbers)\n",
    "\n",
    "**Linear Classifier:**\n",
    "- Target: Binary or multi-category labels"
   ]
  },
  {
   "cell_type": "markdown",
   "id": "f6a414a7",
   "metadata": {},
   "source": [
    "## Discriminant Functions"
   ]
  },
  {
   "cell_type": "markdown",
   "id": "3475be55",
   "metadata": {},
   "source": [
    "### **Introduction**"
   ]
  },
  {
   "cell_type": "markdown",
   "id": "bbc27756",
   "metadata": {},
   "source": [
    "**Definition:** A discriminant function $f_i(x)$ that assigns a score to an input vector $x$, for each class $C_i(i=1, ..., K)$\n",
    "\n",
    "**How it works:**\n",
    "* **Binary Classification:**\n",
    "    - Two functions $f_1(x)$ and $f_2(x)$ for classes $C_1$ and $C_2$. The class is predicted by comparing these two functions:\n",
    "    $$\n",
    "    \\hat{y} = \n",
    "    \\begin{cases} \n",
    "    C_1 & \\text{if } f_1(x) \\gt f_2(x) \\\\\n",
    "    C_2 & \\text{otherwise}\n",
    "    \\end{cases}\n",
    "    $$\n",
    "    - Decision boundary: $f(x) = 0$\n",
    "    - For binary classification we can only find a function $f: R^d \\rightarrow R$ where:\n",
    "        - $f_1(x) = f(x)$\n",
    "        - $f_2(x) = -f(x)$\n",
    "<br><br>\n",
    "* **General Case:**\n",
    "    - For $k$-class problems, we compute $f_i(x)$ for every class $i$, and assign $x$ to class with highest score:\n",
    "    $$\\hat{y} = \\argmax_i f_i(x)$$"
   ]
  },
  {
   "cell_type": "markdown",
   "id": "9d588b2d",
   "metadata": {},
   "source": [
    "### **Linear Classifier**"
   ]
  },
  {
   "cell_type": "markdown",
   "id": "48f55c4d",
   "metadata": {},
   "source": [
    "#### **Introduction**"
   ]
  },
  {
   "cell_type": "markdown",
   "id": "dac04c77",
   "metadata": {},
   "source": [
    "##### **Core Concepts (definitions, limitations, decision surface)**"
   ]
  },
  {
   "cell_type": "markdown",
   "id": "cdc5f23a",
   "metadata": {},
   "source": [
    "**Definition:** Decision boundaries are linear in $x$, or linear in some given set of functions of $x$ ($\\phi(x)$).\n",
    "\n",
    "**Linearly separable data:** data points that can be exactly classified by a linear decision surface.\n",
    "\n",
    "**Why Linear Classifier:** *(even they are not optimal)*\n",
    "- Simplicity\n",
    "- Easy to compute\n",
    "- Efficiency\n",
    "- Attractive candidates for initial, trial classifiers\n",
    "- Effectiveness"
   ]
  },
  {
   "cell_type": "markdown",
   "id": "dfb33743",
   "metadata": {},
   "source": [
    "**Two Category Classification**\n",
    "$$f(x;w) = w^Tx + w_0 = w_0 + w_1x_1 + ... + w_dx_d$$\n",
    "Where:\n",
    "- $x = [x_1, x_2, ..., x_d]$\n",
    "- $w = [w_1, w_2, ..., w_d]$\n",
    "- $w_0$: Bias\n",
    "\n",
    "$$\n",
    "\\hat{y} = \n",
    "\\begin{cases} \n",
    "C_1 & \\text{if } w^Tx + w_0 \\ge 0 \\\\\n",
    "C_2 & \\text{otherwise}\n",
    "\\end{cases}\n",
    "$$\n",
    "\n",
    "**Decision Boundary(Surface):** \n",
    "$$w^Tx + w_0 = 0$$\n",
    "Decision Boundary is a $(d−1)$-dimensional hyperplane in $d$-dimensional space."
   ]
  },
  {
   "cell_type": "markdown",
   "id": "1c4266d4",
   "metadata": {},
   "source": [
    "##### **$w$ is orthogonal to every vector lying within the decision surface**"
   ]
  },
  {
   "cell_type": "markdown",
   "id": "b1870923",
   "metadata": {},
   "source": [
    "Decision Surface:\n",
    "$$w^Tx + w_0 = 0$$\n",
    "For any two points $x_1$ and $x_2$ on the decision surface:\n",
    "$$w^Tx_1 + w_0 = 0 \\quad \\text{and} \\quad w^Tx_2 + w_0 = 0$$\n",
    "Subtracting these equations:\n",
    "$$w^T(x_1 - x_2)  = 0$$\n",
    "Which:\n",
    "$x_1 - x_2$: A vector parallel to the decision surface.\n",
    "\n",
    "**Conclusion:**\n",
    "- $w$ is *orthogonal* to every vector lying within the decision surface\n",
    "- $w$ acts as the *normal vector* to the decision surface"
   ]
  },
  {
   "cell_type": "markdown",
   "id": "6a3588f3",
   "metadata": {},
   "source": [
    "##### **Signed measure of the perpendicular distance $r$ of the point $x$ from the decision surface:**"
   ]
  },
  {
   "cell_type": "markdown",
   "id": "e0a35baa",
   "metadata": {},
   "source": [
    "- Decision surface $H$ is determined by the normal vector $w = [w_1, w_2, ..., w_d]$: $H = w^Tx + w_0$\n",
    "- $w_0$ determine the location of the surface\n",
    "- The normal distance from the origin to the decision surface is $\\frac{w_0}{||w||}$\n",
    "\n",
    "$$x = x_\\perp + r\\frac{w}{||w||}$$\n",
    "Where, $r$ is the scalar distance (signed).\n",
    "\n",
    "Evaluate $H$ at $x$:\n",
    "$$w^Tx + w_0 = w^T(x_\\perp + r\\frac{w}{||w||}) + w_0$$\n",
    "$$ = (w^Tx_\\perp + w_0) + r\\frac{w^Tw}{||w||}$$\n",
    "\n",
    "Since $x_\\perp \\in H$ then $w^Tx_\\perp + w_0 = 0$. So:\n",
    "$$ = r\\frac{||w||^2}{||w||} = r||w||$$\n",
    "\n",
    "As a result:\n",
    "$$w^Tx + w_0 = r||w||$$\n",
    "\n",
    "Solve for r:\n",
    "$$r = \\frac{w^Tx + w_0}{||w||}$$\n",
    "\n",
    "<div style=\"text-align:center\">\n",
    "  <img src=\"images/LinearClassifierDistance.png\" alt=\"Linear Classifier Distance\">\n",
    "</div>"
   ]
  },
  {
   "cell_type": "markdown",
   "id": "4d01e43f",
   "metadata": {},
   "source": [
    "Linear boundary geometry POV summary:\n",
    "<div style=\"text-align:center\">\n",
    "  <img src=\"images/LinearClassifierSummary.png\" alt=\"Linear boundary geometry POV summary\">\n",
    "</div>"
   ]
  },
  {
   "cell_type": "markdown",
   "id": "6cbd1319",
   "metadata": {},
   "source": [
    "##### **Non-Linear Decision Boundary**"
   ]
  },
  {
   "cell_type": "markdown",
   "id": "c93397fa",
   "metadata": {},
   "source": [
    "- **Feature Transformation ($\\phi(x)$):** Non-linearity is introduced by transforming features into a higher dimensional space.\n",
    "\n",
    "- **Linear in Transformed Space:** The decision boundary becomes linear in the new space, but non-linear in the original space.\n",
    "\n",
    "Same as what we did in *Polynomial Regression* problem.\n",
    "\n",
    "- Example:\n",
    "<div style=\"text-align:center\">\n",
    "  <img src=\"images/non-linearDecisionBoundary.png\" alt=\"Non-Linear Decision Boundary Example\">\n",
    "</div>\n",
    "\n",
    "$$x_1^2 + x_2^2 = 1$$\n",
    "$$\\phi(x) = [1, x_1, x_2, x_1^2, x_2^2, x_1x_2]$$\n",
    "$$w = [w_0, w_1, ..., w_6] = [-1, 0, 0, 1, 1, 0]$$\n",
    "$$\n",
    "y = \n",
    "\\begin{cases} \n",
    "1 & \\text{if } w^T\\phi(x) \\ge 0 \\\\\n",
    "-1 & \\text{otherwise}\n",
    "\\end{cases}\n",
    "$$"
   ]
  },
  {
   "cell_type": "markdown",
   "id": "d07f78c3",
   "metadata": {},
   "source": [
    "#### **Cost function**"
   ]
  },
  {
   "cell_type": "markdown",
   "id": "6ecdaa80",
   "metadata": {},
   "source": [
    "##### **Introduction**"
   ]
  },
  {
   "cell_type": "markdown",
   "id": "96a513e3",
   "metadata": {},
   "source": [
    "Finding linear classifier can be formulated as *optimization problem*:\n",
    "\n",
    "**Given:**\n",
    "- Training set $D = \\{x^{(i)},y^{(i)}\\}$\n",
    "- Cost function $J(w)$\n",
    "\n",
    "**Find:**\n",
    "- Optimal $\\hat{f}(x) = f(x;\\hat{w})$ where:\n",
    "$$\\hat{w} = \\argmin_w J(w)$$\n",
    "\n",
    "Unlike Regression problem, we will investigate several cost functions for Classification problem."
   ]
  },
  {
   "cell_type": "markdown",
   "id": "705b40f2",
   "metadata": {},
   "source": [
    "##### **Sum of Squared Error (SSE)**"
   ]
  },
  {
   "cell_type": "markdown",
   "id": "d315c158",
   "metadata": {},
   "source": [
    "**Formula:**\n",
    "$$J(w) = \\sum_{i=1}^n(w^Tx^{(i)} - y^{(i)})^2$$\n",
    "\n",
    "**Limitations:**\n",
    "- If the model predicts close to the true class but not exactly 0 or 1, SSE still shows positive error, even for correct predicts\n",
    "- SSE penalizes too correct predictions (ones which lie a long way on the correct side of the decision)\n",
    "- Lack of robustness to noise. Small variations can cause significant changes in the cost\n",
    "\n",
    "<div style=\"text-align:center\">\n",
    "  <img src=\"images/SSECostFuncForClassification.png\" alt=\"SSE cost function example\">\n",
    "</div>"
   ]
  },
  {
   "cell_type": "markdown",
   "id": "5899c1fc",
   "metadata": {},
   "source": [
    "##### **Alternative for SSE**"
   ]
  },
  {
   "cell_type": "markdown",
   "id": "f6a22445",
   "metadata": {},
   "source": [
    "**Signed Activation Function**\n",
    "\n",
    "make my notes better and prettier\n",
    "**Definition:** Measures how many samples are misclassified by the model, penalizing each error by 4 units\n",
    "\n",
    "**Formula:**\n",
    "$$J(w) = \\sum_{i=1}^n(\\text{sign}(w^Tx^{(i)}) - y^{(i)})^2$$\n",
    "\n",
    "Sign Function:\n",
    "$$\n",
    "\\text{sign}(z) = \n",
    "\\begin{cases} \n",
    "1 & z \\lt 0 \\\\\n",
    "-1 & z \\ge 0\n",
    "\\end{cases}\n",
    "$$\n",
    "\n",
    "| **True Label (y)** | **Prediction** | **Calculation**               | **Cost (J)**|  \n",
    "|--------------------|----------------|-------------------------------|-------------|  \n",
    "|     $+1$           |     $+1$       |   $(+1 - (+1))^2 = 0$         | 0           |  \n",
    "|     $-1$           |     $-1$       |   $(-1 - (-1))^2 = 0$         | 0           |  \n",
    "|     $-1$           |     $+1$       |   $(-1 - (+1))^2 = 4$         | 4           |  \n",
    "|     $+1$           |     $-1$       |   $(+1 - (-1))^2 = 4$         | 4           |  \n",
    "\n",
    "\n",
    "**Limitations:**\n",
    "- **Non-Differentiable:**\n",
    "    - The $\\text{sign}(z)$ function has discontinuities at $z=0$, making gradient-based optimization impossible.\n",
    "- **Flat Gradients:**\n",
    "    - The cost landscape has large flat regions.\n",
    "- **Coarse Error Sensitivity:**\n",
    "    - All misclassifications are penalized equally (4 units), regardless of how *close* the prediction was to the boundary."
   ]
  },
  {
   "cell_type": "markdown",
   "id": "e858357e",
   "metadata": {},
   "source": [
    "**Sigmoid Activation Function**\n",
    "\n",
    "- **Far from decision boundary**: Output approaches **1** (high confidence).\n",
    "- **Close to decision boundary**: Output ≈ **0.5** (uncertain classification).\n",
    "- Solves the **non-differentiable** problem of the sign function by providing smooth gradients.\n",
    "\n",
    "**Formula:**\n",
    "$$\n",
    "\\sigma(z) = \\frac{1}{1 + e^{-z}} \\quad \\text{(Output range: 0 to 1)}\n",
    "$$\n",
    "\n",
    "**Limitations:**\n",
    "- **Non-Convex Cost Function:**\n",
    "    - May converge to local minima during optimization."
   ]
  },
  {
   "cell_type": "markdown",
   "id": "ca66e975",
   "metadata": {},
   "source": [
    "##### **Perceptron**"
   ]
  },
  {
   "cell_type": "markdown",
   "id": "fdb5c107",
   "metadata": {},
   "source": [
    "- **Core concept:**  \n",
    "The perceptron criterion focuses on misclassified points.\n",
    "\n",
    "- **Formula:**\n",
    "    $$J_p(w) = -\\sum_{i \\in M}y^{(i)}w^Tx^{(i)}$$\n",
    "    Where:\n",
    "    - $y^{(i)} \\in \\{-1,+1\\}$\n",
    "    - $M$: Subset of training data what are misclassified\n",
    "    - $w^T x^{(i)}$: Signed distance from decision boundary\n",
    "\n",
    "- **Decompose $y^{(i)}w^Tx^{(i)}$ term:**\n",
    "    - $y^{(i)}$ Set the sign (direction) of the perceptron.\n",
    "    - $w^T x^{(i)}$: Signed distance from the decision boundary. It causes points farther from the boundary to be penalized more.\n",
    "\n",
    "- **Classification Cases:**\n",
    "    - **Correct Prediction:**\n",
    "        - *Ignored in the sum (since $i \\notin M$)*\n",
    "    - **Incorrect Prediction** ($\\text{sign}(w^T x^{(i)}) \\neq y^{(i)}$)\n",
    "        - $ y^{(i)} w^T x^{(i)} < 0 $ → **Positive penalty** in $ J_p(w) $  \n",
    "        - Penalty scales with distance from boundary (farther = worse)"
   ]
  },
  {
   "cell_type": "markdown",
   "id": "246b35ee",
   "metadata": {},
   "source": [
    "#### **Perceptron**"
   ]
  },
  {
   "cell_type": "markdown",
   "id": "78e12b86",
   "metadata": {},
   "source": [
    "##### **Introduction**"
   ]
  },
  {
   "cell_type": "markdown",
   "id": "fb835335",
   "metadata": {},
   "source": [
    "**Perceptron Unit:**\n",
    "- **Basic Building Block:**\n",
    "  - A perceptron is the simplest type of artificial neuron used in machine learning.\n",
    "- **Linear Classifier:**\n",
    "  - It maps input features to an output by applying a linear combination and a threshold.\n",
    "- **Binary Decision:**\n",
    "  - Outputs 1 if the weighted sum of inputs exceeds the threshold.\n",
    "- **Components:**\n",
    "  - Inputs, weights, bias & an activation function (step or sigmoid function)\n",
    "\n",
    "<div style=\"text-align:center\">\n",
    "  <img src=\"images/perceptronUnit.png\" alt=\"Perceptron Unit\">\n",
    "</div>"
   ]
  },
  {
   "cell_type": "markdown",
   "id": "6e901fd4",
   "metadata": {},
   "source": [
    "**Inspired By Neurons:** Perceptron mimics the basic function of biological neurons in the brain\n",
    "\n",
    "<div style=\"text-align:center\">\n",
    "  <img src=\"images/biologicalNeuron.png\" alt=\"Biological Motivation Behind Perceptron\">\n",
    "</div>"
   ]
  },
  {
   "cell_type": "markdown",
   "id": "c508f5a9",
   "metadata": {},
   "source": [
    "**Single Neuron as a Linear Decision Boundary**\n",
    "\n",
    "The output of a single neuron is:\n",
    "$$y = f(w^Tx+w_0)$$\n",
    "Where:\n",
    "- $x$: Input vector\n",
    "- $w$: weight vector\n",
    "- $w_0$: Bias term\n",
    "- $f$: Activation function (e.g: step, sigmoid)\n",
    "\n",
    "**Linear Separation:** A neuron defines a linear decision boundary:\n",
    "$$w^Tx+w_0 = threshold \\text{ (0 for step, 0.5 for sigmoid)}$$\n",
    "\n",
    "**Decision Rule:**\n",
    "$$\n",
    "y = \n",
    "\\begin{cases} \n",
    "C_1 & \\text{if } w^Tx+w \\ge threshold \\\\\n",
    "C_2 & \\text{otherwise}\n",
    "\\end{cases}\n",
    "$$"
   ]
  },
  {
   "cell_type": "markdown",
   "id": "420a513c",
   "metadata": {},
   "source": [
    "**Limitations of a Single Perceptron**\n",
    "- **Performs Linear Separation:**\n",
    "    - A single perceptron can handle linearly separable problems such as:\n",
    "        - AND operation\n",
    "        - OR operation\n",
    "\n",
    "- **Fails on Non-Linear Problems:**\n",
    "    - A single perceptron fails to solve non-linear problems like XOR\n",
    "    - Non-Linear problem: Data points cannot be separated by a straight line.\n",
    "    - Handle by using *Multi-Layer Perceptron* (MLP)\n",
    "\n",
    "<div style=\"text-align:center\">\n",
    "  <img src=\"images/XORProblem.png\" alt=\"XOR Problem\">\n",
    "</div>"
   ]
  },
  {
   "cell_type": "markdown",
   "id": "141b8bae",
   "metadata": {},
   "source": [
    "**Multi-Layer Perceptron**\n",
    "\n",
    "- **Adding Layers for More Complexity:**\n",
    "    - MLP consists of multiple layers of neurons that allow us to model more complex functions\n",
    "    - Each layer has new decision boundaries, making possible to separate non-linear data\n",
    "\n",
    "- **Two-Layer Example**\n",
    "    - Input Layer $\\rightarrow$ Hidden Layer $\\rightarrow$ Output Layer\n",
    "    - Hidden layers introduce non-linear transformations through activation functions, enabling the network to model complex decision boundaries.\n",
    "\n",
    "<div style=\"text-align:center\">\n",
    "  <img src=\"images/MLP.png\" alt=\"2-Layer Perceptron\">\n",
    "</div>    "
   ]
  },
  {
   "cell_type": "markdown",
   "id": "cc8dac84",
   "metadata": {},
   "source": [
    "##### **Perceptron Algorithm**"
   ]
  },
  {
   "cell_type": "markdown",
   "id": "da6bd557",
   "metadata": {},
   "source": [
    "- Binary Classification:\n",
    "    $$y \\in \\{-1, 1\\}$$\n",
    "- Goal:\n",
    "    $$\\forall_i, x^{(i)} \\in C_1 \\rightarrow w^Tx^{(i)} \\gt 0$$\n",
    "    $$\\forall_i, x^{(i)} \\in C_2 \\rightarrow w^Tx^{(i)} \\lt 0$$\n",
    "- Activation function:\n",
    "    $$f(x;w) = \\text{sign}(w^Tx)$$"
   ]
  },
  {
   "cell_type": "markdown",
   "id": "7710dfad",
   "metadata": {},
   "source": [
    "**Perceptron criterion**\n",
    "$$J_p(w) = - \\sum_{i \\in M} w^Tx^{(i)}y^{(i)}$$\n",
    "Where:\n",
    "- $M$: Subset of training data that are misclassified\n",
    "\n",
    "*Which is discussed linear classifier cost function section.*\n",
    "\n",
    "**Goal:** Minimize the loss by correctly classified all points."
   ]
  },
  {
   "cell_type": "markdown",
   "id": "078ae0c1",
   "metadata": {},
   "source": [
    "##### **Batch Perceptron**"
   ]
  },
  {
   "cell_type": "markdown",
   "id": "fcf6d087",
   "metadata": {},
   "source": [
    "**Definition:** Updates the weight vector using all misclassified points in each iteration.\n",
    "\n",
    "**Gradient Descent:** Adjusting weights in the direction that reduces the loss:\n",
    "    $$w^t+1 = w^t - \\eta \\nabla_w J_p(w^t)$$\n",
    "    $$\\nabla_w J_p(w) = - \\sum_{i \\in M} x^{(i)}y^{(i)}$$\n",
    "\n",
    "Batch Perceptron converges in finite number of steps for linearly separable data.\n",
    "\n",
    "> Initialize $w$  \n",
    "> Repeat:  \n",
    "> &nbsp;&nbsp;&nbsp;&nbsp;$w = w + \\eta \\sum_{i \\in M} x^{(i)}y^{(i)}$  \n",
    "> Until:  \n",
    "> &nbsp;&nbsp;&nbsp;&nbsp;$\\eta \\sum_{i \\in M} x^{(i)}y^{(i)} < \\theta$"
   ]
  },
  {
   "cell_type": "markdown",
   "id": "c0e8e3d3",
   "metadata": {},
   "source": [
    "##### **Single-Sample Perceptron**"
   ]
  },
  {
   "cell_type": "markdown",
   "id": "a0c3d472",
   "metadata": {},
   "source": [
    "**Definition:** Updates the weight vector after each individual point.\n",
    "\n",
    "**Stochastic Gradient Descent (SGD):**\n",
    "$$J_p(w) = \\sum_{k=1}^KJ_p^{(k)}(w)$$\n",
    "- Using only one misclassified sample at a time:\n",
    "    $$w^t+1 = w^t + \\eta x^{(i)}y^{(i)}$$\n",
    "- Lower computational cost per iteration, maybe faster convergence.\n",
    "- If we predicted wrong:\n",
    "$$\n",
    "w^{t+1} = \n",
    "\\begin{cases} \n",
    "w^t + \\eta x^{(i)} & \\text{if } y^{(i)} \\gt 0 \\\\\n",
    "w^t - \\eta x^{(i)} & \\text{if } y^{(i)} \\lt 0\n",
    "\\end{cases}\n",
    "$$\n",
    "\n",
    "\n",
    "If training data are linearly separable, the single-sample perceptron is also guaranteed to find a solution in a finite number of steps.\n",
    "\n",
    "> Initialize $w$, $t \\leftarrow 0$  \n",
    "> Repeat:  \n",
    "> &nbsp;&nbsp;&nbsp;&nbsp;$t \\leftarrow t + 1$  \n",
    "> &nbsp;&nbsp;&nbsp;&nbsp;$i \\leftarrow t \\bmod N$  \n",
    "> &nbsp;&nbsp;&nbsp;&nbsp;if $x^{(i)}$ is misclassified then:  \n",
    "> &nbsp;&nbsp;&nbsp;&nbsp;&nbsp;&nbsp;&nbsp;&nbsp;$w = w + \\eta x^{(i)} y^{(i)}$  \n",
    "> Until all patterns are properly classified"
   ]
  },
  {
   "cell_type": "markdown",
   "id": "1a7f8e12",
   "metadata": {},
   "source": [
    "##### **Pocket Algorithm**"
   ]
  },
  {
   "cell_type": "markdown",
   "id": "1c95d77a",
   "metadata": {},
   "source": [
    "**Limitations:**\n",
    "- The Perceptron stops learning as soon as all training points are correctly classified, even if the decision boundary is suboptimal.\n",
    "- When no linear decision boundary can perfectly separate the classes, the Perceptron fails to converge.\n",
    "\n",
    "For the data that are not linearly separable due to noise:\n",
    "Keeps in its pocket the best 𝒘 encountered up to now.\n",
    "\n",
    "> Initialize w  \n",
    "> for $t = 1, ..., T$  \n",
    "> &nbsp;&nbsp;&nbsp;&nbsp;$i \\leftarrow t \\text{mod} N$  \n",
    "> &nbsp;&nbsp;&nbsp;&nbsp;if $x^{(i)}$ is misclassified then  \n",
    "> &nbsp;&nbsp;&nbsp;&nbsp;&nbsp;&nbsp;&nbsp;&nbsp;$w^{new} = w + x^{(i)}y^{(i)}$  \n",
    "> &nbsp;&nbsp;&nbsp;&nbsp;&nbsp;&nbsp;&nbsp;&nbsp;if $E_{train}(w^{new}) \\lt E_{train}(w)$ then  \n",
    "> &nbsp;&nbsp;&nbsp;&nbsp;&nbsp;&nbsp;&nbsp;&nbsp;&nbsp;&nbsp;&nbsp;&nbsp;w = w^{new}  \n",
    "> end  "
   ]
  },
  {
   "cell_type": "markdown",
   "id": "56ca36ca",
   "metadata": {},
   "source": [
    "### **Linear Discriminant Algorithm (LDA)**"
   ]
  },
  {
   "cell_type": "markdown",
   "id": "9a91eb03",
   "metadata": {},
   "source": [
    "#### **Introduction**"
   ]
  },
  {
   "cell_type": "markdown",
   "id": "00c46014",
   "metadata": {},
   "source": [
    "Fisher's Linear Discriminant Analysis \n",
    "\n",
    "LDA, like the Perceptron algorithm, seeks a line (or hyperplane) to separate data, but its approach is different.\n",
    "\n",
    "**How it works?**\n",
    "- Predicts the class of an observation $x$ by first projecting it to the space of discriminant variables and then classifying it in this space\n",
    "- Predicts the class of an observation $x$ by first **projecting it** to the space of new discriminant variables and then classifying it in this space\n",
    "\n",
    "**Goal:**  After projection, the mapped data should be as separable as possible (unlike the Perceptron, which only focuses on correct classification).\n",
    "\n",
    "**Dimensionality Reduction:** LDA can also reduce dimensions by creating a new feature (linear combination of original features) that best preserves class discrimination.\n",
    "\n",
    "<div style=\"text-align:center\">\n",
    "  <img src=\"images/LDA.png\" alt=\"LDA example\">\n",
    "</div>"
   ]
  },
  {
   "cell_type": "markdown",
   "id": "c7789855",
   "metadata": {},
   "source": [
    "**LDA Problem Definition**\n",
    "\n",
    "**Problem:**\n",
    "- $C = 2$ classes\n",
    "- $\\{(x^{i}, y^{(i)})\\}_{i=1}^N$ training samples with $N_1$ samples from the first class ($C_1$)\n",
    "and $N_2$ samples from the second class ($C_2$)\n",
    "\n",
    "**Goal:**\n",
    "- finding the best direction $w$ that we hope to enable accurate classification\n",
    "\n",
    "**Tip:**\n",
    "- The projection of sample $x$ onto a line in direction $w$ is $w^Tx$"
   ]
  },
  {
   "cell_type": "markdown",
   "id": "8c8d8801",
   "metadata": {},
   "source": [
    "#### **Measure of Separation in the Projected Direction**"
   ]
  },
  {
   "cell_type": "markdown",
   "id": "fbfa4b6e",
   "metadata": {},
   "source": [
    "##### **large separation between the projected class means**"
   ]
  },
  {
   "cell_type": "markdown",
   "id": "621651fb",
   "metadata": {},
   "source": [
    "**Goal:**\n",
    "$$\\hat{w} = \\max_w J(w) = (\\mu_1' - \\mu_2')^2$$\n",
    "$$\\text{s.t.} ||w|| = 1$$\n",
    "\n",
    "Where:\n",
    "$$\\mu_1 = \\frac{\\sum_x^{(i) \\in C_1}}{N_1}, \\quad \\mu_1' = w^T\\mu_1$$\n",
    "$$\\mu_2 = \\frac{\\sum_x^{(i) \\in C_2}}{N_2}, \\quad \\mu_2' = w^T\\mu_2$$\n",
    "\n",
    "**Problem:** It does not consider the variances of the classes in the projected direction"
   ]
  },
  {
   "cell_type": "markdown",
   "id": "7c303168",
   "metadata": {},
   "source": [
    "##### **LDA Criteria**"
   ]
  },
  {
   "cell_type": "markdown",
   "id": "7c96c0e4",
   "metadata": {},
   "source": [
    "**Fisher Idea:**\n",
    "Find a projection direction $w$ that maximizes class separability by:\n",
    "- **Maximizing the distance** between the projected means of the two classes *(between-class separation)*.\n",
    "- **Minimizing the variance** (scatter) within each class after projection *(within-class compactness)*.\n",
    "\n",
    "**Formula:**\n",
    "$$J(w) = \\frac{|\\mu'_1 - \\mu'_2|^2}{{s'_1}^2 + {s'_2}^2}$$\n",
    "\n",
    "Where:\n",
    "- $\\mu'_1, \\mu'_2$: Projected means of classes 1 and 2 onto direction w.\n",
    "- ${s'_1}^2, {s'_2}^2$: Scatter (variance) of projected data within each class. *(Scatter matrices)*\n",
    "\n",
    "Comparison between large separation between means *(left pic)* and LDA criteria *(right pic)*:\n",
    "<div style=\"text-align:center\">\n",
    "  <img src=\"images/LDACriteria.png\" alt=\"Comparison image\">\n",
    "</div>"
   ]
  },
  {
   "cell_type": "markdown",
   "id": "6dc5fafd",
   "metadata": {},
   "source": [
    "**Scatter Matrix**\n",
    "\n",
    "Measures how tightly data points are clustered around their class mean.  \n",
    "Scatter Matrix is a better choice rather than variance because it is sensitive to the number of samples per class.\n",
    "\n",
    "The scatters of the original data:\n",
    "$$s_1^2 = \\sum_{x^{(i)} \\in C_1} ||x^{(i)} - \\mu_1||^2$$\n",
    "$$s_2^2 = \\sum_{x^{(i)} \\in C_2} ||x^{(i)} - \\mu_2||^2$$\n",
    "\n",
    "The scatters of projected data:\n",
    "$${s'_1}^2 = \\sum_{x^{(i)} \\in C_1} (w^Tx^{(i)} - w^T\\mu_1)^2$$\n",
    "$${s'_2}^2 = \\sum_{x^{(i)} \\in C_2} (w^Tx^{(i)} - w^T\\mu_2)^2$$"
   ]
  },
  {
   "cell_type": "markdown",
   "id": "09f7b740",
   "metadata": {},
   "source": [
    "- **Objective Function (Fisher's Criterion):**  \n",
    "    Maximize the ratio of between-class separation to within-class scatter:\n",
    "    $$J(w) = \\frac{|\\mu'_1 - \\mu'_2|^2}{{s'_1}^2 + {s'_2}^2}$$\n",
    "    Where:\n",
    "    - $\\mu_k'$: projected mean of class $k$\n",
    "    - $s_k'^2$: scatter of projected class $k$\n",
    "\n",
    "- **Key Components**  \n",
    "    - Between-Class Separation:\n",
    "        $$|\\mu_1' - \\mu_2'|^2 = |w^T\\mu_1 - w^T\\mu_2|^2$$\n",
    "        $$ = w^T(\\mu_1 - \\mu_2)(\\mu_1 - \\mu_2)^Tw$$\n",
    "        \n",
    "        - Between-class scatter matrix:\n",
    "            $$S_B = (\\mu_1 - \\mu_2)(\\mu_1 - \\mu_2)^T$$\n",
    "\n",
    "    - Within-Class Scatter\n",
    "        $${s'_1}^2 = \\sum_{x^{(i)} \\in C_1}(w^Tx^{(i)} - \\mu_1)^2 = w^T\\left(\\sum_{x^{(i)} \\in C_1} \\left(x^{(i)} - \\mu_1\\right) \\left(x^{(i)} - \\mu_1 \\right)^T \\right)w$$\n",
    "\n",
    "        $${s'_2}^2 = \\sum_{x^{(i)} \\in C_2}(w^Tx^{(i)} - \\mu_2)^2 = w^T\\left(\\sum_{x^{(i)} \\in C_2} \\left(x^{(i)} - \\mu_2\\right) \\left(x^{(i)} - \\mu_2 \\right)^T \\right)w$$\n",
    "\n",
    "        $$S_1 = \\sum_{x^{(i)} \\in C_1} {(x^{(i)} - \\mu_1)(x^{(i)} - \\mu_1)^T}$$\n",
    "        $$S_2 = \\sum_{x^{(i)} \\in C_2} {(x^{(i)} - \\mu_2)(x^{(i)} - \\mu_2)^T}$$\n",
    "\n",
    "        - Since ${s'_1}^2 = w^T s_1 w$ and ${s'_2}^2 = w^T s_2 w$ then:\n",
    "            $${s'_1}^2 + {s'_2}^2 = w^T(s_1 + s_2)w$$\n",
    "            $$S_W = S_1 + S_2$$\n",
    "\n",
    "- **Generalized Objective**  \n",
    "    Rewrite $J(w)$ using $S_B$ and $S_W$:\n",
    "    $$J(w) = \\frac{w^TS_Bw}{w^TS_Ww}$$\n",
    "\n",
    "- **Optimization**  \n",
    "    Since:  \n",
    "    $$\\frac{\\partial}{\\partial w} w^TAw = 2Aw$$\n",
    "    Take the derivative and set it to zero:  \n",
    "    $$\\frac{\\partial J(w)}{\\partial w} = \\frac{\\frac{\\partial w^TS_Bw}{\\partial w}w^TS_Ww - \\frac{\\partial w^TS_Ww}{\\partial w}w^TS_Bw}{(w^TS_Ww)^2} = \\frac{(2S_Bw)w^TS_Ww - (2S_Ww)w^TS_Bw}{(w^TS_Ww)^2} = 0$$\n",
    "    So:  \n",
    "    $$(2S_Bw)w^TS_Ww - (2S_Ww)w^TS_Bw = 0$$\n",
    "    $$(S_Bw)w^TS_Ww = (S_Ww)w^TS_Bw$$\n",
    "    Let $w^TS_Ww = \\beta$ and $w^TS_Bw = \\alpha$ (scalars):  \n",
    "    $$S_Bw = \\frac{\\alpha}{\\beta}S_Ww$$\n",
    "    Define $\\frac{\\alpha}{\\beta} = \\lambda$:  \n",
    "    $$S_Bw = \\lambda S_Ww$$\n",
    "\n",
    "- **Eigenvalue Problem:**  \n",
    "    *The core relationship is $Av=\\lambda v$, where A is the matrix, $v$ is the eigenvector, and $\\lambda$ is the (scalar) eigenvalue.*  \n",
    "    If $S_W$ is invertible (full-rank):\n",
    "    $$S_W^{-1}S_Bw = \\lambda w$$\n",
    "\n",
    "    $S_Bw \\propto (\\mu_1 - \\mu_2)$ (since $S_B = (\\mu_1 - \\mu_2)(\\mu_1 - \\mu_2)^T$).  \n",
    "    Thus, the optimal $w$ is:\n",
    "    $$w \\propto S_W^{-1}(\\mu_1 - \\mu_2)$$"
   ]
  },
  {
   "cell_type": "markdown",
   "id": "115e1d7b",
   "metadata": {},
   "source": [
    "##### **LDA Algorithm Summary**"
   ]
  },
  {
   "cell_type": "markdown",
   "id": "20c9135b",
   "metadata": {},
   "source": [
    "- Find $\\mu_1$ and $\\mu_2$ as the mean of class 1 and 2\n",
    "- Find $S_1$ and $S_2$ as scatter matrix of class 1 and 2\n",
    "- $S_W = S_1 + S_2$\n",
    "- $S_B = (\\mu_1 - \\mu_2)(\\mu_1 - \\mu_2)^T$\n",
    "- **Feature Extraction:** $w = S_W^{-1}(\\mu_1 - \\mu_2)$\n",
    "- **Classification:** Using a threshold on $w^Tx$, we can classify $x$"
   ]
  },
  {
   "cell_type": "markdown",
   "id": "b7adbaea",
   "metadata": {},
   "source": [
    "### **Multi-Category Classification**"
   ]
  },
  {
   "cell_type": "markdown",
   "id": "2c94c855",
   "metadata": {},
   "source": [
    "#### **Introduction**"
   ]
  },
  {
   "cell_type": "markdown",
   "id": "75a62cf6",
   "metadata": {},
   "source": [
    "**What is it?**\n",
    "- Solutions to multi-category problems\n",
    "\n",
    "**How to solve:**\n",
    "- Extend the learning algorithm to support multi-class:\n",
    "    - A function $f_i(x) for each class $C_i$ us found$\n",
    "    - $x$ is assigned to $C_i$ if $f_i(x) \\gt f_j(x) \\quad \\forall j \\neq i$\n",
    "    $$\\hat{y} = \\argmax_{i=1, 2, ..., C} f_i(x)$$\n",
    "\n",
    "- Converting the problem to a set of two-class problems"
   ]
  },
  {
   "cell_type": "markdown",
   "id": "fbc2a4d1",
   "metadata": {},
   "source": [
    "#### **Converting the problem to a set of two-class problems**"
   ]
  },
  {
   "cell_type": "markdown",
   "id": "f3804a1c",
   "metadata": {},
   "source": [
    "##### **One-vs-Rest** or **One Against All**"
   ]
  },
  {
   "cell_type": "markdown",
   "id": "b5f51927",
   "metadata": {},
   "source": [
    "For each class $C_i$, a linear discriminant function that separates samples of $C_i$ from all the other samples is found.\n",
    "- Totally linearly separable\n",
    "\n",
    "**Decision Making:**  \n",
    "Decision process for a new input works as follows:\n",
    "- If the new data point clearly lies on the positive side of **only one classifier**, it is **unambiguously** assigned to that class.\n",
    "- In ambiguous cases, the data point might lie on the positive side of multiple classifiers.  \n",
    "In such situations, the algorithm compares the distance of the point from each decision boundary.  \n",
    "For example, using the signed distance in the perceptron model:  \n",
    "$$f_i(x) = w_i^Tx$$\n",
    "\n",
    "**Limitations:**\n",
    "- Even if the overall classes are linearly separable from each other, there can be no linear boundary that separates one specific class against all the rest. (we will fix this issue using next algorithm)\n",
    "- Ambiguity"
   ]
  },
  {
   "cell_type": "markdown",
   "id": "55de07d9",
   "metadata": {},
   "source": [
    "##### **One-vs-One**"
   ]
  },
  {
   "cell_type": "markdown",
   "id": "bb6b91a5",
   "metadata": {},
   "source": [
    "$\\binom{C}{2} = \\frac{C(C-1)}{2}$ linear discriminant functions are used, one to separate samples of a pair of classes.\n",
    "- Pairwise linearly separable\n",
    "\n",
    "**Decision Function:**\n",
    "For each classifier that separates class $i$ from class $j$, we define a function:\n",
    "$$f_{ij}(x) = w_{ij}^Tx$$\n",
    "This function returns the signed distance of the input $x$ from the decision boundary between classes $i$ and $j$.\n",
    "\n",
    "**Decision Making:**\n",
    "- First method:\n",
    "    - Compute all $f_{ij}(x)$ for every class pair.\n",
    "    - For each pair $(i, j)$if $f_{ij}(x) \\gt 0$ we count a vote for class $i$, otherwise for class $j$.\n",
    "    - The class with the highest number of votes is chosen as the predicted class for $x$.\n",
    "\n",
    "    **Limitation:**  If two classes receive the same number of votes.\n",
    "\n",
    "- Second method:\n",
    "    - We resolve the previous ambiguity using the following approach:\n",
    "    $$C_i = \\argmax_i \\sum_{j} f_{i,j}(x)$$\n",
    "    - Using this approach helps ypu to select the class with largest sum.\n",
    "    - **Limitation:** This method compares independently trained classifiers, which might not be consistent with each other.\n"
   ]
  },
  {
   "cell_type": "markdown",
   "id": "48284ec7",
   "metadata": {},
   "source": [
    "##### **Ambiguity**"
   ]
  },
  {
   "cell_type": "markdown",
   "id": "51919546",
   "metadata": {},
   "source": [
    "Converting the multi-class problem to a set of two-class problems can lead to **regions in which the classification is undefined**:\n",
    "\n",
    "<div style=\"text-align:center\">\n",
    "  <img src=\"images/LDAAmbiguity.png\" alt=\"Ambiguity\">\n",
    "</div>"
   ]
  },
  {
   "cell_type": "markdown",
   "id": "e7fe43ea",
   "metadata": {},
   "source": [
    "#### **Linear Machine**"
   ]
  },
  {
   "cell_type": "markdown",
   "id": "db61ba98",
   "metadata": {},
   "source": [
    "##### **Introduction**"
   ]
  },
  {
   "cell_type": "markdown",
   "id": "93ee5fa0",
   "metadata": {},
   "source": [
    "**Definition:**\n",
    "- Alternative to *One-vs-Rest* and *One-vs-One* methods; each class is represented by its own discriminant function $f_i(x) = w_i^Tx + w_0$ for each class $C_i (i=1, 2, ..., K)$\n",
    "\n",
    "**Decision Rule:**  \n",
    "$x$ is assigned to class $C_i$ if:\n",
    "$$f_i(x) \\gt f_j(x) \\quad \\forall j \\neq i$$\n",
    "Or:\n",
    "$$\\hat{y} = \\argmax_{i=1, 2, .., c} f_i(x)$$\n",
    "\n",
    "**Decision Surfaces (Boundaries):**  \n",
    "Boundary of the region $i$ and $j$ is:\n",
    "$$\\forall x, f_i(x) = f_j(x)$$\n",
    "$$(w_i - w_j)^Tx + (w_{0i} - w_{0j}) = 0$$\n",
    "\n",
    "<div style=\"text-align:center\">\n",
    "  <img src=\"images/LinearMachine.png\" alt=\"Linear Machine example\">\n",
    "</div>"
   ]
  },
  {
   "cell_type": "markdown",
   "id": "4ac46a62",
   "metadata": {},
   "source": [
    "##### **Perceptron Multi-Class**"
   ]
  },
  {
   "cell_type": "markdown",
   "id": "1a3a44da",
   "metadata": {},
   "source": [
    "Maintain a weight matrix $w \\in R^{mK}$, where $m$ is the *number of features* and $K$ is the *number of classes*.  \n",
    "Each column $w_k$ of the matrix corresponds to the weight vector for class $k$.\n",
    "$$\\hat{y} = \\argmax_{i=1, 2, ..., c} w_i^Tx$$\n",
    "$$J_p(w) = -\\sum_{i \\in M} (w_{y^{(i)}} - w_{\\hat{y}^{(j)}})^Tx^{(i)}$$\n",
    "Where:\n",
    "- $M$: Subset of training data that are misclassified."
   ]
  },
  {
   "cell_type": "markdown",
   "id": "a257784b",
   "metadata": {},
   "source": [
    "> Initialize $w = [w_1, ..., w_c]$  \n",
    "> Repeat  \n",
    "> &nbsp;&nbsp;&nbsp;&nbsp;$k \\leftarrow (k+1) \\text{ mod } N$  \n",
    "> &nbsp;&nbsp;&nbsp;&nbsp;if x^{(i)} is misclassified then  \n",
    "> &nbsp;&nbsp;&nbsp;&nbsp;&nbsp;&nbsp;&nbsp;&nbsp;$w_{\\hat{y}^{(i)}} - \\eta x^{(i)}$  \n",
    "> &nbsp;&nbsp;&nbsp;&nbsp;&nbsp;&nbsp;&nbsp;&nbsp;$w_{y^{(i)}} + \\eta x^{(i)}$  \n",
    "> Until all patterns properly classified.  "
   ]
  },
  {
   "cell_type": "markdown",
   "id": "943ffec9",
   "metadata": {},
   "source": [
    "## Probabilistic Classification"
   ]
  },
  {
   "cell_type": "markdown",
   "id": "ccd713fa",
   "metadata": {},
   "source": [
    "### **Introduction**"
   ]
  },
  {
   "cell_type": "markdown",
   "id": "6d75b4d4",
   "metadata": {},
   "source": [
    "- **Class Prior:**  \n",
    "    $p(y=C_k) = \\int p(x,y) dy$  \n",
    "    Percentage of samples belonging to class $C_k$\n",
    "    \n",
    "- **Likelihood:**  \n",
    "    $p(x|C_k)$  \n",
    "    Probability density function (PDF) of feature $x$ for class $C_k$\n",
    "\n",
    "- **Prior Probability:**  \n",
    "    $p(C_k)$  \n",
    "    Probability that a randomly selected sample belongs to $C_k$\n",
    "\n",
    "- **Posterior Probability:**  \n",
    "    $p(C_k|x) = \\frac{p(x|C_k)p(C_k)}{p(x)}$  \n",
    "    Probability of class $C_k$ given prior knowledge.\n",
    "\n",
    "- **Evidence:**  \n",
    "    $p(x) = \\sum_{k=1}^K p(x|C_k)p(C_k)$  \n",
    "    PDF of feature vector $x$  "
   ]
  },
  {
   "cell_type": "markdown",
   "id": "0dfed6c3",
   "metadata": {},
   "source": [
    "#### **Bayesian Decision Rule**"
   ]
  },
  {
   "cell_type": "markdown",
   "id": "0259692c",
   "metadata": {},
   "source": [
    "**Optimal Classifier:** Choose the class with the **maximum posterior probability**\n",
    "$$\n",
    "y = \n",
    "\\begin{cases} \n",
    "C_1 &  \\text{if } p(C_1 | x) > p(C_2 | x) \\\\\n",
    "C_2 & otherwise\n",
    "\\end{cases}\n",
    "$$\n",
    "\n",
    "**Classification Error:**\n",
    "$$\n",
    "p(error | x) = \n",
    "\\begin{cases} \n",
    "p(C_2 | x) & \\text{if we decide } C_1 \\\\\n",
    "p(C_1 | x) & \\text{if we decide } C_2\n",
    "\\end{cases}\n",
    "$$\n",
    "\n",
    "*Minimizing error at each point $x$:*\n",
    "$$p(error | x) = min\\{p(C_1 | x), p(C_2 | x)\\}$$"
   ]
  },
  {
   "cell_type": "markdown",
   "id": "6daf7680",
   "metadata": {},
   "source": [
    "The Bayesian decision rule can be simplified:\n",
    "\n",
    "Posterior Comparison:\n",
    "$$\n",
    "y = \n",
    "\\begin{cases} \n",
    "C_1 &  \\text{if } p(C_1 | x) \\gt p(C_2 | x) \\\\\n",
    "C_2 & otherwise\n",
    "\\end{cases}\n",
    "$$\n",
    "\n",
    "Bayesian theorem on Posterior Comparison:\n",
    "$$\n",
    "y = \n",
    "\\begin{cases} \n",
    "C_1 &  \\text{if } \\frac{p(x|C_1)p(C_1)}{p(x)} \\gt \\frac{p(x|C_2)p(C_2)}{p(x)} \\\\\n",
    "C_2 & otherwise\n",
    "\\end{cases}\n",
    "$$\n",
    "\n",
    "Likelihood-Prior Product\n",
    "$$\n",
    "y = \n",
    "\\begin{cases} \n",
    "C_1 &  \\text{if } p(x|C_1)p(C_1) \\gt p(x|C_2)p(C_2) \\\\\n",
    "C_2 & otherwise\n",
    "\\end{cases}\n",
    "$$"
   ]
  },
  {
   "cell_type": "markdown",
   "id": "a91c2015",
   "metadata": {},
   "source": [
    "#### **Minimizing Misclassification Rate**"
   ]
  },
  {
   "cell_type": "markdown",
   "id": "9cafca13",
   "metadata": {},
   "source": [
    "Assume:\n",
    "- **Decision Function:**  \n",
    "    $\\alpha(x)$: Outputs class label $k$ for each $x$\n",
    "\n",
    "- **Decision Regions:**  \n",
    "    $R_k = \\{x|\\alpha(x) = k\\}$  \n",
    "    All $x$ in $R_k$ is assigned to class $C_k$\n",
    "\n",
    "**Total Probability Error:**\n",
    "$$p(error) = E_{x,y}[I(\\alpha(x) \\neq y)]$$\n",
    "$$ = p(x \\in R_1, C_2) + p(x \\in R_2, C_1)$$\n",
    "$$ = \\int_{R_1} p(x, C_2)dx + \\int_{R_2} p(x, C_1)dx$$\n",
    "$$ = \\int_{R_1}p(C_2|x)p(x)dx + \\int_{R_2}p(C_1|x)p(x)dx$$\n",
    "\n",
    "**Optimal Decision Regions:**  \n",
    "To minimize $p(error)$, assign $x$ to the class with the highest posterior:\n",
    "$$\\alpha(x) = \\argmax_k p(C_k|x)$$"
   ]
  },
  {
   "cell_type": "markdown",
   "id": "d75be0fa",
   "metadata": {},
   "source": [
    "**Bayes Minimum Error Classifier:**\n",
    "\n",
    "Objective:\n",
    "$$min_{\\alpha}\\{E_{x,y}[I(\\alpha(x) \\neq y)]\\}$$\n",
    "\n",
    "Solution (if true probabilities are known):\n",
    "$$\\alpha(x) = \\argmax_y p(y|x)$$\n",
    "\n",
    "*In practice we can estimate $p(y|x)$ based on the set of training samples $D$*"
   ]
  },
  {
   "cell_type": "markdown",
   "id": "8c80960b",
   "metadata": {},
   "source": [
    "### **Generative Approach**"
   ]
  },
  {
   "cell_type": "markdown",
   "id": "c97adc5a",
   "metadata": {},
   "source": [
    "Assume:\n",
    "- Assume Gaussian distribution for $p(x|C_1)$ and $p(x|C_2)$\n",
    "- We already know the prior ($\\pi$) $p(C_1)$ and $p(C_2) = 1 - p(C_1)$ *(only for binary classification)*\n",
    "\n",
    "Recall that for samples $D = \\{x^{(1)}, x^{(2)}, ..., x^{(N)}\\}$ with Gaussian distribution, MLE estimates will be:\n",
    "$$\\mu = \\frac{1}{N} \\sum_{i=1}^N x^{(i)}$$\n",
    "$$\\sigma^2 = \\frac{1}{N} \\sum_{i=1}^N (x^{(i)} - \\mu)^2$$\n",
    "\n",
    "So we know prior and likelihood. product of these 2 value give us posterior probability."
   ]
  },
  {
   "cell_type": "markdown",
   "id": "2f9efbc9",
   "metadata": {},
   "source": [
    "**Covariance Matrix**\n",
    "\n",
    "**Definition**  \n",
    "The **covariance matrix** ($\\Sigma$) is a square matrix that captures the pairwise covariances between features in a dataset. For a random vector $x = [x_1, x_2, ..., x_n]^T$, it's defined as:\n",
    "\n",
    "$$\n",
    "\\Sigma = \\begin{bmatrix}\n",
    "\\sigma_{11} & \\sigma_{12} & \\cdots & \\sigma_{1n} \\\\\n",
    "\\sigma_{21} & \\sigma_{22} & \\cdots & \\sigma_{2n} \\\\\n",
    "\\vdots & \\vdots & \\ddots & \\vdots \\\\\n",
    "\\sigma_{n1} & \\sigma_{n2} & \\cdots & \\sigma_{nn}\n",
    "\\end{bmatrix}\n",
    "$$\n",
    "\n",
    "where:\n",
    "- Diagonal elements $\\sigma_{ii}$ = variance of feature $x_i$\n",
    "- Off-diagonal elements $\\sigma_{ij}$ = covariance between $x_i$ and $x_j$\n",
    "\n",
    "**Captures relationships**:\n",
    "   - $\\sigma_{ij} > 0$: Features increase together\n",
    "   - $\\sigma_{ij} < 0$: One increases when other decreases\n",
    "   - $\\sigma_{ij} = 0$: No linear relationship\n",
    "\n",
    "**Example (2D Case)**  \n",
    "For features $x$ and $y$:\n",
    "$$\n",
    "\\Sigma = \\begin{bmatrix}\n",
    "\\text{Var}(x) & \\text{Cov}(x,y) \\\\\n",
    "\\text{Cov}(y,x) & \\text{Var}(y)\n",
    "\\end{bmatrix}\n",
    "$$"
   ]
  },
  {
   "cell_type": "markdown",
   "id": "666dd409",
   "metadata": {},
   "source": [
    "**Multivariate Gaussian Distribution:**\n",
    "$$p(x|\\mu, \\Sigma) = \\frac{1}{(2\\pi)^{d/2} |\\Sigma|^{1/2}} e^{(-\\frac{1}{2}(x - \\mu)^T \\Sigma^{-1} (x - \\mu))}$$\n",
    "Where:\n",
    "- $x$: is a vector in $R^d$ ($d$-dimensional space) representing the random variables.\n",
    "- $\\mu$: is the mean vector.\n",
    "- $\\Sigma$: is the covariance matrix *(which we will discuss about it soon)*\n",
    "- $|\\Sigma|$ is the determinant of $\\Sigma$.\n",
    "\n",
    "So for $p(x|C_k) = p(x|y=k)$ likelihood is:\n",
    "$$p(x|y=k) = \\frac{1}{(2\\pi)^{d/2} |\\Sigma|^{1/2}} e^{(-\\frac{1}{2}(x - \\mu_k)^T \\Sigma_k^{-1} (x - \\mu_k))}$$\n",
    "\n",
    "Prior Distribution ($p(x|C_k)$)  \n",
    "$$p(y=1) = \\pi, \\quad p(y=0) = 1 - \\pi$$"
   ]
  },
  {
   "cell_type": "markdown",
   "id": "3b8e7703",
   "metadata": {},
   "source": [
    "**MLE for Multivariate Gaussian**\n",
    "\n",
    "Assume:\n",
    "- Dataset: $\\{x^{(1)}, x^{(2)}, \\dots, x^{(N)}\\}$ where $x^{(i)} \\in R^d$\n",
    "- Samples drawn from a multivariate Gaussian distribution\n",
    "\n",
    "For each class MLE estimates:\n",
    "- **Mean Vector ($\\mu$)**\n",
    "    $$\\mu = \\frac{\\sum_{i-1}^N x^{(i)}}{N}$$\n",
    "\n",
    "- **Covariance Matrix ($\\Sigma$)**\n",
    "    $$\\Sigma = \\frac{1}{N} \\sum_{i=1}^N (x^{(i)} - \\mu)(x^{(i)} - \\mu)^T$$"
   ]
  },
  {
   "cell_type": "markdown",
   "id": "65f23ff7",
   "metadata": {},
   "source": [
    "**Decision Boundary for Gaussian Bayes Classifier**\n",
    "\n",
    "$$p(C_1 | x) = p(C_2 | x)$$\n",
    "$$\\ln p(C_1 | x) = \\ln p(C_2 | x)$$\n",
    "$$\\ln p(x|C_1) + \\ln p(C_1) - \\ln p(x) = \\ln p(x|C_2) + \\ln p(C_2) - \\ln p(x)$$\n",
    "$$\\ln p(x|C_1) + \\ln p(C_1) = \\ln p(x|C_2) + \\ln p(C_2)$$\n",
    "Where:\n",
    "$$\\ln p(x|C_k) = -\\frac{d}{2} \\ln 2\\pi - \\frac{1}{2} \\ln|\\Sigma_k^{-1}| - \\frac{1}{2}(x - \\mu_k)^T\\Sigma_k^{-1}(x - \\mu_k)$$\n",
    "\n",
    "Key Result:\n",
    "- **Quadratic Boundary**: Curved surface when $\\Sigma_1 \\neq \\Sigma_2$\n",
    "- The posterior $p(C_k \\mid x)$ follows a **sigmoidal (logistic) curve**\n",
    "\n",
    "<div style=\"text-align:center\">\n",
    "  <img src=\"images/decisionSurfaceGaussianBayes.png\" alt=\"Decision Boundary Example\">\n",
    "</div>"
   ]
  },
  {
   "cell_type": "markdown",
   "id": "c9fc6181",
   "metadata": {},
   "source": [
    "**Shared Covariance Matrix**\n",
    "\n",
    "When class shared a single covariance matrix $\\Sigma = \\Sigma_1 = \\Sigma_2 = ... = \\Sigma_k$:\n",
    "$$p(x|y=k) = \\frac{1}{(2\\pi)^{d/2} |\\Sigma|^{1/2}} e^{(-\\frac{1}{2}(x - \\mu_k)^T \\Sigma^{-1} (x - \\mu_k))}$$\n",
    "$$p(C_1) = \\pi \\quad p(C_2) = 1 - \\pi$$\n",
    "Where:\n",
    "$$\\pi = \\frac{N_1}{N}$$\n",
    "$$\\mu_1 = \\frac{\\sum_{n=1}^N y^{(n)}x^{(n)}}{N_1}$$\n",
    "$$\\mu_2 = \\frac{\\sum_{n=1}^N (1 - y^{(n)})x^{(n)}}{N_2}$$\n",
    "$$\\Sigma = \\frac{1}{N}\\left(\\sum_{n \\in C_1}(x^{(n)} - \\mu_1)(x^{(n)} - \\mu_1)^T + \\sum_{n \\in C_2}(x^{(n)} - \\mu_2)(x^{(n)} - \\mu_2)^T\\right)$$"
   ]
  },
  {
   "cell_type": "markdown",
   "id": "7c4aeaa4",
   "metadata": {},
   "source": [
    "**Decision Boundary for Shared Covariance Gaussian**\n",
    "\n",
    "$$p(C_1 | x) = p(C_2 | x)$$\n",
    "$$\\ln p(C_1 | x) = \\ln p(C_2 | x)$$\n",
    "$$\\ln p(x|C_1) + \\ln p(C_1) - \\ln p(x) = \\ln p(x|C_2) + \\ln p(C_2) - \\ln p(x)$$\n",
    "$$\\ln p(x|C_1) + \\ln p(C_1) = \\ln p(x|C_2) + \\ln p(C_2)$$\n",
    "Where:\n",
    "$$\\ln p(x|C_k) = -\\frac{d}{2} \\ln 2\\pi - \\frac{1}{2} \\ln|\\Sigma^{-1}| - \\frac{1}{2}(x - \\mu_k)^T\\Sigma^{-1}(x - \\mu_k)$$\n",
    "\n",
    "\n",
    "$$\\ln P(x|C_k) = \\underbrace{-\\frac{d}{2} \\ln 2\\pi - \\frac{1}{2} \\ln |\\Sigma|}_{\\text{Constant}} - \\frac{1}{2} (x - \\mu_k)^T \\Sigma^{-1} (x - \\mu_k)$$\n",
    "\n",
    "Simplify the $x$ contained term:\n",
    "$$-\\frac{1}{2} (x - \\mu_1)^T \\Sigma^{-1} (x - \\mu_1) + \\ln \\pi = -\\frac{1}{2} (x - \\mu_2)^T \\Sigma^{-1} (x - \\mu_2) + \\ln (1 - \\pi)$$\n",
    "\n",
    "Expand $(x - \\mu_k)^T \\Sigma^{-1} (x - \\mu_k)$ term:\n",
    "$$(x - \\mu_k)^T \\Sigma^{-1} (x - \\mu_k) = x^T \\Sigma^{-1} x - 2 \\mu_k^T \\Sigma^{-1} x + \\mu_k^T \\Sigma^{-1} \\mu_k$$\n",
    "\n",
    "Substitute back:\n",
    "$$-\\frac{1}{2} \\left( x^T \\Sigma^{-1} x - 2 \\mu_1^T \\Sigma^{-1} x + \\mu_1^T \\Sigma^{-1} \\mu_1 \\right) + \\ln \\pi = \\\\\n",
    "-\\frac{1}{2} \\left( x^T \\Sigma^{-1} x - 2 \\mu_2^T \\Sigma^{-1} x + \\mu_2^T \\Sigma^{-1} \\mu_2 \\right) + \\ln (1 - \\pi)$$\n",
    "\n",
    "Since $\\Sigma$ is shared, $x^T \\Sigma^{-1} x$ cancels out:\n",
    "$$\\mu_1^T \\Sigma^{-1} x - \\frac{1}{2} \\mu_1^T \\Sigma^{-1} \\mu_1 + \\ln \\pi = \\mu_2^T \\Sigma^{-1} x - \\frac{1}{2} \\mu_2^T \\Sigma^{-1} \\mu_2 + \\ln (1 - \\pi)$$\n",
    "\n",
    "So the problem will change to linear equation for $x$:\n",
    "$$\\underbrace{(\\mu_1 - \\mu_2)^T \\Sigma^{-1}}_{w^T} x + \\underbrace{\\ln \\frac{\\pi}{1 - \\pi} - \\frac{1}{2} (\\mu_1^T \\Sigma^{-1} \\mu_1 - \\mu_2^T \\Sigma^{-1} \\mu_2)}_{w_0} = 0$$"
   ]
  },
  {
   "cell_type": "markdown",
   "id": "09053e0c",
   "metadata": {},
   "source": [
    "**Naive Bayes Classifier**\n",
    "\n",
    "**Generative Method Issue**\n",
    "- **High number of parameters:**\n",
    "    - Mean vectors:  \n",
    "    $\\mu_1 \\in \\mathbb{R}^d$ (first class), $\\mu_2 \\in \\mathbb{R}^d$ (second class)\n",
    "    Total: $2d$ parameters\n",
    "\n",
    "    - Covariance matrix:  \n",
    "    Symmetric $\\Sigma \\in \\mathbb{R}^{d×d}$ with $\\frac{d(d+1)}{2}$ unique parameters\n",
    "\n",
    "**Assumption:**\n",
    "- Conditional independency of features:\n",
    "    $$p(x|C_k) = p(x_1|C_k)p(x_2|C_k)...p(x_d|C_k)$$\n",
    "\n",
    "**Geometric Interpretation:**\n",
    "- Forces the covariance matrix $\\Sigma$ to be diagonal\n",
    "- Ignores correlations between features\n",
    "- Decision boundaries become axis-aligned\n",
    "\n",
    "**Naive Bayes Decision Rule:**\n",
    "$$y = \\argmax_{k=1,2,...,K} p(C_k | x) = \\argmax_{k=1,2,...,K} p(C_k)\\prod_{i=1}^Np(x_i | C_k)$$\n",
    "\n",
    "For binary features:\n",
    "- Original: $2^d - 1$ parameters per class\n",
    "- Naive Bayes: Only $d$ parameters per class"
   ]
  },
  {
   "cell_type": "markdown",
   "id": "4723c80e",
   "metadata": {},
   "source": [
    "### **Discriminative Classifiers**"
   ]
  },
  {
   "cell_type": "markdown",
   "id": "9f947282",
   "metadata": {},
   "source": [
    "#### **Introduction**"
   ]
  },
  {
   "cell_type": "markdown",
   "id": "3fd1b680",
   "metadata": {},
   "source": [
    "**Generative Approach:** *(left graph)*\n",
    "- **Inference Stage:**\n",
    "    - **Gaol:** Model the joint distribution $p(x,y)$\n",
    "    - **Steps:**\n",
    "        - **Likelihood:** Estimate $p(x | C_k)$ using: \n",
    "            - Gaussian (univariate)\n",
    "            - Multivariate Gaussian (for multi-dimensional features)\n",
    "        - **Prior:** Estimate $p(C_k)$ using:\n",
    "            - Bernoulli (binary classes)\n",
    "            - Multinomial (multi-class)\n",
    "        - **Posterior:** Apply Bayes- Theorem:\n",
    "            $$p(C_k | x) = \\frac{p(x|C_k)p(C_k)}{p(x)}$$\n",
    "- **Decision Stage:**\n",
    "    - After learning model, optimal class for new input is:\n",
    "    $$\\argmax_k p(C_k|x)$$\n",
    "\n",
    "- **Discriminative Approach:** *(right graph)*\n",
    "    - Directly estimate $p(C_k | x)$ for each class $C_k$"
   ]
  },
  {
   "cell_type": "markdown",
   "id": "b6dacdca",
   "metadata": {},
   "source": [
    "**Two-Class Problem:**\n",
    "\n",
    "Assume:\n",
    "$$\\alpha(x) = w^T(x) + w_0$$\n",
    "\n",
    "<div style=\"text-align:center\">\n",
    "  <img src=\"images/discriminativeVsGenerative.png\" alt=\"Comparison Generative and Discriminative Approaches\">\n",
    "</div>\n",
    "\n",
    "$p(C_k | x)$ can be written as a *Sigmoid (logistic) function*:\n",
    "$$p(C_1 | x) = \\frac{1}{1+e^{(-\\alpha(x))}} = \\sigma(w^Tx+w_0)$$\n",
    "$$p(C_0 | x) = 1 - p(C_1 | x)$$"
   ]
  },
  {
   "cell_type": "markdown",
   "id": "8403bac7",
   "metadata": {},
   "source": [
    "**Multi-Class Problem:**\n",
    "\n",
    "Assume:\n",
    "$$\\alpha(x) = w^T(x) + w_0$$\n",
    "\n",
    "<div style=\"text-align:center\">\n",
    "  <img src=\"images/MultiDiscVsGen.png\" alt=\"Comparison Multi-Class Generative and Discriminative Approaches\">\n",
    "</div>\n",
    "\n",
    "$p(C_k | x)$ can be written as a *soft-max function*:\n",
    "$$p(C_k | x) = \\frac{e^{\\alpha_k(x)}}{\\sum_{j=1}^K e^{(\\alpha_j(x))}}$$"
   ]
  },
  {
   "cell_type": "markdown",
   "id": "23e4a4e7",
   "metadata": {},
   "source": [
    "#### **Logistic Regression**"
   ]
  },
  {
   "cell_type": "markdown",
   "id": "3ac90333",
   "metadata": {},
   "source": [
    "##### **Introduction**"
   ]
  },
  {
   "cell_type": "markdown",
   "id": "247e9e1f",
   "metadata": {},
   "source": [
    "**Sigmoid (Logistic) Function:**\n",
    "\n",
    "Activation Function:\n",
    "$$\\sigma(z) = \\frac{1}{1 + e^{-z}}$$\n",
    "\n",
    "<div style=\"text-align:center\">\n",
    "  <img src=\"images/sigmoid.png\" alt=\"sigmoid function\">\n",
    "</div>\n",
    "\n",
    "**Key Points:**\n",
    "- It is a good candidate for activation function\n",
    "- It gives us a number between 0 and 1 smoothly\n",
    "- It is differentiable"
   ]
  },
  {
   "cell_type": "markdown",
   "id": "77331220",
   "metadata": {},
   "source": [
    "**Result:**\n",
    "\n",
    "$$p(y = 1 | x, w) = f(x;w)$$\n",
    "$$p(y = 0 | x, w) = 1 - f(x;w)$$\n",
    "\n",
    "Where:\n",
    "$$f(x;w) = \\sigma(w^Tx)$$\n",
    "$$0 \\le f(x;w) \\le 1$$\n",
    "$$\\sigma(w^Tx) = \\frac{1}{1+e^{(-w^Tx)}}$$"
   ]
  },
  {
   "cell_type": "markdown",
   "id": "55245431",
   "metadata": {},
   "source": [
    "##### **Decision Surface (Boundary)**"
   ]
  },
  {
   "cell_type": "markdown",
   "id": "f0d1b886",
   "metadata": {},
   "source": [
    "**Recall:**\n",
    "- Definition: A dividing hyperplane that separates different classes in a feature space.\n",
    "- In a $d$-dimensional feature space, the decision boundary for a linear classifier is a hyper plane of dimension $d-1$."
   ]
  },
  {
   "cell_type": "markdown",
   "id": "2beb3632",
   "metadata": {},
   "source": [
    "- Decision surface $f(x;w) = \\text{constant}$\n",
    "    $$f(x;w) = \\sigma(w^Tx) = \\frac{1}{1 + e ^{-(w^Tx)}} = 0.5$$\n",
    "\n",
    "- Decision surfaces are **linear functions** of $x$:\n",
    "$$\n",
    "\\hat{y} = \n",
    "\\begin{cases} \n",
    "1 & \\text{if } f(x;w) \\ge 0.5 \\\\\n",
    "0 & \\text{otherwise}\n",
    "\\end{cases}\n",
    "$$"
   ]
  },
  {
   "cell_type": "markdown",
   "id": "25123889",
   "metadata": {},
   "source": [
    "##### **Maximum Likelihood Estimation (MLE)**"
   ]
  },
  {
   "cell_type": "markdown",
   "id": "240422b9",
   "metadata": {},
   "source": [
    "**Maximum Log Likelihood:**\n",
    "$$\\hat{w} = \\argmax_w \\log \\left(\\prod_{i=1}^N p(y^{(i)} | w, x^{(i)})\\right)$$\n",
    "\n",
    "**Bernoulli Model**  \n",
    "- For binary classification:\n",
    "$$\n",
    "p(y^{(i)} | w, x^{(i)}) = \n",
    "\\begin{cases} \n",
    "f(x^{(i)};w) & \\text{if } y^{(i)} = 1 \\\\\n",
    "1 - f(x^{(i)};w) & \\text{if } y^{(i)} = 0\n",
    "\\end{cases}\n",
    "$$\n",
    "- Concept Form:\n",
    "$$p(y^{(i)} | w, x^{(i)}) = f(x^{(i)};w)^{y^{(i)}} (1 - f(x^{(i)};w))^{(1 - y^{(i)})}$$\n",
    "\n",
    "**Substitute In MLE formula:**\n",
    "$$\\log \\left(p(y^{(i)} | w, x^{(i)})\\right) = \\sum_{i=1}^N \\left[y^{(i)}\\log \\left(f(x^{(i)};w)\\right) + (1 - y^{(i)}) \\log\\left(1 - f(x^{(i)};w)\\right) \\right]$$"
   ]
  },
  {
   "cell_type": "markdown",
   "id": "f7ccecf9",
   "metadata": {},
   "source": [
    "##### **Cost Function**"
   ]
  },
  {
   "cell_type": "markdown",
   "id": "c9e0bceb",
   "metadata": {},
   "source": [
    "**Cost Function: Negative Likelihood**\n",
    "\n",
    "To convert maximization to minimization:\n",
    "$$J(w) = -\\sum_{i=1}^N \\log \\left(p(y^{(i)} | w, x^{(i)}) \\right)$$\n",
    "$$ = -\\sum_{i=1}^N y^{(i)}\\log \\left(f(x^{(i)};w)\\right) + (1 - y^{(i)}) \\log \\left(1 - f(x^{(i)};w)\\right)$$\n",
    "\n",
    "So:\n",
    "$$\\hat{w} = \\argmin_w J(w)$$\n",
    "\n",
    "**Key Properties:**\n",
    "- No Closed form solution for $\\nabla_wJ(w) = 0$  \n",
    "- However $J(w)$ is **convex** and has global minimum.\n",
    "- Solution Method: Use iterative optimization (e.g., gradient descent)."
   ]
  },
  {
   "cell_type": "markdown",
   "id": "12e4e781",
   "metadata": {},
   "source": [
    "##### **Gradient Descent**"
   ]
  },
  {
   "cell_type": "markdown",
   "id": "ff4b552e",
   "metadata": {},
   "source": [
    "Recall:\n",
    "$$w^{t+1} = w^t - \\eta \\nabla_wJ(w^t)$$\n",
    "\n",
    "Where:\n",
    "$$\\nabla_wJ(w^t) = \\sum_{i=1}^N \\left(f(x^{(i)};w) - y^{(i)}\\right)x^{(i)}$$\n",
    "\n",
    "Recall gradient descent of SSE using in linear regression:\n",
    "$$\\nabla_wJ(w^t) = \\sum_{i=1}^N \\left(w^Tx^{(i)} - y^{(i)}\\right)x^{(i)}$$"
   ]
  },
  {
   "cell_type": "markdown",
   "id": "fac04596",
   "metadata": {},
   "source": [
    "**Proof**\n",
    "\n",
    "Cost Function:\n",
    "$$J(w) = -\\sum_{i=1}^N y^{(i)}\\log \\left(f(x^{(i)};w)\\right) + (1 - y^{(i)}) \\log \\left(1 - f(x^{(i)};w)\\right)$$\n",
    "\n",
    "Where:\n",
    "- $f(x;w) = \\sigma(w^Tx^{(i)})$ is the sigmoid function.\n",
    "\n",
    "Derivative of a single term $(x^{(i)}, y^{(i)})$:\n",
    "$$\\frac{\\partial}{\\partial w}\\left[y^{(i)}\\log \\left(\\sigma(w^Tx^{(i)})\\right) + (1 - y^{(i)})\\log \\left(1 - \\sigma(w^Tx^{(i)})\\right) \\right]$$\n",
    "\n",
    "Using Chain Rule:\n",
    "$$\\frac{\\partial}{\\partial w}\\sigma(w^Tx^{(i)}) = \\sigma(w^Tx^{(i)})(1 - \\sigma(w^Tx^{(i)}))x^{(i)}$$\n",
    "\n",
    "So Break the cost function into two parts\n",
    "- if $y^{(i)} = 1$:\n",
    "$$\\frac{\\partial}{\\partial w} \\log(\\sigma(w^Tx^{i})) = \\frac{1}{\\sigma(w^Tx^{(i)})}\\sigma(w^Tx^{(i)})(1 - \\sigma(w^Tx^{(i)}))x^{(i)} = (1 - \\sigma(w^Tx^{(i)}))x^{(i)}$$\n",
    "- if $y^{(i)} = 0$:\n",
    "$$\\frac{\\partial}{\\partial w} \\log(1 - \\sigma(w^Tx^{i})) = \\frac{-1}{1 - \\sigma(w^Tx^{(i)})}\\sigma(w^Tx^{(i)})(1 - \\sigma(w^Tx^{(i)}))x^{(i)} = -(\\sigma(w^Tx^{(i)}))x^{(i)}$$\n",
    "\n",
    "Combine Case (The gradient for one sample simplifies to):\n",
    "$$\\left(\\sigma(w^Tx^{(i)}) - y^{(i)}\\right)x^{(i)} = \\left(f(x^{(i)};w) - y^{(i)}\\right)x^{(i)}$$\n",
    "\n",
    "Sum over all $N$ samples (Full Gradient):\n",
    "$$\\nabla_wJ(w^t) = \\sum_{i=1}^N \\left(w^Tx^{(i)} - y^{(i)}\\right)x^{(i)}$$"
   ]
  },
  {
   "cell_type": "markdown",
   "id": "beb9d95c",
   "metadata": {},
   "source": [
    "**Loss Function**\n",
    "\n",
    "**Definition:** Single overall measure of loss incurred for taking our decisions over entire dataset.\n",
    "\n",
    "**Formula:**\n",
    "$$Loss(y,f(x;w)) = -y \\log \\left(f(x;w)\\right) - (1 - y) \\log \\left(1 - f(x;w) \\right)$$\n",
    "Since in binary classification either $y = 1$ or $y = 0$ then:\n",
    "$$\n",
    "Loss(y,f(x;w))\n",
    "\\begin{cases} \n",
    "\\log \\left(f(x;w)\\right) & \\text{if } y = 1 \\\\\n",
    "\\log \\left(1 - f(x;w)\\right) & \\text{if } y = 0\n",
    "\\end{cases}\n",
    "$$\n",
    "\n",
    "**Key Properties:**\n",
    "- **Penalty for Overconfidence:**\n",
    "    - It heavily penalizes confident but incorrect predictions (e.g., predicting a value close to 1 when the true label is 0). This encourages the model to be cautious unless it’s highly certain.\n",
    "- **Encourages Confidence Near Decision Boundary:**\n",
    "    - Even correct predictions incur a loss if they are close to the decision threshold (e.g., predicting 0.51 when the true label is 1), pushing the model to be more confident and create better class separation."
   ]
  },
  {
   "cell_type": "markdown",
   "id": "ccc6af19",
   "metadata": {},
   "source": [
    "##### **Multi-Class Logistic Regression**"
   ]
  },
  {
   "cell_type": "markdown",
   "id": "9cca10b0",
   "metadata": {},
   "source": [
    "- **Definition:** A problem where we have K classes and every sample only belongs to one class *(for simplicity)*\n",
    "\n",
    "- For each class $k$, $f_k(x;W)$ predicts the probability of $y=k$:\n",
    "    $$p(y=k|x,W)$$\n",
    "    Where:\n",
    "    - $W$ denotes a matrix of $w_i$'s, which each $w_i$ is a weight vector dedicated for class label $i$.\n",
    "    - $f_k(x;W) = \\sigma_k(x;w)$\n",
    "\n",
    "- On a new input $x$, pick the class that maximizes $f_k(x;W)$:\n",
    "$$\\alpha(x) = \\argmax_{k=1,2,...,K}f_k(x)$$"
   ]
  },
  {
   "cell_type": "markdown",
   "id": "c9f80ff5",
   "metadata": {},
   "source": [
    "**Problem Setup**\n",
    "\n",
    "**Assumptions:**\n",
    "- $K \\gt 2$\n",
    "- $y \\in \\{1, 2, ..., K\\}$:\n",
    "\n",
    "**Normalized exponential (Softmax)**\n",
    "$$f_k(x,W) = p(y=k | x) = \\frac{e^{w_k^Tx}}{\\sum_{j = 1}^K e^{w_j^Tx}}$$\n",
    "\n",
    "**Decision Behavior:**  \n",
    "$$\\text{If } {w_k^Tx} \\gg {w_j^Tx} \\quad \\forall j \\neq k \\Rightarrow\n",
    "\\begin{cases}\n",
    "p(C_k|x) \\approx 1 \\\\\n",
    "p(C_j|x) \\approx 0\n",
    "\\end{cases}$$\n",
    "\n",
    "Recall *Bayes' theorem* formulation:\n",
    "$$p(C_k|x) = \\frac{p(x|C_k)p(C_k)}{\\sum_{j=1}^K p(x|C_j)p(C_j)}$$"
   ]
  },
  {
   "cell_type": "markdown",
   "id": "e6ca003b",
   "metadata": {},
   "source": [
    "**Softmax Function**\n",
    "\n",
    "Softmax function is good candidate because:\n",
    "- Smoothly highlights the maximum probability\n",
    "- Differentiable.\n",
    "- Handle negative values because of exponential function\n",
    "- Normalization:\n",
    "$$\\sum_{k=1}^K \\frac{e^{w_k^Tx}}{\\sum_{j=1}^K e^{w_j^Tx}} = 1$$"
   ]
  },
  {
   "cell_type": "markdown",
   "id": "dbbd49fc",
   "metadata": {},
   "source": [
    "**Recall Multinomial Distribution:**\n",
    "\n",
    "Parameter Definition:\n",
    "$$\\theta = [\\theta_1, \\theta_2, ..., \\theta_K]$$\n",
    "Where:\n",
    "$$\\theta_k \\in [0, 1] \\quad \\text{and} \\quad \\sum_{k=1}^{K} \\theta_k = 1$$\n",
    "$$\\theta_k = p(x_k = 1)$$\n",
    "\n",
    "Likelihood:\n",
    "$$P(x|\\theta) = \\prod_{k=1}^K \\theta_k^{x_k} = \\theta_j \\quad \\text{(when $x_j = 1$)}$$"
   ]
  },
  {
   "cell_type": "markdown",
   "id": "86cd0e42",
   "metadata": {},
   "source": [
    "Set **cost function** as **negative of log likelihood**.\n",
    "\n",
    "We need $\\hat{W} = \\argmin_W J(W)$\n",
    "\n",
    "$$J(W) = -\\log\\prod_{i=1}^Np(y^{(i)} | x^{(i)}, W)$$\n",
    "$$ = -\\log \\prod_{i=1}^N \\prod_{k=1}^K f_k(x^{(i)};W)^{{y_k}^{(i)}}$$\n",
    "$$ = -\\log \\sum_{i=1}^N \\sum_{k=1}^K {{y_k}^{(i)}}\\log \\left(f_k(x^{(i)};W)\\right)$$\n",
    "\n",
    "There is no closed-form solution for $\\hat{W}$.  \n",
    "Use iterative optimization instead."
   ]
  },
  {
   "cell_type": "markdown",
   "id": "9478799d",
   "metadata": {},
   "source": [
    "**Gradient Descent**\n",
    "$$w_j^{t+1} = w_j^{t} - \\eta \\nabla_w(W^t)$$\n",
    "Where:\n",
    "$$\\nabla_{w_j}(W) = \\sum_{i=1}^N (f_j(x^{(i)};w) - y_j^{(i)})x^{(i)}$$"
   ]
  },
  {
   "cell_type": "markdown",
   "id": "66300f4f",
   "metadata": {},
   "source": [
    "### **Summary**"
   ]
  },
  {
   "cell_type": "markdown",
   "id": "bc5ebbaa",
   "metadata": {},
   "source": [
    "**Logistic Regression (LR)**\n",
    "\n",
    "- **Binary Classification:**\n",
    "    - **Type:** Linear classifier with probabilistic outputs\n",
    "    - **Assumption:** Bernoulli-distributed $P(y|x)$ with mean $\\sigma(w^Tx) = \\frac{1}{1+e^{-w^Tx}}$\n",
    "    - **Optimization:**\n",
    "        - MLE-derived cost: $J(w) = -\\sum [y_i\\log\\sigma(w^Tx_i) + (1-y_i)\\log(1-\\sigma(w^Tx_i))]$\n",
    "        - No closed-form solution for its optimization problem\n",
    "        - Convex: Global optimum via gradient ascent\n",
    "\n",
    "- **Multi-Class Extension**\n",
    "    - **Assumption:** Multinomial Distribution for $K$ classes with:\n",
    "        - Probability vector: $\\theta = [\\theta_1,...,\\theta_K]$ where $\\sum_k \\theta_k=1$\n",
    "        - One-hot labels: $y \\in {0,1}^K$ (single 1 per sample)\n",
    "    - **Softmax Regression** (Generalizes logistic regression):\n",
    "    $$p(y=k | x) = \\frac{e^{w_k^Tx}}{\\sum_{j = 1}^K e^{w_j^Tx}}$$\n",
    "    - **Optimization:**\n",
    "        - MLE-derived cost\n",
    "        - No closed-form solution for its optimization problem\n",
    "        - Convex: Global optimum via gradient ascent"
   ]
  },
  {
   "cell_type": "markdown",
   "id": "948297df",
   "metadata": {},
   "source": [
    "**Discriminative vs. Generative: Number of Parameters**\n",
    "\n",
    "for $d$-dimensional feature space\n",
    "\n",
    "- **Logistic Regression:** $d+1$ parameters\n",
    "    - $w = (w_0, w_1, ..., w_d)$\n",
    "\n",
    "- **Generative Approach:** Gaussian class-conditional with shared covariance matrix:\n",
    "    - $2d$ parameters for means\n",
    "    - $\\frac{d(d+1)}{2}$ parameters for shared covariance matrix\n",
    "    - one parameter for class prior $p(C_k)$\n",
    "\n",
    "LR is **more robust**, **less sensitive** to incorrect modeling assumptions."
   ]
  },
  {
   "cell_type": "markdown",
   "id": "d3f3b962",
   "metadata": {},
   "source": [
    "## Support Vector Machines (SVM)"
   ]
  },
  {
   "cell_type": "markdown",
   "id": "61f4c2df",
   "metadata": {},
   "source": [
    "### **Introduction**"
   ]
  },
  {
   "cell_type": "markdown",
   "id": "1fe64da8",
   "metadata": {},
   "source": [
    "**Margin:**\n",
    "- The **smallest distance** between the **decision boundary** and any **training sample**.\n",
    "- A **larger margin** improves **generalization** (better performance on unseen data).\n",
    "\n",
    "**Support Vector Machine (SVM)**\n",
    "- Finds the maximum-margin solution for better generalization.\n",
    "- The optimal hyperplane is the one farthest from all training samples.\n",
    "- The best hyperplane has equal distances to the nearest samples of both classes."
   ]
  },
  {
   "cell_type": "markdown",
   "id": "e7fdc4ff",
   "metadata": {},
   "source": [
    "**Finding $w$ with large margin**\n",
    "\n",
    "**Assumptions**\n",
    "- Separate the bias term $w_0$ from weights $w = [w_1, w_2, ..., w_d]$:\n",
    "$$w_Tx + w_0 = 0$$\n",
    "\n",
    "- Normalize $w$ and $w_0$\n",
    "    - Let $x^{(n)}$ be the nearest point to the plane\n",
    "    - Fix the minimum distance of nearest point to decision boundary:\n",
    "    $$|w^Tx^{(n)}| = 1$$\n",
    "\n",
    "**Distance Derivation**\n",
    "- Recall (from earlier proof):\n",
    "    $$\\text{Distance from point to hyperplane} =  \\frac{|w^Tx^{(n)} + w_0|}{||w||}$$\n",
    "- Under our assumption, the nearest point's distance becomes:\n",
    "    $$\\frac{|w^Tx^{(n)} + w_0|}{||w||} = \\frac{1}{||w||}$$\n",
    "\n",
    "**Optimization problem**\n",
    "- For the entire margin (both sides), we maximize:\n",
    "    $$\\max_{w,w_0} \\frac{2}{||w||}$$\n",
    "- Equivalently, we minimize:\n",
    "    $$\\min_{w,w_0} \\frac{1}{2}||w||^2$$"
   ]
  },
  {
   "cell_type": "markdown",
   "id": "bafcb476",
   "metadata": {},
   "source": [
    "### **Hard-Margin SVM**"
   ]
  },
  {
   "cell_type": "markdown",
   "id": "d3ea74f0",
   "metadata": {},
   "source": [
    "#### **Problem Overview**"
   ]
  },
  {
   "cell_type": "markdown",
   "id": "eb198f43",
   "metadata": {},
   "source": [
    "**Key Assumption:**  \n",
    "The classes are linearly separable.\n",
    "\n",
    "**Objective:**  \n",
    "Find the hyperplane with the maximum margin.\n",
    "\n",
    "**Optimization Problem**  \n",
    "We seek:\n",
    "$$\\max_{w,w_0} \\frac{2}{||w||}$$\n",
    "$$\\text{s.t. } \\min_{n=1,...,N}|w^Tx^{(n)} + w_0| = 1$$\n",
    "\n",
    "For correct classification, the following must hold:\n",
    "  $$\n",
    "  \\begin{cases} \n",
    "  w^Tx^{(n)} + w_0 \\ge +1 & \\forall y^{(n)} = +1 \\\\\n",
    "  w^Tx^{(n)} + w_0 \\le -1 & \\forall y^{(n)} = -1\n",
    "  \\end{cases}\n",
    "  $$\n",
    "  Equivalently:\n",
    "  $$|w^Tx^{(n)} + w_0| = y^{(n)}(w^Tx^{(n)} + w_0)$$\n",
    "\n",
    "<div style=\"text-align:center\">\n",
    "  <img src=\"images/hardMarginProblemOverview.png\" alt=\"Problem Overview\">\n",
    "</div>"
   ]
  },
  {
   "cell_type": "markdown",
   "id": "367c4a73",
   "metadata": {},
   "source": [
    "We can equivalently optimize:\n",
    "$$\\min_{w,w_0}\\frac{1}{2}||w||^2$$\n",
    "$$\\text{s.t. } y^{(n)}(w^Tx^{(n)} + w_0) \\ge 1 \\quad n = 1, 2, ..., N$$\n",
    "\n",
    "**Properties:**\n",
    "- It is a convex **Quadratic Programming (QP)** problem.\n",
    "- There are computationally efficient packages to solve it.\n",
    "- It has a global minimum (if any).\n",
    "\n",
    "**QP Standard Form:**  \n",
    "- A general QP problem is defined as:\n",
    "    $$\\min_x \\frac{1}{2}x^TQx + c^Tx$$\n",
    "    $$Ax \\le b, \\quad Ex = d$$\n",
    "- Mapping SVM to QP:\n",
    "    - $Q = I$\n",
    "    - $c = 0$\n",
    "    - $x = 2$\n",
    "\n",
    "    As a result we got:\n",
    "    $$\\min_w \\frac{1}{2}w^Tw$$"
   ]
  },
  {
   "cell_type": "markdown",
   "id": "287fcbf9",
   "metadata": {},
   "source": [
    "#### **Dual Optimization Problem**"
   ]
  },
  {
   "cell_type": "markdown",
   "id": "f1857e7e",
   "metadata": {},
   "source": [
    "The *dual* problem is equivalent to the original *primal* problem. The dual problem:\n",
    "- Is often **easier** to solve\n",
    "- Gives us **further insights** into the optimal hyperplane\n",
    "- Enables the **kernel trick** (for nonlinear classification)."
   ]
  },
  {
   "cell_type": "markdown",
   "id": "699de59f",
   "metadata": {},
   "source": [
    "**Lagrangian Multiplier Overview**\n",
    "\n",
    "**Given:**\n",
    "$$p^* = \\min_x f(x)$$\n",
    "$$\\text{s.t. } g_i(x) \\le 0 \\quad i=1,...,m$$\n",
    "$$\\text{s.t. } h_i(x) = 0 \\quad i=1,...,p$$\n",
    "\n",
    "**Lagrangian Function:**\n",
    "$$L(x, \\alpha, \\lambda) = f(x) + \\sum_{i=1}^m \\alpha_i g_i(x) + \\sum_{i=1}^p \\lambda_i h_i(x)$$\n",
    "Where \n",
    "- $\\alpha$, $\\lambda$ are Lagrangian multipliers\n",
    "- $\\alpha = [\\alpha_1, ..., \\alpha_m]$\n",
    "- $\\lambda = [\\lambda_1, ..., \\lambda_p]$\n",
    "\n",
    "**Behavior of the Lagrangian:**\n",
    "- If $g_i(x) \\gt 0$ and $\\alpha_i \\gg 0$, $L \\rightarrow +\\infty$\n",
    "- if $h_i(x) \\neq 0$ and $\\lambda_i$ with the same sign as $h_i(x)$ and $|\\lambda_i| \\gg 0$, $L \\rightarrow +\\infty$\n",
    "- Only when all constraints are satisfied does $L = f(x)$\n",
    "\n",
    "$$\n",
    "\\max_{\\{\\alpha_i\\ge0\\}, \\{\\lambda_i\\}} L(x, \\alpha, \\lambda) = \n",
    "\\begin{cases} \n",
    "\\infty & \\forall g_i(x)\\gt 0 \\\\\n",
    "\\infty & \\forall h_i(x)\\neq 0 \\\\\n",
    "f(x) & \\text{otherwise}\n",
    "\\end{cases}\n",
    "$$\n",
    "\n",
    "**Primal Problem:**\n",
    "$$p^* = \\min_x \\max_{\\{\\alpha_i\\ge0\\}, \\{\\lambda_i\\}} L(x, \\alpha, \\lambda)$$\n",
    "\n",
    "**Key Insight:**\n",
    "- Instead of constrained minimization of $f(x)$, we now consider unconstrained optimization of $L(x, \\alpha, \\lambda)$:"
   ]
  },
  {
   "cell_type": "markdown",
   "id": "36b09be5",
   "metadata": {},
   "source": [
    "**Dual Problem Remarks**\n",
    "\n",
    "- **Primal problem**:\n",
    "    $$p^* = \\min_x \\max_{\\{\\alpha_i\\ge0\\}, \\{\\lambda_i\\}} L(x, \\alpha, \\lambda)$$   \n",
    "- **Dual problem**\n",
    "    $$d^* = \\max_{\\{\\alpha_i\\ge0\\}, \\{\\lambda_i\\}} \\min_x L(x, \\alpha, \\lambda)$$\n",
    "\n",
    "- **Weak Duality:**  \n",
    "    For any function $h(x, y)$\n",
    "    $$\\max_x \\min_y h(x, y) \\le \\min_y \\max_x h(x, y)$$\n",
    "\n",
    "    Obtained by swapping the order of min and max: $d^* \\le p^*$\n",
    "\n",
    "- **Strong Duality:**\n",
    "    - If the original problem is convex (i.e, $f$ and $g$ are convex, $h$ is affine), we have **strong duality**\n",
    "        $$d^* = p^*$$\n",
    "    - The dual solution equals the primal solution.\n",
    "    - This holds for SVM since $\\frac{1}{2} ||w||^2$ is convex and constraints are linear."
   ]
  },
  {
   "cell_type": "markdown",
   "id": "d027807b",
   "metadata": {},
   "source": [
    "**Primal Optimization Problem:**\n",
    "$$\\min_{w, w_0} \\frac{1}{2}||w||^2$$\n",
    "$$\\text{s.t. } y^{(i)}(w^T x^{(i)} + w_0) \\ge 1 \\quad i = 1, ..., N$$\n",
    "\n",
    "**Lagrangian Formulation:**  \n",
    "- For constrained optimization problems of the form:\n",
    "    $$p^* = \\min_x f(x)$$\n",
    "    $$\\text{s.t. } g_i(x) \\le 0 \\quad i=1,...,m$$\n",
    "- The Lagrangian function is:\n",
    "    $$L(x, \\alpha, \\lambda) = f(x) + \\sum_{i=1}^m \\alpha_i g_i(x)$$\n",
    "\n",
    "**Applying to SVM:**  \n",
    "- rewriting constraints:\n",
    "    $$1 - y^{(i)}(w^T x^{(i)} + w_0) \\le 0 \\quad i = 1, ..., N$$\n",
    "- Primal Lagrangian:\n",
    "    $$\\min_{w,w_0} \\max_{\\{\\alpha_n \\ge 0\\}} \\{\\frac{1}{2}||w||^2 + \\sum_{n=1}^N \\alpha_n(1 - y^{(n)}(w^T x^{(n)} + w_0))\\}$$\n",
    "\n",
    "**Dual Problem Formulation:**  \n",
    "- Switching min/max order:\n",
    "    $$\\max_{\\{\\alpha_n \\ge 0\\}} \\min_{w,w_0} \\{\\frac{1}{2}||w||^2 + \\sum_{n=1}^N \\alpha_n(1 - y^{(n)}(w^T x^{(n)} + w_0))\\}$$"
   ]
  },
  {
   "cell_type": "markdown",
   "id": "a050dcfe",
   "metadata": {},
   "source": [
    "**Dual Problem Formulation:**\n",
    "$$\\max_{\\{\\alpha_n \\ge 0\\}} \\min_{w,w_0} L(w, w_0, \\alpha)$$\n",
    "$$L(w, w_0, \\alpha) = \\frac{1}{2}||w||^2 + \\sum_{n=1}^N \\alpha_n(1 - y^{(n)}(w^T x^{(n)} + w_0))$$\n",
    "\n",
    "**Optimality Conditions:**\n",
    "- Gradient w.r.t. w:\n",
    "    $$\\nabla_w L(w, w_0, \\alpha) = 0 \\implies w - \\sum_{n=1}^N \\alpha_n y^{(n)} x^{(n)} = 0$$\n",
    "    $$w = \\sum_{n=1}^N \\alpha_n y^{(n)} x^{(n)}$$\n",
    "\n",
    "- Derivate w.r.t. $w_0:$\n",
    "    $$\\frac{\\partial L(w, w_0, \\alpha)}{\\partial w_0} = 0 \\implies -\\sum_{n=1}^N \\alpha_n y^{(n)} = 0$$\n",
    "\n",
    "No constraints on $w_0$, instead, a global constraint on $\\alpha$ is created."
   ]
  },
  {
   "cell_type": "markdown",
   "id": "29651eeb",
   "metadata": {},
   "source": [
    "Original Lagrangian function:\n",
    "    $$L(w, w_0, \\alpha) = \\frac{1}{2} w^Tw + \\sum_{n=1}^N a_n(1-y^{(n)}(w^Tx^{(n)} + w_0))$$\n",
    "    $$ = \\frac{1}{2} w^Tw + \\sum_{n=1}^N a_n - \\sum_{n=1}^N a_ny^{(n)}w^Tx^{(n)} - \\sum_{n=1}^N a_n y^{(n)}w_0$$\n",
    "\n",
    "Since $\\sum_{n=1}^N \\alpha_n y^{(n)} = 0$ Then:\n",
    "    $$\\sum_{n=1}^N a_n y^{(n)}w_0 = 0$$\n",
    "\n",
    "Substitute optimal $w$:\n",
    "    $$\\frac{1}{2} w^Tw = \\frac{1}{2} \\sum_{n=1}^N a_ny^{(n)}w^Tx^{(n)} \\implies L(w, w_0, \\alpha) = \\sum_{n=1}^N a_n - \\frac{1}{2} \\sum_{n=1}^N a_ny^{(n)}w^Tx^{(n)}$$\n",
    "\n",
    "Substitute optimal $w^T$:\n",
    "    $$L(w, w_0, \\alpha) = \\sum_{n=1}^N a_n - \\frac{1}{2} \\sum_{n=1}^N \\sum_{m=1}^N a_n^T a_m y^{(n)} y^{(m)} {x^{(n)}}^T x^{(m)}$$\n",
    "\n",
    "Subject to:\n",
    "    $$\\sum_{n=1}^N \\alpha_n y^{(n)} = 0$$\n",
    "    $$\\alpha_n \\ge 0 \\quad n = 1, ..., N$$\n",
    "\n",
    "**Key Result:**\n",
    "- Final Dual Optimization:\n",
    "    $$\\max_{\\alpha} \\left\\{\\sum_{n=1}^N a_n - \\frac{1}{2} \\sum_{n=1}^N \\sum_{m=1}^N a_n^T a_m y^{(n)} y^{(m)} {x^{(n)}}^T x^{(m)}\\right\\}$$\n",
    "    $$\\text{s.t. } \\sum_{n=1}^N \\alpha_n y^{(n)} = 0, \\quad \\alpha_n \\ge 0 \\quad \\forall n$$\n",
    "- It is convex QP"
   ]
  },
  {
   "cell_type": "markdown",
   "id": "f45ca0e1",
   "metadata": {},
   "source": [
    "**Solution:**\n",
    "\n",
    "The dual SVM optimization problem can be expressed as a QP:\n",
    "$$\n",
    "\\min_{\\alpha} \\frac{1}{2} \\alpha^T \n",
    "\\begin{bmatrix}\n",
    "y^{(1)} y^{(1)} x^{(1)^T} x^{(1)} & \\cdots & y^{(1)} y^{(N)} x^{(1)^T} x^{(N)} \\\\\n",
    "\\vdots & \\ddots & \\vdots \\\\\n",
    "y^{(N)} y^{(1)} x^{(N)^T} x^{(1)} & \\cdots & y^{(N)} y^{(N)} x^{(N)^T} x^{(N)}\n",
    "\\end{bmatrix}\n",
    "\\alpha - 1^T \\alpha\n",
    "$$\n",
    "\n",
    "Subject to:\n",
    "- $ -\\alpha \\leq 0$  \n",
    "   (Equivalent to $\\alpha_i \\geq 0 \\ \\forall i$)\n",
    "\n",
    "- $ \\mathbf{y}^T \\alpha = 0 $  \n",
    "   (Equivalent to $\\sum_{n=1}^N \\alpha_n y^{(n)} = 0$)\n",
    "\n",
    "<br>\n",
    "\n",
    "**Connection to Standard QP Form:**  \n",
    "This matches the general QP formulation:\n",
    "$$\n",
    "\\min_{x} \\frac{1}{2}x^T Q x + \\mathbf{c}^T x\n",
    "$$\n",
    "where:\n",
    "- $Q$ is the kernel matrix\n",
    "- $\\mathbf{c} = -\\mathbf{1}$\n",
    "- $x = \\alpha$"
   ]
  },
  {
   "cell_type": "markdown",
   "id": "1db81158",
   "metadata": {},
   "source": [
    "#### **Karush-Kuhn-Tucker (KKT) Conditions**"
   ]
  },
  {
   "cell_type": "markdown",
   "id": "3ea34373",
   "metadata": {},
   "source": [
    "**Remarks:**\n",
    "\n",
    "**Optimization Problem:**\n",
    "    $$p^* = \\min_x f(x)$$\n",
    "    $$\\text{s.t. } g_i(x) \\le 0 \\quad i=1,...,m$$\n",
    "\n",
    "**Lagrangian Function:**\n",
    "    $$L(x, \\alpha, \\lambda) = f(x) + \\sum_{i=1}^m \\alpha_i g_i(x)$$\n",
    "\n",
    "The Optimal $x^*$ and $\\alpha^*$ satisfies **KKT conditions:**\n",
    "- **Stationary:**\n",
    "    $$\\nabla_w L(x, \\alpha)|_{x^*, \\alpha^*} = 0$$\n",
    "- **Primal Feasibility:**\n",
    "    $$g_i(x^*) \\le 0 \\quad \\forall i$$\n",
    "- **Dual Feasibility:**\n",
    "    $$\\alpha_i^* \\ge 0 \\quad \\forall i$$\n",
    "- **Complementary Slackness:**\n",
    "    $$\\alpha_i^* g_i(x^*) = 0 \\quad \\forall i$$\n",
    "    Means either the constraint $g_i(x^*) = 0$ or the Lagrange multiplier $\\alpha_i^* = 0$\n",
    "    - **Active Constraints:**  \n",
    "        If $\\alpha_i^* \\gt 0$, then $g_i(x^*) = 0$ (the $i$-th constraint is tight at the solution).\n",
    "\n",
    "    - **Inactive Constraints:**  \n",
    "        If $g_i(x^*) \\lt 0$, then $\\alpha_i^* = 0$ (the constraint has no influence on the solution)."
   ]
  },
  {
   "cell_type": "markdown",
   "id": "b57e089e",
   "metadata": {},
   "source": [
    "**SVM via KKT**\n",
    "\n",
    "For the solution $(w^*, w_0^*, \\alpha^*)$, the following must hold:\n",
    "- **Stationary:**\n",
    "    $$\\nabla_w L(w^*, w_0^*, \\alpha^*)|_{w^*, w_0^*, \\alpha^*} = 0$$\n",
    "    $$\\frac{\\partial L(w^*, w_0^*, \\alpha^*)}{\\partial w_0} = 0$$\n",
    "\n",
    "- **Primal Feasibility:**\n",
    "    $$y^{(n)}({w^*}^T x^{(n)} + w_0^*) \\ge 1 \\quad \\forall n$$\n",
    "\n",
    "- **Dual Feasibility:**\n",
    "    $$\\alpha_n^* \\ge 0 \\quad \\forall n$$\n",
    "\n",
    "- **Complementary Slackness:**\n",
    "    $${\\alpha_i}^*(1 - y^{(n)}({w^*}^T x^{(n)} + w_0^*)) = 0 \\quad \\forall n$$\n",
    "    - **Active Constraint** ($\\alpha_n^* > 0$):  \n",
    "        - $y^{(n)}({w^*}^T x^{(n)} + w_0^*) = 1$\n",
    "        - $x^{(n)}$ lies exactly on the margin (**Support Vector**).  \n",
    "\n",
    "    - **Inactive Constraint** ($\\alpha_n^* = 0$):  \n",
    "        - $y^{(n)}({w^*}^T x^{(n)} + w_0^*)  \\ge 1$\n",
    "        - $x^{(n)}$ has no impact on $w^*$.  \n",
    "        - A sample with $\\alpha_n^* = 0$ can also lie on one of the margin hyperplanes\n",
    "\n",
    "<div style=\"text-align:center\">\n",
    "  <img src=\"images/supportVector.png\" alt=\"Support Vector\">\n",
    "</div>"
   ]
  },
  {
   "cell_type": "markdown",
   "id": "99b371aa",
   "metadata": {},
   "source": [
    "**Support Vectors:**\n",
    "\n",
    "- Data points that are closest to the hyperplane that separates different classes.\n",
    "- Lie exactly on the margin ($y^{(n)}(w^T x^{(n)} + w_0) = 1$).\n",
    "- SV = $\\{x^{(n)} | \\alpha_n \\gt 0\\}$\n",
    "- Sparse solution: Typically few SVs compared to total samples.\n",
    "- The direction of hyper-plane can be found only based on support vectors:\n",
    "$$w = \\sum_{\\alpha_n \\gt 0} \\alpha_n y^{(n)} x^{(n)}$$"
   ]
  },
  {
   "cell_type": "markdown",
   "id": "2c531f60",
   "metadata": {},
   "source": [
    "#### **Constructing the Hyperplane**"
   ]
  },
  {
   "cell_type": "markdown",
   "id": "1a04a329",
   "metadata": {},
   "source": [
    "After finding $\\alpha$ by QP, **compute $w$:**\n",
    "$$w = \\sum_{n=1}^N \\alpha_n y^{(n)} x^{(n)} = \\sum_{\\alpha_n \\gt 0} \\alpha_n y^{(n)} x^{(n)}$$\n",
    "\n",
    "**Key Properties:**\n",
    "- Number of dual variables equals training set size.\n",
    "- Sparse solution: Typically few SVs ($\\alpha \\gt 0$) compared to total samples.\n",
    "\n",
    "**Compute $w_0$:**  \n",
    "Each of the samples that has $\\alpha_s \\gt 0$ is on the margin, thus we solve for $𝑤_0$ using any of SVs:\n",
    "$$|w^Tx^{(s)} + w_0| = 1$$\n",
    "$$(w^Tx^{(s)} + w_0) = y^{(s)}$$\n",
    "$$w_0 = y^{(s)} - w^Tx^{(s)}$$\n"
   ]
  },
  {
   "cell_type": "markdown",
   "id": "fa7fa323",
   "metadata": {},
   "source": [
    "#### **Classifying New Samples**"
   ]
  },
  {
   "cell_type": "markdown",
   "id": "a19c2d78",
   "metadata": {},
   "source": [
    "Classification of a new sample $x$:\n",
    "$$\\hat{y} = \\text{sign}(w_0 + w^Tx)$$\n",
    "$$\\hat{y} = \\text{sign} \\left(w_0 + \\left(\\sum_{\\alpha_n \\gt 0} \\alpha_n y^{(n)} x^{(n)} \\right)^T x \\right)$$\n",
    "\n",
    "$$\\hat{y} = \\text{sign} \\left(\\underbrace{y^{(s)} - \\sum_{\\alpha_n \\gt 0} \\alpha_n y^{(n)} {x^{(n)}}^T x^{(s)}}_{w_0^*} + \\sum_{\\alpha_n \\gt 0} \\alpha_n y^{(n)} {x^{(n)}}^T x \\right)$$\n",
    "\n",
    "**Key Insights:**\n",
    "- $\\alpha_n \\gt 0$: Support vectors are sufficient to predict labels of new samples.\n",
    "- The classifier is based on the expansion in terms of dot products of $x$ with support vectors.\n",
    "- Later, we will see how replacing the dot product with more complex kernel functions enables the creation of more complex classifiers."
   ]
  },
  {
   "cell_type": "markdown",
   "id": "e05a039a",
   "metadata": {},
   "source": [
    "#### **Hard-Margin SVM: Dual Problem Key Results**"
   ]
  },
  {
   "cell_type": "markdown",
   "id": "86a964cb",
   "metadata": {},
   "source": [
    "**Dual Optimization Problem:**\n",
    "$$\\max_{\\alpha} \\left\\{\\sum_{n=1}^N a_n - \\frac{1}{2} \\sum_{n=1}^N \\sum_{m=1}^N a_n^T a_m y^{(n)} y^{(m)} {x^{(n)}}^T x^{(m)}\\right\\}$$\n",
    "$$\\text{s.t. } \\sum_{n=1}^N \\alpha_n y^{(n)} = 0, \\quad \\alpha_n \\ge 0 \\quad \\forall n$$\n",
    "\n",
    "**Key Properties:**\n",
    "- The Lagrange multiplier vector $\\alpha$ has length $N$ (one entry per training sample)\n",
    "- Typically, most $\\alpha_n = 0$ (only support vectors have $\\alpha_n > 0$)\n",
    "- Simpler Constraints: Only requires $\\alpha_n \\geq 0$ and one linear equality\n",
    "- Number of parameters ($N$) is independent of feature space dimension (enables kernel trick)\n",
    "- Sparse solution (few support vectors) reduces prediction complexity\n",
    "- $\\alpha$ values reveal support vectors and margin properties"
   ]
  },
  {
   "cell_type": "markdown",
   "id": "d0cb18ea",
   "metadata": {},
   "source": [
    "**Most Important Property:**  \n",
    "    We can work in high-dimensional (even infinite) feature spaces without explicitly computing $\\phi(x)$, as long as we can compute the kernel $K(x,x')$:\n",
    "    $$\\max_{\\alpha} \\left\\{\\sum_{n=1}^N a_n - \\frac{1}{2} \\sum_{n=1}^N \\sum_{m=1}^N a_n^T a_m y^{(n)} y^{(m)} {\\phi(x^{(n)})}^T \\phi(x^{(m)})\\right\\}$$\n",
    "    $$\\text{s.t. } \\sum_{n=1}^N \\alpha_n y^{(n)} = 0, \\quad \\alpha_n \\ge 0 \\quad \\forall n$$"
   ]
  },
  {
   "cell_type": "markdown",
   "id": "eccb4a2a",
   "metadata": {},
   "source": [
    "### **Soft-Margin SVM**"
   ]
  },
  {
   "cell_type": "markdown",
   "id": "e7de36a2",
   "metadata": {},
   "source": [
    "#### **Introduction**"
   ]
  },
  {
   "cell_type": "markdown",
   "id": "6e80432a",
   "metadata": {},
   "source": [
    "Must find a solution even though the classes are not exactly linearly separable\n",
    "\n",
    "Extend the hard-margin SVM to allow classification error:\n",
    "- Overlapping classes that can be approximately separated by a linear boundary\n",
    "- Noise in the linearly separable classes\n",
    "\n",
    "<div style=\"text-align:center\">\n",
    "  <img src=\"images/softMarginCauses.png\" alt=\"Why Soft Margin\">\n",
    "</div>"
   ]
  },
  {
   "cell_type": "markdown",
   "id": "825ced3f",
   "metadata": {},
   "source": [
    "- Minimizing the number of misclassified points\n",
    "    - NP-complete\n",
    "- Soft-Margin:\n",
    "    - Maximizing margin\n",
    "    - Try to minimize the distance between misclassified points and their correct margin"
   ]
  },
  {
   "cell_type": "markdown",
   "id": "5a200c44",
   "metadata": {},
   "source": [
    "#### **Problem Overview**"
   ]
  },
  {
   "cell_type": "markdown",
   "id": "b379c9b3",
   "metadata": {},
   "source": [
    "**Recall: Hard-Margin**\n",
    "$$\\min_{w,w_0}\\frac{1}{2}||w||^2$$\n",
    "$$\\text{s.t. } y^{(n)}(w^Tx^{(n)} + w_0) \\ge 1 \\quad n = 1, 2, ..., N$$"
   ]
  },
  {
   "cell_type": "markdown",
   "id": "9db46450",
   "metadata": {},
   "source": [
    "SVM with **slack variables**:  \n",
    "Allows samples to fall within the margin, but penalizes them\n",
    "$$\\min_{w,w_0}\\frac{1}{2}||w||^2 + C\\sum_{n=1}^N\\xi_n$$\n",
    "$$\\text{s.t. } y^{(n)}(w^Tx^{(n)} + w_0) \\ge 1 - \\xi_n \\quad n = 1, 2, ..., N$$\n",
    "$$\\xi_n \\ge 0$$\n",
    "\n",
    "Where:\n",
    "- Margin violation amount $\\xi_n$: **Slack variable**\n",
    "- Total violation: $\\sum_{n=1}^N\\xi_n$\n",
    "$$ \\begin{cases}\n",
    "\\xi_n = 0 & \\text{$x{(n)}$ is linearly separable} \\\\\n",
    "0 \\lt \\xi_n \\lt 1 & \\text{$x{(n)}$ is correctly classified but inside margin} \\\\\n",
    "\\xi_n \\gt 1 & \\text{$x{(n)}$ is misclassified}\n",
    "\\end{cases}\n",
    "$$"
   ]
  },
  {
   "cell_type": "markdown",
   "id": "1da89b5b",
   "metadata": {},
   "source": [
    "**Parameter $C$**\n",
    "\n",
    "$C$ is a tradeoff parameter:\n",
    "- Small $C$ allows margin constraints to be easily ignored\n",
    "    - Large margin\n",
    "- Large $C$ makes constraints hard to ignore\n",
    "    - Narrow margin\n",
    "\n",
    "$C \\rightarrow \\infty$ enforces all constraints: **Hard-Margin**\n",
    "\n",
    "$C$ can be determined using a technique like *cross validation*."
   ]
  },
  {
   "cell_type": "markdown",
   "id": "5ca599a3",
   "metadata": {},
   "source": [
    "**Key Results:**\n",
    "\n",
    "Linear penalty (hinge loss) for a sample if it is misclassified or lied in the margin:\n",
    "- Tries to maintain $\\xi_n$ small while maximizing the margin.\n",
    "- Always finds a solution (as opposed to hard-margin SVM)\n",
    "- More robust to the outliers\n",
    "\n",
    "Soft margin problem is still a convex QP"
   ]
  },
  {
   "cell_type": "markdown",
   "id": "7a457a65",
   "metadata": {},
   "source": [
    "#### **Cost Function**"
   ]
  },
  {
   "cell_type": "markdown",
   "id": "f922181b",
   "metadata": {},
   "source": [
    "**Soft Margin Formula:**\n",
    "$$\\min_{w,w_0}\\frac{1}{2}||w||^2 + C\\sum_{n=1}^N\\xi_n$$\n",
    "$$\\text{s.t. } y^{(n)}(w^Tx^{(n)} + w_0) \\ge 1 - \\xi_n \\quad n = 1, 2, ..., N$$\n",
    "$$\\xi_n \\ge 0$$\n",
    "\n",
    "Slack variable constraints:\n",
    "$$\\xi_n \\ge 1 - y^{(n)}(w^Tx^{(n)} + w_0)$$\n",
    "$$\\xi_n \\ge 0$$\n",
    "So:\n",
    "$$\\min_{\\xi_n} = \\max(0, 1 - y^{(n)}(w^Tx^{(n)} + w_0))$$"
   ]
  },
  {
   "cell_type": "markdown",
   "id": "b101527d",
   "metadata": {},
   "source": [
    "Unconstrained optimization problem:\n",
    "$$\\min_{w,w_0} \\left(\\underbrace{\\frac{1}{2}||w||^2}_{\\text{regularization}} + C\\sum_{n=1}^N \\underbrace{\\max(0, 1 - y^{(n)}(w^Tx^{(n)} + w_0))}_{\\text{Hinge Loss}} \\right)$$\n",
    "\n",
    "*Hinge Loss* vs. *0-1 Loss*:\n",
    "<div style=\"text-align:center\">\n",
    "  <img src=\"images/hingeLoss.png\" alt=\"Hinge Loss\">\n",
    "</div>\n",
    "\n",
    "**Key Results:**\n",
    "- Smaller loss for points where correctly classified but inside margin\n",
    "- Larger loss for misclassified points"
   ]
  },
  {
   "cell_type": "markdown",
   "id": "53007843",
   "metadata": {},
   "source": [
    "#### **Dual Optimization Problem**"
   ]
  },
  {
   "cell_type": "markdown",
   "id": "295fa30d",
   "metadata": {},
   "source": [
    "**Recall:**\n",
    "\n",
    "- **Soft Margin Formula:**\n",
    "    $$\\min_{w,w_0}\\frac{1}{2}||w||^2 + C\\sum_{n=1}^N\\xi_n$$\n",
    "    $$\\text{s.t. } 1 - \\xi_n - y^{(n)}(w^Tx^{(n)} + w_0) \\le 0 \\quad n = 1, 2, ..., N$$\n",
    "    $$-\\xi_n \\le 0$$\n",
    "\n",
    "- **Lagrange Formulation**\n",
    "    $$p^* = \\min_x f(x)$$\n",
    "    $$\\text{s.t. } g_i(x) \\le 0 \\quad i=1,...,m$$\n",
    "    Lagrangian function:\n",
    "    $$L(x, \\alpha, \\lambda) = f(x) + \\sum_{i=1}^m \\alpha_i g_i(x)$$"
   ]
  },
  {
   "cell_type": "markdown",
   "id": "74d1f6b2",
   "metadata": {},
   "source": [
    "**Soft Margin Lagrangian Formulation:**\n",
    "$$L(w, w_0, \\xi, \\alpha, \\beta) = \\frac{1}{2}||w||^2 + C\\sum_{n=1}^N\\xi_n + \\sum_{n=1}^N \\alpha_n(1 - \\xi_n - y^{(n)}(w^Tx^{(n)} + w_0)) - \\sum_{n=1}^N \\beta_n \\xi_n$$\n",
    "Subject to:\n",
    "$$\\alpha_n \\ge 0$$\n",
    "$$\\beta_n \\ge 0$$\n",
    "\n",
    "Expand the formulation:\n",
    "$$L(w, w_0, \\xi, \\alpha, \\beta) = \\frac{1}{2}||w||^2 + C\\sum_{n=1}^N\\xi_n + \\sum_{n=1}^N \\alpha_n - \\sum_{n=1}^N \\alpha_n \\xi_n - \\sum_{n=1}^N \\alpha_n y^{(n)} w^Tx^{(n)} - \\sum_{n=1}^N \\alpha_n y^{(n)} w_0 - \\sum_{n=1}^N \\beta_n \\xi_n$$\n",
    "\n",
    "- Minimize w.r.t. $w, w_0, \\xi$\n",
    "- Maximize w.r.t. $a_n \\ge 0$ and $\\beta_n \\ge 0$\n"
   ]
  },
  {
   "cell_type": "markdown",
   "id": "0654fbd4",
   "metadata": {},
   "source": [
    "**Optimality Conditions:**\n",
    "- Gradient w.r.t. $w$:\n",
    "    $$\\nabla_w L(w, w_0, \\xi, \\alpha, \\beta) = 0 \\implies w - \\sum_{n=1}^N \\alpha_n y^{(n)} x^{(n)} = 0$$\n",
    "    $$w = \\sum_{n=1}^N \\alpha_n y^{(n)} x^{(n)}$$\n",
    "\n",
    "- Derivate w.r.t. $w_0$:\n",
    "    $$\\frac{\\partial L(w, w_0, \\xi, \\alpha, \\beta)}{\\partial w_0} = 0 \\implies -\\sum_{n=1}^N \\alpha_n y^{(n)} = 0$$\n",
    "\n",
    "- Derivate w.r.t. $\\xi$\n",
    "    $$\\frac{\\partial L(w, w_0, \\xi, \\alpha, \\beta)}{\\partial \\xi} = 0 \\implies \\sum_{n=1}^N C - \\alpha_n - \\beta_n = 0$$"
   ]
  },
  {
   "cell_type": "markdown",
   "id": "7d5ba432",
   "metadata": {},
   "source": [
    "**Substitute in lagrange function:**\n",
    "$$L(w, w_0, \\xi, \\alpha, \\beta) = \\frac{1}{2}||w||^2  + \\sum_{n=1}^N (C + \\alpha_n - \\beta_n) \\xi_n + \\sum_{n=1}^N \\alpha_n(1 - y^{(n)}(w^Tx^{(n)} + w_0))$$\n",
    "\n",
    "**Key Properties:**\n",
    "- Because of $(C + \\alpha_n - \\beta_n) = 0$, the lagrange function is the same as hard margin problem.\n",
    "- Since there is no $\\beta$ and $xi$ in the function change last constraint to:\n",
    "    $$C - \\alpha_n = \\beta_n \\implies C - \\alpha_n \\ge 0$$\n",
    "- Because of\n",
    "    $$ \\begin{cases}\n",
    "    \\alpha_n \\le C \\\\\n",
    "    \\alpha_n \\ge 0\n",
    "    \\end{cases}\n",
    "    $$\n",
    "    parameter $0 \\le \\alpha_n \\ge C$"
   ]
  },
  {
   "cell_type": "markdown",
   "id": "acb468b8",
   "metadata": {},
   "source": [
    "**Dual optimization Problem:**\n",
    "    $$\\max_{\\alpha} \\left\\{\\sum_{n=1}^N a_n - \\frac{1}{2} \\sum_{n=1}^N \\sum_{m=1}^N a_n^T a_m y^{(n)} y^{(m)} {x^{(n)}}^T x^{(m)}\\right\\}$$\n",
    "    $$\\text{s.t. } \\sum_{n=1}^N \\alpha_n y^{(n)} = 0$$\n",
    "    $$0 \\le \\alpha_n \\le C \\quad n = 1, ..., N$$\n",
    "\n",
    "After solving the above QP, $w$ is find as:\n",
    "$$w = \\sum_{n=1}^N \\alpha_n y^{(n)} x^{(n)}$$"
   ]
  },
  {
   "cell_type": "markdown",
   "id": "421551d4",
   "metadata": {},
   "source": [
    "#### **Support Vectors**"
   ]
  },
  {
   "cell_type": "markdown",
   "id": "5979817b",
   "metadata": {},
   "source": [
    "**Dual optimization Problem:**\n",
    "    $$\\max_{\\alpha} \\left\\{\\sum_{n=1}^N a_n - \\frac{1}{2} \\sum_{n=1}^N \\sum_{m=1}^N a_n^T a_m y^{(n)} y^{(m)} {x^{(n)}}^T x^{(m)}\\right\\}$$\n",
    "    $$\\text{s.t. } \\sum_{n=1}^N \\alpha_n y^{(n)} = 0$$\n",
    "    $$0 \\le \\alpha_n \\le C \\quad n = 1, ..., N$$"
   ]
  },
  {
   "cell_type": "markdown",
   "id": "6b26e6c1",
   "metadata": {},
   "source": [
    "**Support Vectors:** $\\alpha_n \\gt 0$\n",
    "- If $0 \\lt \\alpha_n \\lt C$ (Margin support vector):\n",
    "    - **SVs on the margin**\n",
    "    $$y^{(n)}(w^Tx^{(n)} + w_0) = 1$$\n",
    "    $$\\xi_n = 0$$\n",
    "\n",
    "- If $\\alpha_n = C$ (Non-margin support vector):\n",
    "    - **SVs on or over the margin**\n",
    "    $$y^{(n)}(w^Tx^{(n)} + w_0) \\lt 1$$\n",
    "    $$\\xi_n \\gt 0$$"
   ]
  },
  {
   "cell_type": "markdown",
   "id": "9d5afab3",
   "metadata": {},
   "source": [
    "#### **Summary**"
   ]
  },
  {
   "cell_type": "markdown",
   "id": "7baea18c",
   "metadata": {},
   "source": [
    "- **Hard margin**: maximizing **margin**\n",
    "\n",
    "- **Soft margin**: handling noisy data and overlapping classes\n",
    "    - Slack variables in the problem\n",
    "\n",
    "- **Dual problems** of hard-margin and soft-margin SVM using **Lagrange function**\n",
    "    - Classifier decision in terms of **support vectors**\n",
    "\n",
    "- Dual problems lead us to **non-linear** SVM method easily by **kernel substitution**"
   ]
  },
  {
   "cell_type": "markdown",
   "id": "5b6ba995",
   "metadata": {},
   "source": [
    "### **Non-Linear SVM**"
   ]
  },
  {
   "cell_type": "markdown",
   "id": "aaaa3a9b",
   "metadata": {},
   "source": [
    "#### **Introduction**"
   ]
  },
  {
   "cell_type": "markdown",
   "id": "fea1a97e",
   "metadata": {},
   "source": [
    "**Not Linearly Separable Data:**\n",
    "- Noisy data or overlapping classes *(discussed in soft margin)*\n",
    "- Non-linear decision surface"
   ]
  },
  {
   "cell_type": "markdown",
   "id": "605de6ef",
   "metadata": {},
   "source": [
    "Assume a transformation $\\phi: R^d \\rightarrow R^m$ on the feature space:\n",
    "$$x \\rightarrow \\phi(x)$$\n",
    "Where:\n",
    "- $\\phi(x) = [\\phi_1(x), ..., \\phi_m(x)]$: set of basis functions\n",
    "- $\\phi_i(x): R^d \\rightarrow R$\n",
    "\n",
    "The goal is to find a hyper-plane in the transformed feature space:\n",
    "<div style=\"text-align:center\">\n",
    "  <img src=\"images/nonLinearSVM.png\" alt=\"non-linear svm\">\n",
    "</div>"
   ]
  },
  {
   "cell_type": "markdown",
   "id": "01cbf1f2",
   "metadata": {},
   "source": [
    "#### **Primal Problem vs. Dual Problem**"
   ]
  },
  {
   "cell_type": "markdown",
   "id": "3bb5e1f2",
   "metadata": {},
   "source": [
    "##### **Primal Problem**"
   ]
  },
  {
   "cell_type": "markdown",
   "id": "a8ed32c6",
   "metadata": {},
   "source": [
    "**Optimization Problem:**\n",
    "$$\\min_{w_0, w}\\frac{1}{2}||w||^2 + C \\sum_{n=1}^N \\xi_n$$\n",
    "$$s.t. y^{(n)}(w^T x^{(n)} + w_0) \\ge 1 - \\xi_n \\quad n = 1, ..., N$$\n",
    "$$\\xi_n \\ge 0$$\n",
    "\n",
    "**Key Properties:**\n",
    "- $w \\in R^m$: the weights that must be found\n",
    "- If $m \\gg d$ (very high dimensional feature space) then there are many more parameters to learn\n",
    "- Length of weights set will grows with feature space"
   ]
  },
  {
   "cell_type": "markdown",
   "id": "e0b5097d",
   "metadata": {},
   "source": [
    "##### **Dual Problem**"
   ]
  },
  {
   "cell_type": "markdown",
   "id": "32691e66",
   "metadata": {},
   "source": [
    "**Optimization Problem:**\n",
    "$$\\max_{\\alpha} \\left\\{\\sum_{n=1}^N a_n - \\frac{1}{2} \\sum_{n=1}^N \\sum_{m=1}^N a_n^T a_m y^{(n)} y^{(m)} {\\phi(x^{(n)})}^T \\phi(x^{(m)})\\right\\}$$\n",
    "$$\\text{s.t. } \\sum_{n=1}^N \\alpha_n y^{(n)} = 0$$\n",
    "$$0 \\le \\alpha_n \\le C \\quad n = 1, ..., N$$\n",
    "\n",
    "**Key Properties:**\n",
    "- We have inner products ${\\phi(x^{(n)})}^T \\phi(x^{(m)})$, only $\\alpha = [\\alpha_1, ..., \\alpha_N]$ needs to learn.\n",
    "    - No need to learn $m$ parameters as opposed to the *primal solution*"
   ]
  },
  {
   "cell_type": "markdown",
   "id": "be678cd3",
   "metadata": {},
   "source": [
    "**Classifying a New Data**\n",
    "$$\\hat{y} = \\text{sign}(w_0 + w^T\\phi(x))$$\n",
    "Where:\n",
    "$$w = \\sum_{\\alpha_n \\gt 0} \\alpha_n y^{(n)} \\phi(x^{(n)})$$\n",
    "$$w_0 = y^{(s)} - w^T \\phi(x^{(s)})$$"
   ]
  },
  {
   "cell_type": "markdown",
   "id": "1c6f5048",
   "metadata": {},
   "source": [
    "#### **Kernel SVM**"
   ]
  },
  {
   "cell_type": "markdown",
   "id": "218340a1",
   "metadata": {},
   "source": [
    "##### **Core Concepts**"
   ]
  },
  {
   "cell_type": "markdown",
   "id": "7d5837da",
   "metadata": {},
   "source": [
    "Learns **linear decision boundary** in a **high dimension** space **without** explicitly working on the **mapped data**.\n",
    "\n",
    "Let ${\\phi(x)}^T \\phi(x') = K(x, x')$ (Kernel)\n",
    "\n",
    "**Optimization Problem:**\n",
    "$$\n",
    "\\max_{\\alpha} \\left\\{ \\sum_{n=1}^{N} \\alpha_n - \\frac{1}{2} \\sum_{n=1}^{N} \\sum_{m=1}^{N} \\alpha_n \\alpha_m y^{(n)} y^{(m)} K(x^{(n)}, x^{(m)}) \\right\\}\n",
    "$$\n",
    "\n",
    "Constraints:\n",
    "- $$\\sum_{n=1}^{N} \\alpha_n y^{(n)} = 0$$\n",
    "- $$0 \\leq \\alpha_n \\leq C \\quad \\forall n \\in \\{1,...,N\\}$$\n",
    "\n",
    "**Kernel Matrix (Q)**\n",
    "$$\n",
    "Q = \n",
    "\\begin{bmatrix}\n",
    "y^{(1)} y^{(1)} K(x^{(1)}, x^{(1)}) & \\cdots & y^{(1)} y^{(N)} K(x^{(1)}, x^{(N)}) \\\\\n",
    "\\vdots & \\ddots & \\vdots \\\\\n",
    "y^{(N)} y^{(1)} K(x^{(N)}, x^{(1)}) & \\cdots & y^{(N)} y^{(N)} K(x^{(N)}, x^{(N)}) \\\\\n",
    "\\end{bmatrix}\n",
    "$$"
   ]
  },
  {
   "cell_type": "markdown",
   "id": "7455fd12",
   "metadata": {},
   "source": [
    "Example: $x = [x_1, x_2]$ and second-order $\\phi$:\n",
    "- with transforming $x$ and $x'$:\n",
    "    $$\\phi(x) = [1, x_1, x_2, x_1^2, x_2^2, x_1x_2]$$\n",
    "    $$\\phi(x') = [1, x_1', x_2', x_1'^2, x_2'^2, x_1'x_2']$$\n",
    "    Kernel is:\n",
    "    $$K(x, x') = 1 + x_1 x_1' + x_2 x_2' + x_1^2 x_1'^2 + x_2^2 x_2'^2 + x_1 x_1' x_2 x_2'$$\n",
    "\n",
    "- without transforming $x$ and $x'$:\n",
    "    - Consider $K(x, x') = (1 + x^Tx')^2$:\n",
    "    $$K(x, x') = (1 + x^Tx')^2 = (1 + x_1 x_1' + x_2 x_2')^2 = 1 + 2x_1 x_1' + 2x_2 x_2' + x_1^2 x_1'^2 + x_2^2 x_2'^2 + 2 x_1 x_1' x_2 x_2'$$\n",
    "\n",
    "    This is an inner product in:\n",
    "    $$\\phi(x) = [1, \\sqrt{2} x_1, \\sqrt{2} x_2, x_1^2, x_2^2, \\sqrt{2}x_1x_2]$$\n",
    "    $$\\phi(x') = [1, \\sqrt{2} x'_1, \\sqrt{2} x_2', x_1'^2, x_2'^2, \\sqrt{2}x_1'x_2']$$\n",
    "\n",
    "**Results (Polynomial Kernel: Degree 2):**\n",
    "- We instead use $k(x, x')$ = $(1 + x^Tx')^2$ that corresponds to:  \n",
    "    $d$-dimensional feature space $x = [x_1, ..., x_d]^T$\n",
    "    $$\\phi(x) = [1, \\sqrt{2} x_1, ..., \\sqrt{2} x_d, x_1^2, ..., x_d^2, \\sqrt{2}x_1x_2, ..., \\sqrt{2}x_1x_d, \\sqrt{2}x_2x_3, ..., \\sqrt{2}x_{d-1}x_d]^T$$"
   ]
  },
  {
   "cell_type": "markdown",
   "id": "62228ce4",
   "metadata": {},
   "source": [
    "**Why Kernel?**\n",
    "\n",
    "Given:\n",
    "- $d$: Dimensionality of the input.\n",
    "- $M$: Order of polynomials.\n",
    "- $K$: Kernel function\n",
    "\n",
    "$$\n",
    "\\text{Complexity order} = \n",
    "\\begin{cases}\n",
    "O(d^M) &  not using kernel\n",
    "O(d) &  using kernel\\\\\n",
    "\\end{cases}\n",
    "$$\n",
    "\n",
    "**Example:** Consider the second-order polynomial transform:\n",
    "$$\\phi(x) = [1, x_1, ..., x_d, x_1^2, ..., x_d^2, x_1x_2, ..., x_1x_d, x_2x_3, ..., x_{d-1}x_d]^T \\quad (m = 1 + d + d^2)$$\n",
    "- Without using Kernel:\n",
    "    $$\\phi(x)^T\\phi(x') = 1 + \\sum_{i=1}^d x_i x_i' + \\sum_{i=1}^d \\sum_{j=1}^d x_i x_j x_i' x_j' \\quad O(m)$$\n",
    "\n",
    "- With Kernel:\n",
    "    $$\\phi(x)^T\\phi(x') = 1 + (x^Tx') + (x^Tx')^2 \\quad O(d)$$"
   ]
  },
  {
   "cell_type": "markdown",
   "id": "2d6c65a4",
   "metadata": {},
   "source": [
    "**Classifying a New Data**\n",
    "\n",
    "**Primal**\n",
    "$$\\hat{y} = \\text{sign} (w_0 + w^T \\phi(x))$$\n",
    "Where:\n",
    "- $$w = \\sum_{\\alpha_n \\gt 0} \\alpha_n y^{(n)} \\phi(x^{(n)})$$\n",
    "- $$w_0 = y^{(s)} - w^T \\phi(x^{(s)})$$\n",
    "<br><br>\n",
    "**Covert to Dual:**\n",
    "$$\\hat{y} = \\text{sign} (w_0 + \\sum_{\\alpha_n \\gt 0} \\alpha_n y^{(n)} k(x^{(n)}, x))$$\n",
    "Where:\n",
    "- $$w_0 = y^{(s)} - \\sum_{\\alpha_n \\gt 0} \\alpha_n y^{(n)} k(x^{(n)}, x^{(s)})$$"
   ]
  },
  {
   "cell_type": "markdown",
   "id": "ffbeac6c",
   "metadata": {},
   "source": [
    "**Common Kernel Functions**\n",
    "\n",
    "- **Linear:** $k(x, x') = x^Tx'$\n",
    "\n",
    "- **Polynomial:** $k(x, x') = (1 + x^Tx')^M$\n",
    "\n",
    "- **Gaussian:** $k(x, x') = e^{(-\\frac{||x - x'||^2}{\\gamma})}$\n",
    "\n",
    "- **Sigmoid:** $k(x, x') = tanh(ax^Tx' + b)$"
   ]
  },
  {
   "cell_type": "markdown",
   "id": "0c27224a",
   "metadata": {},
   "source": [
    "##### **Polynomial Kernel**"
   ]
  },
  {
   "cell_type": "markdown",
   "id": "ee6b80cf",
   "metadata": {},
   "source": [
    "Earlier we showed for polynomial with degree 2, we have:\n",
    "$$K(x, x') = (1 + x^Tx')^2 = (1 + x_1 x_1' + x_2 x_2')^2$$\n",
    "\n",
    "This can similarly be generalized to:\n",
    "- $d$-dimension $x$\n",
    "- $\\phi$ s are polynomials of order $M$:\n",
    "$$K(x, x') = (1 + x^Tx')^M = (1 + x_1 x_1' + x_2 x_2', ..., x_d x_d')^M$$"
   ]
  },
  {
   "cell_type": "markdown",
   "id": "10d2cd3c",
   "metadata": {},
   "source": [
    "**Example:** SVM boundary for polynomial kernel\n",
    "\n",
    "Primal problem:\n",
    "    $$w_0 + w^T \\phi(x) = 0$$\n",
    "Dual problem:\n",
    "    $$w_0 + \\sum_{\\alpha_i \\gt 0} \\alpha_i y^{(i)} \\phi(x^{(i)})^T \\phi(x)$$\n",
    "Since $K(x^{(i)}, x) = \\phi(x^{(i)})^T \\phi(x)$, then:\n",
    "    $$w_0 + \\sum_{\\alpha_i \\gt 0} \\alpha_i y^{(i)} K(x^{(i)}, x)$$\n",
    "For polynomial kernel $K(x, x') = (1 + x^Tx')^M$, then:\n",
    "    $$w_0 + \\sum_{\\alpha_i \\gt 0} \\alpha_i y^{(i)} (1 + x^Tx')^M$$\n",
    "\n",
    "**Result:** Boundary is a polynomial of order $M$"
   ]
  },
  {
   "cell_type": "markdown",
   "id": "ef89962b",
   "metadata": {},
   "source": [
    "##### **Gaussian (RBF) Kernel**"
   ]
  },
  {
   "cell_type": "markdown",
   "id": "d33304fe",
   "metadata": {},
   "source": [
    "The RBF kernel corresponds to an inner product in a space spanned by **infinitely** many basis functions (via **Taylor expansion**).\n",
    "\n",
    "$$K(x, x') = e^{(-\\frac{||x - x'||^2}{\\gamma})}$$\n",
    "Take one dimensional case with $\\gamma = 1$:\n",
    "$$K(x, x') = e^{||x - x'||^2} = - e^{-x^2} e^{-x'^2} e^{2xx'}$$\n",
    "\n",
    "Taylor Expansion of cross-term ($e^{2xx'}$):\n",
    "$$\\sum_{k=1}^{\\infty} \\frac{2^k x^k x'^k}{k!}$$\n",
    "\n",
    "So:\n",
    "$$\\phi(x) = e^{-x^2} [x^0, \\frac{\\sqrt{2^0}}{0!}x, \\frac{\\sqrt{2^1}}{1!}x^2, ...]$$"
   ]
  },
  {
   "cell_type": "markdown",
   "id": "1667a8e7",
   "metadata": {},
   "source": [
    "**Decision Boundary:**\n",
    "$$w_0 + \\sum_{\\alpha_i \\gt 0} \\alpha_i y^{(i)} e^{(-\\frac{||x - x^{(i)}||^2}{\\sigma})} = 0$$\n",
    "\n",
    "Where:\n",
    "$$w_0 = y^{(s)} - \\sum_{\\alpha_i \\gt 0} \\alpha_i y^{(i)} e^{(-\\frac{||x^{(i)} - x^{(s)}||^2}{\\sigma})}$$\n",
    "\n",
    "Since Gaussian kernel operates in an **infinite-dimensional** feature space, can classify any arbitrary training set with **no training error**:\n",
    "- Training error becomes zero when $\\sigma \\rightarrow 0$\n",
    "- All samples become support vector (overfitting)\n",
    "\n",
    "<div style=\"text-align:center\">\n",
    "  <img src=\"images/RBF.png\" alt=\"RBF\">\n",
    "</div>"
   ]
  },
  {
   "cell_type": "markdown",
   "id": "f01541bf",
   "metadata": {},
   "source": [
    "#### **Kernel Trick**"
   ]
  },
  {
   "cell_type": "markdown",
   "id": "a9704052",
   "metadata": {},
   "source": [
    "##### **Introduction**"
   ]
  },
  {
   "cell_type": "markdown",
   "id": "bbbe61af",
   "metadata": {},
   "source": [
    "**Kernel Trick:**\n",
    "- A technique to extend linear algorithms to non-linear versions by implicitly mapping data to high-dimensional spaces.\n",
    "- Replace the inner product of $x$ and $x'$ in the transformed space with the kernel function."
   ]
  },
  {
   "cell_type": "markdown",
   "id": "9630d8da",
   "metadata": {},
   "source": [
    "Use when **input vectors** appear **only** as **dot products** in the algorithm.\n",
    "\n",
    "Advantages:\n",
    "- Solving the problem without explicitly mapping the data\n",
    "- Explicit mapping is expensive if $\\phi(x)$ is very high dimensional"
   ]
  },
  {
   "cell_type": "markdown",
   "id": "bd4ba531",
   "metadata": {},
   "source": [
    "##### **Valid Kernels: Construction & Verification**"
   ]
  },
  {
   "cell_type": "markdown",
   "id": "c16ec96b",
   "metadata": {},
   "source": [
    "For constructing kernel function directly, we need to ensure it is a **valid kernel**.\n",
    "\n",
    "**Valid Kernel:** Kernel matrix, is as an inner product matrix in some space.\n",
    "\n",
    "**Example:**\n",
    "$$k(x, x') = (1 + x^Tx')^2$$\n",
    "Corresponding Mapping for $x = [x_1, x_2]^T$:\n",
    "$$\\phi(x) = [x_1^2, \\sqrt{2}x_1x_2, x_2^2]^T$$\n",
    "\n",
    "We need a way to test whether a kernel is valid without having to construct $\\phi(x)$."
   ]
  },
  {
   "cell_type": "markdown",
   "id": "177646c7",
   "metadata": {},
   "source": [
    "**Necessary & sufficient conditions**\n",
    "\n",
    "**Gram Matrix**  \n",
    "For any dataset $\\{x^{(1)}, ..., x^{(N)}\\}$ The Gram matrix $K_{N \\times N}: K_{ij} = k(x^{(i)}, x^{(j)})$ must be:\n",
    "\n",
    "$$\n",
    "K = \n",
    "\\begin{bmatrix}\n",
    "k(x^{(1)}, x^{(1)}) & \\cdots & k(x^{(1)}, x^{(N)}) \\\\\n",
    "\\vdots & \\ddots & \\vdots \\\\\n",
    "k(x^{(N)}, x^{(1)}) & \\cdots & k(x^{(N)}, x^{(N)}) \\\\\n",
    "\\end{bmatrix}\n",
    "$$\n",
    "\n",
    "**Mercer Theorem:**  \n",
    "A function $K$ is a valid kernel iff:\n",
    "- It is **symmetric**.\n",
    "- For all finite datasets, $K$ is **Positive Semi-Definite (PSD)**.\n",
    "\n",
    "**Mercer Conditions:**\n",
    "- **Symmetry:**\n",
    "    $$k(x, x') = \\phi(x)^T\\phi(x') = \\phi(x')^T\\phi(x) = k(x', x)$$\n",
    "- **Positive Semi-Definiteness:**\n",
    "    - The Gram matrix ​$K$ must satisfy:\n",
    "    $$c^T K c \\ge 0 \\quad \\forall c \\in R^N$$\n",
    "    - If the Gram matrix $K$ can be factored as $K = BB^T$, then $K$ is positive semi-definite (PSD).\n",
    "        - Proof:  \n",
    "        for any real vector $v \\neq 0$\n",
    "        $$v^T K v = v^T (B B^T) v = (B^T v)^T (B^T v) = ||B^T v||^2 \\ge 0$$"
   ]
  },
  {
   "cell_type": "markdown",
   "id": "fdc9452f",
   "metadata": {},
   "source": [
    "##### **Example: Minimum Distance Classifier**"
   ]
  },
  {
   "cell_type": "markdown",
   "id": "eac90aa6",
   "metadata": {},
   "source": [
    "**Problem:**\n",
    "\n",
    "Assign a point $x$ to class $C_1$ if its Euclidean distance to $\\mu_1$ (mean of $C_1$) is smaller than to $\\mu_2$ (mean of $C_2$):\n",
    "$$||x - \\mu_1|| \\lt ||x - \\mu_2|| \\implies x \\in C_1$$\n",
    "Where:\n",
    "$$\\mu_1 = \\frac{\\sum_{y^{(i)} = 1} x^{(i)}}{N_1}, \\quad \\mu_2 = \\frac{\\sum_{y^{(i)} = 2} x^{(i)}}{N_2}$$\n",
    "\n",
    "**Kernel-Based Solution:**\n",
    "$$(x - \\mu_1)^T(x - \\mu_1) \\lt (x - \\mu_2)^T(x - \\mu_2)$$\n",
    "$$x^Tx - 2x^T\\mu_1 + \\mu_1^T\\mu_1 \\lt x^Tx - 2x^T\\mu_2 + \\mu_2^T\\mu_2$$\n",
    "\n",
    "Substitute Class Means:\n",
    "$$-2 \\frac{\\sum_{y^{(n)} = 1} x^T x^{(n)}}{N_1} + \\frac{\\sum_{y^{(n)} = 1} \\sum_{y^{(m)} = 1} {x^{(n)}}^T x^{(m)}}{{N_1}^2} \\lt -2 \\frac{\\sum_{y^{(n)} = 2} x^T x^{(n)}}{N_2} + \\frac{\\sum_{y^{(n)} = 2} \\sum_{y^{(m)} = 2} {x^{(n)}}^T x^{(m)}}{{N_2}^2}$$\n",
    "\n",
    "Replace inner products with kernel function:\n",
    "$$-2 \\frac{\\sum_{y^{(n)} = 1} K(x, x^{(n)})}{N_1} + \\frac{\\sum_{y^{(n)} = 1} \\sum_{y^{(m)} = 1} K(x^{(n)}, x^{(m)})}{{N_1}^2} \\lt -2 \\frac{\\sum_{y^{(n)} = 2} K(x, x^{(n)})}{N_2} + \\frac{\\sum_{y^{(n)} = 2} \\sum_{y^{(m)} = 2} K(x^{(n)}, x^{(m)})}{{N_2}^2}$$"
   ]
  },
  {
   "cell_type": "markdown",
   "id": "415bb4a4",
   "metadata": {},
   "source": [
    "**Applications:**\n",
    "\n",
    "- We know all pairwise distances (include distance of points from center of mass of a set)\n",
    "- Many *dimensionality reduction*, *clustering*, and *classification methods* rely on **pairwise distances**."
   ]
  },
  {
   "cell_type": "markdown",
   "id": "17de3f97",
   "metadata": {},
   "source": [
    "##### **Example: Kernel ridge regression**"
   ]
  },
  {
   "cell_type": "markdown",
   "id": "54a72eec",
   "metadata": {},
   "source": [
    "**Ridge Regression Optimization Problem:**\n",
    "$$\\min_w \\left(\\sum_{n=1}^N (w^T x^{(n)} - y^{(n)})^2 + \\lambda w^T w \\right)$$\n",
    "Equivalently:\n",
    "$$\\nabla_w J(w) = 0 \\implies \\sum_{n=1}^N 2 x^{(n)} (w^T x^{(n)} - y^{(n)}) + 2 \\lambda w = 0$$\n",
    "$$w = \\sum_{n=1}^N -\\frac{1}{\\lambda} (w^Tx^{(n)} - y^{(n)}) x^{(n)}$$\n",
    "Let $\\alpha_n = -\\frac{1}{\\lambda} (w^Tx^{(n)} - y^{(n)})$, we have:\n",
    "$$w = \\sum_{n=1}^N \\alpha_n x^{(n)}$$\n",
    "After transform to new space:\n",
    "$$w = \\sum_{n=1}^N \\alpha_n \\phi(x^{(n)}) = \\Phi^T \\alpha$$\n",
    "\n",
    "Replace $w$ in primal problem. Dual representation:\n",
    "$$J(w) = \\alpha^T \\phi \\phi^T \\phi \\phi^T \\alpha - 2 \\alpha^T \\phi \\phi^T y + y^T y + \\lambda \\alpha^T \\phi \\phi^T \\alpha$$\n",
    "Replace inner products with kernel function:\n",
    "$$J(\\alpha) = \\alpha^T K K \\alpha - 2 \\alpha^T K y + y^T y + \\lambda \\alpha^T K \\alpha$$\n",
    "$$\\nabla_{\\alpha}J(\\alpha) = 0 \\implies \\alpha = (K + \\lambda I_N)^{-1}y$$"
   ]
  },
  {
   "cell_type": "markdown",
   "id": "92cfc918",
   "metadata": {},
   "source": [
    "**Prediction for new $x$**\n",
    "\n",
    "For a new input $x$, the predicted output $f(x)$ is computed as:\n",
    "$$f(x) = w^T\\phi(x)$$\n",
    "\n",
    "Weight Vector in Dual Form:\n",
    "$$w = \\Phi^T \\alpha = \\sum_{n=1}^N \\alpha_n \\phi(x^{(n)})$$\n",
    "With the design matrix:\n",
    "$$\n",
    "\\Phi = \\begin{bmatrix}\n",
    "\\phi(x^{(1)})^T \\\\ \n",
    "\\vdots \\\\ \n",
    "\\phi(x^{(N)})^T\n",
    "\\end{bmatrix}\n",
    "$$\n",
    "\n",
    "Kernel Trick Application:\n",
    "$$f(x) = \\sum_{n=1}^N \\alpha_n K(x^{(n)}, x) = K(x^{(n)}, x)^T \\alpha$$\n",
    "$$\n",
    "f(x) = \n",
    "\\underbrace{\n",
    "\\begin{bmatrix}\n",
    "K(x^{(1)}, x) \\\\\n",
    "\\vdots \\\\\n",
    "K(x^{(N)}, x)\n",
    "\\end{bmatrix}^T\n",
    "}_{\\text{Kernel vector}}\n",
    "\\underbrace{\n",
    "(K + \\lambda I_N)^{-1} y\n",
    "}_{\\text{Trained coefficients}}\n",
    "$$"
   ]
  },
  {
   "cell_type": "markdown",
   "id": "368c1e7c",
   "metadata": {},
   "source": [
    "**Kernel vs. Non-Kernel Solutions**\n",
    "\n",
    "**With kernel:**\n",
    "- **Matrix Size:**  \n",
    "    Operates on an $N \\times N$ kernel matrix $K$, where $K_{ij} = k(x^{(i)}, x^{(j)})$ for $N$ samples.\n",
    "\n",
    "- **Solution Form:**\n",
    "    $$\\alpha = (K + \\lambda I_N)^{-1}y$$\n",
    "    Here, $\\lambda I_N$ ensures numerical stability (ridge regularization).\n",
    "\n",
    "- **When to Use:**  \n",
    "    - High-dimensional data ($d \\gg N$), as $N \\times N$ is smaller than $d \\times d$.  \n",
    "    - Non-linear patterns, since kernels implicitly map to high-D spaces."
   ]
  },
  {
   "cell_type": "markdown",
   "id": "c42b28d4",
   "metadata": {},
   "source": [
    "**Without Kernel:**\n",
    "- **Matrix Size:**  \n",
    "    Involves a $d \\times d$ matrix $XX^T$ for $d$-dimensional features.        \n",
    "- **Solution Form:**\n",
    "    $$\\alpha = (XX^T + \\lambda I_d)^{-1}y$$\n",
    "- **When to Use:**\n",
    "    - Low-dimensional data ($d \\ll N$), where $d \\times d$ is tractable.\n",
    "    - Linear problems, as no kernel mapping is needed.\n",
    "\n",
    "In classification (e.g., SVM), many $\\alpha_i=0$ (support vectors only).  \n",
    "In regression usually $d \\ll N$"
   ]
  },
  {
   "cell_type": "markdown",
   "id": "b436bb23",
   "metadata": {},
   "source": [
    "##### **Kernel for Structured Data**"
   ]
  },
  {
   "cell_type": "markdown",
   "id": "d89cb081",
   "metadata": {},
   "source": [
    "Kernels can operate on **any data type** (graphs, strings, trees, etc.) as long as we define a valid similarity measure $K(x, x′)$ that is:\n",
    "- **Symmetric**\n",
    "- **Positive Semi-Definite (PSD)**\n",
    "\n",
    "Use kernel-based version of classical learning algorithms for recognition of **structured data**"
   ]
  },
  {
   "cell_type": "markdown",
   "id": "cfc2bbe4",
   "metadata": {},
   "source": [
    "**Why Inner Products (kernel) $\\equiv$ Similarity:**\n",
    "\n",
    "For vectors: $K(x, x') = x^T x' = \\|x\\| \\|x'\\| \\cos(\\theta)$  \n",
    "(Cosine similarity normalized by magnitudes).\n"
   ]
  },
  {
   "cell_type": "markdown",
   "id": "cc9a30a7",
   "metadata": {},
   "source": [
    "**Example: Kernel Function for Objects**\n",
    "\n",
    "**Strings** (Sets): The inner product of the feature vectors for two strings can be defined as\n",
    "$$k(A, B) = 2^{|A \\cap B|}$$\n",
    "Sum over all common subsequences weighted according to their frequency of occurrence and lengths"
   ]
  },
  {
   "cell_type": "markdown",
   "id": "e6af8095",
   "metadata": {},
   "source": [
    "##### **Summary**"
   ]
  },
  {
   "cell_type": "markdown",
   "id": "9d51c471",
   "metadata": {},
   "source": [
    "**Key Properties of Kernel Methods**\n",
    "\n",
    "- **Implicit Feature Space Operations:**\n",
    "    - Operating in the mapped space **without ever computing** the coordinates of the data in that space\n",
    "    \n",
    "    - Mathematically:\n",
    "        $$f(x)=\\sum_{n=1​}^N \\alpha_n ​K(x^{(n)} ,x)$$\n",
    "        where $K(x^{(i)}, x) = \\langle \\phi(x^{(i)}), \\phi(x) \\rangle$ avoids explicit $\\phi(x)$ calculation.\n",
    "\n",
    "- **Structured Data Kernels:**\n",
    "    - Besides vectors, kernels can be defined for non-vectorial (structured) data like (graphs, strings, etc.)\n",
    "\n",
    "- **Geometry Through Dot Products:**\n",
    "    - Cosine similarity $\\propto K(x, x')$ when $|\\phi(x)| = 1$.\n",
    "\n",
    "- **Efficient Inner Products:**\n",
    "    - Inner products in high-D spaces can be computed efficiently via kernels:"
   ]
  },
  {
   "cell_type": "markdown",
   "id": "0813659d",
   "metadata": {},
   "source": [
    "## Decision Tree"
   ]
  },
  {
   "cell_type": "markdown",
   "id": "84a96681",
   "metadata": {},
   "source": [
    "## Instance-Based Models"
   ]
  }
 ],
 "metadata": {
  "kernelspec": {
   "display_name": "Python 3",
   "language": "python",
   "name": "python3"
  },
  "language_info": {
   "codemirror_mode": {
    "name": "ipython",
    "version": 3
   },
   "file_extension": ".py",
   "mimetype": "text/x-python",
   "name": "python",
   "nbconvert_exporter": "python",
   "pygments_lexer": "ipython3",
   "version": "3.12.5"
  }
 },
 "nbformat": 4,
 "nbformat_minor": 5
}
