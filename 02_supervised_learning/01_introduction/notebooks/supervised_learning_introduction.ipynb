{
 "cells": [
  {
   "cell_type": "markdown",
   "id": "fce67edf",
   "metadata": {},
   "source": [
    "# Supervised Learning Introduction"
   ]
  },
  {
   "cell_type": "markdown",
   "id": "63644879",
   "metadata": {},
   "source": [
    "## Definition And Goal"
   ]
  },
  {
   "cell_type": "markdown",
   "id": "0414ba91",
   "metadata": {},
   "source": [
    "**Definition:** A form of machine learning where the model learns from labeled data ${(xi, yi)}$ to predict an output y given an input x.\n",
    "\n",
    "**Goal:**  Estimate a function $f : R^D \\rightarrow R$, such that $y = f(x) + \\epsilon$, where $\\epsilon$ always is noise."
   ]
  },
  {
   "cell_type": "markdown",
   "id": "5ba965d8",
   "metadata": {},
   "source": [
    "## Learning Model"
   ]
  },
  {
   "cell_type": "markdown",
   "id": "80633011",
   "metadata": {},
   "source": [
    "The **Learning Model** consists of:  \n",
    "* **Hypothesis Set:** Defines the hypothesis space $H = \\{h(x,\\theta) \\mid \\theta \\in \\Theta\\}$, where:\n",
    "    - $h(x,\\theta)$ represents candidate functions\n",
    "    - $\\theta$ are the learnable parameters\n",
    "    - $\\Theta$ is the parameter space\n",
    "\n",
    "* **Learning Algorithm:**\n",
    "    - Using training set $D$ and a cost function we find function $h(x) \\in H \\approx \\text{target  function}$   \n",
    "    or\n",
    "    - Find $\\theta^* \\in \\Theta$ such that $h(x,\\theta^*) \\approx f(x)$.\n",
    "\n",
    "* **Evaluation**:  \n",
    "    - measure how well estimated function generalizes to unseen examples."
   ]
  },
  {
   "cell_type": "markdown",
   "id": "f2c81479",
   "metadata": {},
   "source": [
    "**Unknown target function:** $f: x \\rightarrow y$ where $x$ is input space and $y$ is output space  \n",
    "**Training data:** ${(x_1, y_1)}$, ${(x_2, y_2)}$, ..., ${(x_N, y_N)}$  \n",
    "from hypothesis set $H$ **pick a formula** $g: x \\rightarrow y$ that approximates the target function $f$\n",
    "<div style=\"text-align:center\">\n",
    "  <img src=\"images/SLComponents.png\" alt=\"Supervised learning components\">\n",
    "</div>"
   ]
  },
  {
   "cell_type": "markdown",
   "id": "f0e005ad",
   "metadata": {},
   "source": [
    "## Regression vs Classification  "
   ]
  },
  {
   "cell_type": "markdown",
   "id": "64341357",
   "metadata": {},
   "source": [
    "* ***Regression:*** predict a *continuous* target variable\n",
    "* ***Classification:*** predict a *discrete* target variable"
   ]
  }
 ],
 "metadata": {
  "language_info": {
   "name": "python"
  }
 },
 "nbformat": 4,
 "nbformat_minor": 5
}
